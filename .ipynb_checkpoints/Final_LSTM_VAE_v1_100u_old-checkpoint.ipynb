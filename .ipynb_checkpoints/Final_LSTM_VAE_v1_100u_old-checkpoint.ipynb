{
 "cells": [
  {
   "cell_type": "markdown",
   "id": "e4f24b2b-0013-4ed9-a422-4a984b454b9d",
   "metadata": {},
   "source": [
    "## Imports"
   ]
  },
  {
   "cell_type": "code",
   "execution_count": 107,
   "id": "a30bca00-7c9a-4cad-b7f7-33a74d222f14",
   "metadata": {
    "tags": []
   },
   "outputs": [
    {
     "name": "stdout",
     "output_type": "stream",
     "text": [
      "PyTorch version 1.13.1+cu117\n"
     ]
    }
   ],
   "source": [
    "import time\n",
    "import copy\n",
    "import random\n",
    "import numpy as np\n",
    "import pandas as pd\n",
    "import seaborn as sns\n",
    "import matplotlib.pyplot as plt\n",
    "from sklearn.preprocessing import MinMaxScaler\n",
    "from sklearn.model_selection import train_test_split\n",
    "\n",
    "import torch\n",
    "from torch import nn     # All neural network modules, nn.Linear, nn.Conv2d, BatchNorm, Loss function\n",
    "import torch.optim as optim     # For all Optimization algorithms, SGD, Adam, etc.\n",
    "import torch.nn.functional as F     # All functions that don't have any parameters\n",
    "from torch.utils.data import TensorDataset, DataLoader     # Gives easier dataset management and creates mini batchs\n",
    "import torchvision.transforms as transforms     # Transformations we can perform on our dataset\n",
    "\n",
    "import warnings\n",
    "warnings.simplefilter(\"ignore\")\n",
    "\n",
    "print(\"PyTorch version \" + torch.__version__)"
   ]
  },
  {
   "cell_type": "markdown",
   "id": "4303968f-2380-4c16-a77c-b3b422b41b79",
   "metadata": {},
   "source": [
    "## Import utility functions"
   ]
  },
  {
   "cell_type": "code",
   "execution_count": 97,
   "id": "f4fe235e-ea04-40d9-8c9d-b06e5c219b24",
   "metadata": {
    "tags": []
   },
   "outputs": [],
   "source": [
    "from helper_train import train_autoencoder_v1\n",
    "from helper_data import get_dataloaders_mnist\n",
    "from helper_train import train_vae_v1, train_vae_v2\n",
    "from helper_utils import set_deterministic, set_all_seeds\n",
    "from helper_plotting import plot_training_loss\n",
    "from helper_plotting import plot_accuracy\n",
    "from helper_plotting import plot_generated_images\n",
    "from helper_plotting import plot_latent_space_with_labels\n",
    "from helper_plotting import plot_images_sampled_from_vae"
   ]
  },
  {
   "cell_type": "code",
   "execution_count": 166,
   "id": "baca8ed1-f3dd-408e-9125-da701cef36ee",
   "metadata": {
    "tags": []
   },
   "outputs": [
    {
     "name": "stdout",
     "output_type": "stream",
     "text": [
      "Device: cuda:0\n"
     ]
    }
   ],
   "source": [
    "##########################\n",
    "### SETTINGS\n",
    "##########################\n",
    "\n",
    "# Device\n",
    "CUDA_DEVICE_NUM = 0\n",
    "device = torch.device(f'cuda:{CUDA_DEVICE_NUM}' if torch.cuda.is_available() else 'cpu')\n",
    "print('Device:', device)\n",
    "\n",
    "# Hyperparameters\n",
    "RANDOM_SEED = 42\n",
    "# LEARNING_RATE = 0.0001\n",
    "BATCH_SIZE = 1704\n",
    "# NUM_EPOCHS = 100"
   ]
  },
  {
   "cell_type": "code",
   "execution_count": 167,
   "id": "e2f0576d-661d-4080-9cc3-0c90772c6285",
   "metadata": {
    "tags": []
   },
   "outputs": [],
   "source": [
    "set_deterministic\n",
    "set_all_seeds(RANDOM_SEED)"
   ]
  },
  {
   "cell_type": "markdown",
   "id": "bd804e9a-eebf-4dac-afca-dc8b21f887d3",
   "metadata": {},
   "source": [
    "## 1. ETL (Extract, Transform, Load)"
   ]
  },
  {
   "cell_type": "code",
   "execution_count": 104,
   "id": "7e95d4b8-39d0-4da1-8c97-30fb2854dcdd",
   "metadata": {
    "tags": []
   },
   "outputs": [
    {
     "data": {
      "text/html": [
       "<div>\n",
       "<style scoped>\n",
       "    .dataframe tbody tr th:only-of-type {\n",
       "        vertical-align: middle;\n",
       "    }\n",
       "\n",
       "    .dataframe tbody tr th {\n",
       "        vertical-align: top;\n",
       "    }\n",
       "\n",
       "    .dataframe thead th {\n",
       "        text-align: right;\n",
       "    }\n",
       "</style>\n",
       "<table border=\"1\" class=\"dataframe\">\n",
       "  <thead>\n",
       "    <tr style=\"text-align: right;\">\n",
       "      <th></th>\n",
       "      <th>MeterID</th>\n",
       "      <th>DATE-Time</th>\n",
       "      <th>KWH</th>\n",
       "      <th>user</th>\n",
       "    </tr>\n",
       "  </thead>\n",
       "  <tbody>\n",
       "    <tr>\n",
       "      <th>0</th>\n",
       "      <td>6200093839</td>\n",
       "      <td>2021-01-01 00:00:00</td>\n",
       "      <td>0.602</td>\n",
       "      <td>0</td>\n",
       "    </tr>\n",
       "    <tr>\n",
       "      <th>1</th>\n",
       "      <td>6200093839</td>\n",
       "      <td>2021-01-01 00:15:00</td>\n",
       "      <td>0.589</td>\n",
       "      <td>0</td>\n",
       "    </tr>\n",
       "    <tr>\n",
       "      <th>2</th>\n",
       "      <td>6200093839</td>\n",
       "      <td>2021-01-01 00:30:00</td>\n",
       "      <td>0.410</td>\n",
       "      <td>0</td>\n",
       "    </tr>\n",
       "    <tr>\n",
       "      <th>3</th>\n",
       "      <td>6200093839</td>\n",
       "      <td>2021-01-01 00:45:00</td>\n",
       "      <td>0.495</td>\n",
       "      <td>0</td>\n",
       "    </tr>\n",
       "    <tr>\n",
       "      <th>4</th>\n",
       "      <td>6200093839</td>\n",
       "      <td>2021-01-01 01:00:00</td>\n",
       "      <td>0.450</td>\n",
       "      <td>0</td>\n",
       "    </tr>\n",
       "    <tr>\n",
       "      <th>...</th>\n",
       "      <td>...</td>\n",
       "      <td>...</td>\n",
       "      <td>...</td>\n",
       "      <td>...</td>\n",
       "    </tr>\n",
       "    <tr>\n",
       "      <th>40181914</th>\n",
       "      <td>6200051044</td>\n",
       "      <td>2021-07-31 22:45:00</td>\n",
       "      <td>0.473</td>\n",
       "      <td>2000</td>\n",
       "    </tr>\n",
       "    <tr>\n",
       "      <th>40181915</th>\n",
       "      <td>6200051044</td>\n",
       "      <td>2021-07-31 23:00:00</td>\n",
       "      <td>0.461</td>\n",
       "      <td>2000</td>\n",
       "    </tr>\n",
       "    <tr>\n",
       "      <th>40181916</th>\n",
       "      <td>6200051044</td>\n",
       "      <td>2021-07-31 23:15:00</td>\n",
       "      <td>0.445</td>\n",
       "      <td>2000</td>\n",
       "    </tr>\n",
       "    <tr>\n",
       "      <th>40181917</th>\n",
       "      <td>6200051044</td>\n",
       "      <td>2021-07-31 23:30:00</td>\n",
       "      <td>0.460</td>\n",
       "      <td>2000</td>\n",
       "    </tr>\n",
       "    <tr>\n",
       "      <th>40181918</th>\n",
       "      <td>6200051044</td>\n",
       "      <td>2021-07-31 23:45:00</td>\n",
       "      <td>0.426</td>\n",
       "      <td>2000</td>\n",
       "    </tr>\n",
       "  </tbody>\n",
       "</table>\n",
       "<p>40181919 rows × 4 columns</p>\n",
       "</div>"
      ],
      "text/plain": [
       "             MeterID            DATE-Time    KWH  user\n",
       "0         6200093839  2021-01-01 00:00:00  0.602     0\n",
       "1         6200093839  2021-01-01 00:15:00  0.589     0\n",
       "2         6200093839  2021-01-01 00:30:00  0.410     0\n",
       "3         6200093839  2021-01-01 00:45:00  0.495     0\n",
       "4         6200093839  2021-01-01 01:00:00  0.450     0\n",
       "...              ...                  ...    ...   ...\n",
       "40181914  6200051044  2021-07-31 22:45:00  0.473  2000\n",
       "40181915  6200051044  2021-07-31 23:00:00  0.461  2000\n",
       "40181916  6200051044  2021-07-31 23:15:00  0.445  2000\n",
       "40181917  6200051044  2021-07-31 23:30:00  0.460  2000\n",
       "40181918  6200051044  2021-07-31 23:45:00  0.426  2000\n",
       "\n",
       "[40181919 rows x 4 columns]"
      ]
     },
     "execution_count": 104,
     "metadata": {},
     "output_type": "execute_result"
    }
   ],
   "source": [
    "df = pd.read_csv('datasets/selected_2000user_v2.csv')\n",
    "df"
   ]
  },
  {
   "cell_type": "code",
   "execution_count": 105,
   "id": "3051c84c-ca0d-4c4a-ac89-96b14e5de7d6",
   "metadata": {
    "tags": []
   },
   "outputs": [
    {
     "data": {
      "text/plain": [
       "477"
      ]
     },
     "execution_count": 105,
     "metadata": {},
     "output_type": "execute_result"
    }
   ],
   "source": [
    "cluster_1 = pd.read_csv('datasets/cluster_1.csv')\n",
    "len(cluster_1)"
   ]
  },
  {
   "cell_type": "code",
   "execution_count": 106,
   "id": "6c9527f6-657a-44be-9406-9b326313a70c",
   "metadata": {
    "tags": []
   },
   "outputs": [
    {
     "name": "stdout",
     "output_type": "stream",
     "text": [
      "477\n"
     ]
    },
    {
     "data": {
      "text/html": [
       "<div>\n",
       "<style scoped>\n",
       "    .dataframe tbody tr th:only-of-type {\n",
       "        vertical-align: middle;\n",
       "    }\n",
       "\n",
       "    .dataframe tbody tr th {\n",
       "        vertical-align: top;\n",
       "    }\n",
       "\n",
       "    .dataframe thead th {\n",
       "        text-align: right;\n",
       "    }\n",
       "</style>\n",
       "<table border=\"1\" class=\"dataframe\">\n",
       "  <thead>\n",
       "    <tr style=\"text-align: right;\">\n",
       "      <th></th>\n",
       "      <th>MeterID</th>\n",
       "      <th>DATE-Time</th>\n",
       "      <th>KWH</th>\n",
       "      <th>user</th>\n",
       "    </tr>\n",
       "  </thead>\n",
       "  <tbody>\n",
       "    <tr>\n",
       "      <th>0</th>\n",
       "      <td>6200093839</td>\n",
       "      <td>2021-01-01 00:00:00</td>\n",
       "      <td>0.602</td>\n",
       "      <td>0</td>\n",
       "    </tr>\n",
       "    <tr>\n",
       "      <th>1</th>\n",
       "      <td>6200093839</td>\n",
       "      <td>2021-01-01 00:15:00</td>\n",
       "      <td>0.589</td>\n",
       "      <td>0</td>\n",
       "    </tr>\n",
       "    <tr>\n",
       "      <th>2</th>\n",
       "      <td>6200093839</td>\n",
       "      <td>2021-01-01 00:30:00</td>\n",
       "      <td>0.410</td>\n",
       "      <td>0</td>\n",
       "    </tr>\n",
       "    <tr>\n",
       "      <th>3</th>\n",
       "      <td>6200093839</td>\n",
       "      <td>2021-01-01 00:45:00</td>\n",
       "      <td>0.495</td>\n",
       "      <td>0</td>\n",
       "    </tr>\n",
       "    <tr>\n",
       "      <th>4</th>\n",
       "      <td>6200093839</td>\n",
       "      <td>2021-01-01 01:00:00</td>\n",
       "      <td>0.450</td>\n",
       "      <td>0</td>\n",
       "    </tr>\n",
       "    <tr>\n",
       "      <th>...</th>\n",
       "      <td>...</td>\n",
       "      <td>...</td>\n",
       "      <td>...</td>\n",
       "      <td>...</td>\n",
       "    </tr>\n",
       "    <tr>\n",
       "      <th>40142906</th>\n",
       "      <td>6200050858</td>\n",
       "      <td>2021-07-31 22:45:00</td>\n",
       "      <td>0.000</td>\n",
       "      <td>1998</td>\n",
       "    </tr>\n",
       "    <tr>\n",
       "      <th>40142907</th>\n",
       "      <td>6200050858</td>\n",
       "      <td>2021-07-31 23:00:00</td>\n",
       "      <td>0.008</td>\n",
       "      <td>1998</td>\n",
       "    </tr>\n",
       "    <tr>\n",
       "      <th>40142908</th>\n",
       "      <td>6200050858</td>\n",
       "      <td>2021-07-31 23:15:00</td>\n",
       "      <td>0.024</td>\n",
       "      <td>1998</td>\n",
       "    </tr>\n",
       "    <tr>\n",
       "      <th>40142909</th>\n",
       "      <td>6200050858</td>\n",
       "      <td>2021-07-31 23:30:00</td>\n",
       "      <td>0.017</td>\n",
       "      <td>1998</td>\n",
       "    </tr>\n",
       "    <tr>\n",
       "      <th>40142910</th>\n",
       "      <td>6200050858</td>\n",
       "      <td>2021-07-31 23:45:00</td>\n",
       "      <td>0.000</td>\n",
       "      <td>1998</td>\n",
       "    </tr>\n",
       "  </tbody>\n",
       "</table>\n",
       "<p>9585962 rows × 4 columns</p>\n",
       "</div>"
      ],
      "text/plain": [
       "             MeterID            DATE-Time    KWH  user\n",
       "0         6200093839  2021-01-01 00:00:00  0.602     0\n",
       "1         6200093839  2021-01-01 00:15:00  0.589     0\n",
       "2         6200093839  2021-01-01 00:30:00  0.410     0\n",
       "3         6200093839  2021-01-01 00:45:00  0.495     0\n",
       "4         6200093839  2021-01-01 01:00:00  0.450     0\n",
       "...              ...                  ...    ...   ...\n",
       "40142906  6200050858  2021-07-31 22:45:00  0.000  1998\n",
       "40142907  6200050858  2021-07-31 23:00:00  0.008  1998\n",
       "40142908  6200050858  2021-07-31 23:15:00  0.024  1998\n",
       "40142909  6200050858  2021-07-31 23:30:00  0.017  1998\n",
       "40142910  6200050858  2021-07-31 23:45:00  0.000  1998\n",
       "\n",
       "[9585962 rows x 4 columns]"
      ]
     },
     "execution_count": 106,
     "metadata": {},
     "output_type": "execute_result"
    }
   ],
   "source": [
    "df = df[df['user'].isin(cluster_1['Series'])]\n",
    "print(df['user'].nunique())\n",
    "df"
   ]
  },
  {
   "cell_type": "markdown",
   "id": "13667737-a079-44cb-9c22-d17b7e23135a",
   "metadata": {},
   "source": [
    "## 2. EDA (Exploratory Data Analysis)"
   ]
  },
  {
   "cell_type": "code",
   "execution_count": 108,
   "id": "3db7c3c5-0561-47b4-8866-08a0e806b30c",
   "metadata": {
    "tags": []
   },
   "outputs": [],
   "source": [
    "# Updated\n",
    "def clean_data(df, user_id):\n",
    "    # Select the data for the specified user\n",
    "    user_data = df[df['user']==int(user_id)]\n",
    "\n",
    "    # Drop not useful columns\n",
    "    user_data['DATE-Time'] = pd.to_datetime(user_data['DATE-Time'], infer_datetime_format=True)\n",
    "    user_data.drop(columns=[\"MeterID\", \"user\"], inplace=True)\n",
    "\n",
    "    # Resample `15min` in order to have completed `\"DATE-Time\"`\n",
    "    # I have `'DATE-Time'` 32760 rows (32760/96=341.25 Days)\n",
    "    # It should be (365day * 96point = 35040 rows)\n",
    "    # I have to reset index in order to hava 35040 rows\n",
    "    # Fill the missing value\n",
    "    user_data = user_data.set_index('DATE-Time').resample(\"15T\").mean()\n",
    "    \n",
    "    # Convert the index to a DatetimeIndex object\n",
    "    user_data.index = pd.to_datetime(user_data.index)\n",
    "\n",
    "    # Count the number of zero values in each day\n",
    "    zero_counts = user_data.groupby(user_data.index.floor('D'))['KWH'].apply(lambda x: (x == 0).sum())\n",
    "\n",
    "    # Get the dates where the number of zero values is less than or equal to 48\n",
    "    valid_dates = zero_counts[zero_counts <= 48].index\n",
    "\n",
    "    # Drop the dates where the number of zero values is greater than 48\n",
    "    user_data = user_data[user_data.index.floor('D').isin(valid_dates)]\n",
    "\n",
    "    # Drop the days that have NaN values\n",
    "    # Check which rows have at least one missing value\n",
    "    missing_days = user_data.isnull().any(axis=1)\n",
    "\n",
    "    # Get the dates (i.e., indices) of the rows that have missing values\n",
    "    missing_days_index = missing_days[missing_days].index\n",
    "\n",
    "    # Get the unique dates that have missing values\n",
    "    missing_dates = pd.Series(missing_days_index.date).unique().tolist()\n",
    "\n",
    "    # Drop the entire dates that contain Nan values\n",
    "    user_data_clean = user_data[~user_data.index.to_series().dt.date.isin(missing_dates)]\n",
    "    \n",
    "    if user_data_clean.empty:\n",
    "        return None\n",
    "\n",
    "    return user_data_clean"
   ]
  },
  {
   "cell_type": "code",
   "execution_count": 110,
   "id": "75e64bbb-9aa2-40ae-b5bc-e59936acb579",
   "metadata": {
    "tags": []
   },
   "outputs": [],
   "source": [
    "random.seed(RANDOM_SEED)\n",
    "# Get the list of unique user IDs in the DataFrame\n",
    "unique_users = df['user'].unique().tolist()\n",
    "\n",
    "def clean_multiple_users(df, num_users):\n",
    "\n",
    "    # Randomly select `num_users` from the list of unique user IDs\n",
    "    selected_users = random.sample(unique_users, num_users)\n",
    "\n",
    "    # Call the clean_data() function for each selected user ID and concatenate the results\n",
    "    all_users_clean = pd.concat([clean_data(df, user_id) for user_id in selected_users], axis=0)\n",
    "\n",
    "    return all_users_clean, selected_users"
   ]
  },
  {
   "cell_type": "code",
   "execution_count": 111,
   "id": "3acc31dd-b0e0-43ae-bd37-5ec57a955d70",
   "metadata": {
    "tags": []
   },
   "outputs": [
    {
     "name": "stdout",
     "output_type": "stream",
     "text": [
      "List of selected users:  [1493, 257, 53, 1681, 543, 503, 471, 347, 1673, 240]\n"
     ]
    },
    {
     "data": {
      "text/html": [
       "<div>\n",
       "<style scoped>\n",
       "    .dataframe tbody tr th:only-of-type {\n",
       "        vertical-align: middle;\n",
       "    }\n",
       "\n",
       "    .dataframe tbody tr th {\n",
       "        vertical-align: top;\n",
       "    }\n",
       "\n",
       "    .dataframe thead th {\n",
       "        text-align: right;\n",
       "    }\n",
       "</style>\n",
       "<table border=\"1\" class=\"dataframe\">\n",
       "  <thead>\n",
       "    <tr style=\"text-align: right;\">\n",
       "      <th></th>\n",
       "      <th>KWH</th>\n",
       "    </tr>\n",
       "    <tr>\n",
       "      <th>DATE-Time</th>\n",
       "      <th></th>\n",
       "    </tr>\n",
       "  </thead>\n",
       "  <tbody>\n",
       "    <tr>\n",
       "      <th>2021-01-01 00:00:00</th>\n",
       "      <td>0.036</td>\n",
       "    </tr>\n",
       "    <tr>\n",
       "      <th>2021-01-01 00:15:00</th>\n",
       "      <td>0.035</td>\n",
       "    </tr>\n",
       "    <tr>\n",
       "      <th>2021-01-01 00:30:00</th>\n",
       "      <td>0.024</td>\n",
       "    </tr>\n",
       "    <tr>\n",
       "      <th>2021-01-01 00:45:00</th>\n",
       "      <td>0.011</td>\n",
       "    </tr>\n",
       "    <tr>\n",
       "      <th>2021-01-01 01:00:00</th>\n",
       "      <td>0.089</td>\n",
       "    </tr>\n",
       "    <tr>\n",
       "      <th>...</th>\n",
       "      <td>...</td>\n",
       "    </tr>\n",
       "    <tr>\n",
       "      <th>2021-08-31 22:45:00</th>\n",
       "      <td>0.060</td>\n",
       "    </tr>\n",
       "    <tr>\n",
       "      <th>2021-08-31 23:00:00</th>\n",
       "      <td>0.102</td>\n",
       "    </tr>\n",
       "    <tr>\n",
       "      <th>2021-08-31 23:15:00</th>\n",
       "      <td>0.251</td>\n",
       "    </tr>\n",
       "    <tr>\n",
       "      <th>2021-08-31 23:30:00</th>\n",
       "      <td>0.244</td>\n",
       "    </tr>\n",
       "    <tr>\n",
       "      <th>2021-08-31 23:45:00</th>\n",
       "      <td>0.229</td>\n",
       "    </tr>\n",
       "  </tbody>\n",
       "</table>\n",
       "<p>181824 rows × 1 columns</p>\n",
       "</div>"
      ],
      "text/plain": [
       "                       KWH\n",
       "DATE-Time                 \n",
       "2021-01-01 00:00:00  0.036\n",
       "2021-01-01 00:15:00  0.035\n",
       "2021-01-01 00:30:00  0.024\n",
       "2021-01-01 00:45:00  0.011\n",
       "2021-01-01 01:00:00  0.089\n",
       "...                    ...\n",
       "2021-08-31 22:45:00  0.060\n",
       "2021-08-31 23:00:00  0.102\n",
       "2021-08-31 23:15:00  0.251\n",
       "2021-08-31 23:30:00  0.244\n",
       "2021-08-31 23:45:00  0.229\n",
       "\n",
       "[181824 rows x 1 columns]"
      ]
     },
     "execution_count": 111,
     "metadata": {},
     "output_type": "execute_result"
    }
   ],
   "source": [
    "users_clean_10, selected_users = clean_multiple_users(df, 10)\n",
    "\n",
    "print(\"List of selected users: \", selected_users)\n",
    "users_clean_10"
   ]
  },
  {
   "cell_type": "code",
   "execution_count": 218,
   "id": "e1de4dde-c058-4b8f-949f-8e2ee4008e75",
   "metadata": {
    "tags": []
   },
   "outputs": [
    {
     "data": {
      "text/plain": [
       "list"
      ]
     },
     "execution_count": 218,
     "metadata": {},
     "output_type": "execute_result"
    }
   ],
   "source": [
    "type(selected_users)"
   ]
  },
  {
   "cell_type": "code",
   "execution_count": 226,
   "id": "1482806b-72ec-459a-b671-1a5f67b6bf22",
   "metadata": {
    "tags": []
   },
   "outputs": [],
   "source": [
    "# Saving list of 10 users\n",
    "users_10 = pd.DataFrame(selected_users ,columns=[\"user\"]).sort_values(by=\"user\").reset_index()\n",
    "users_10 = users_10.drop(columns=[\"index\"])"
   ]
  },
  {
   "cell_type": "code",
   "execution_count": 227,
   "id": "82b7d5df-9fa7-4228-8e24-471969089737",
   "metadata": {
    "tags": []
   },
   "outputs": [
    {
     "data": {
      "text/html": [
       "<div>\n",
       "<style scoped>\n",
       "    .dataframe tbody tr th:only-of-type {\n",
       "        vertical-align: middle;\n",
       "    }\n",
       "\n",
       "    .dataframe tbody tr th {\n",
       "        vertical-align: top;\n",
       "    }\n",
       "\n",
       "    .dataframe thead th {\n",
       "        text-align: right;\n",
       "    }\n",
       "</style>\n",
       "<table border=\"1\" class=\"dataframe\">\n",
       "  <thead>\n",
       "    <tr style=\"text-align: right;\">\n",
       "      <th></th>\n",
       "      <th>user</th>\n",
       "    </tr>\n",
       "  </thead>\n",
       "  <tbody>\n",
       "    <tr>\n",
       "      <th>0</th>\n",
       "      <td>53</td>\n",
       "    </tr>\n",
       "    <tr>\n",
       "      <th>1</th>\n",
       "      <td>240</td>\n",
       "    </tr>\n",
       "    <tr>\n",
       "      <th>2</th>\n",
       "      <td>257</td>\n",
       "    </tr>\n",
       "    <tr>\n",
       "      <th>3</th>\n",
       "      <td>347</td>\n",
       "    </tr>\n",
       "    <tr>\n",
       "      <th>4</th>\n",
       "      <td>471</td>\n",
       "    </tr>\n",
       "    <tr>\n",
       "      <th>5</th>\n",
       "      <td>503</td>\n",
       "    </tr>\n",
       "    <tr>\n",
       "      <th>6</th>\n",
       "      <td>543</td>\n",
       "    </tr>\n",
       "    <tr>\n",
       "      <th>7</th>\n",
       "      <td>1493</td>\n",
       "    </tr>\n",
       "    <tr>\n",
       "      <th>8</th>\n",
       "      <td>1673</td>\n",
       "    </tr>\n",
       "    <tr>\n",
       "      <th>9</th>\n",
       "      <td>1681</td>\n",
       "    </tr>\n",
       "  </tbody>\n",
       "</table>\n",
       "</div>"
      ],
      "text/plain": [
       "   user\n",
       "0    53\n",
       "1   240\n",
       "2   257\n",
       "3   347\n",
       "4   471\n",
       "5   503\n",
       "6   543\n",
       "7  1493\n",
       "8  1673\n",
       "9  1681"
      ]
     },
     "execution_count": 227,
     "metadata": {},
     "output_type": "execute_result"
    }
   ],
   "source": [
    "users_10"
   ]
  },
  {
   "cell_type": "code",
   "execution_count": 228,
   "id": "661cb07b-3aeb-437c-92a6-853cb3f57bf3",
   "metadata": {
    "tags": []
   },
   "outputs": [],
   "source": [
    "users_10.to_csv('datasets/users_10.csv', index=False)"
   ]
  },
  {
   "cell_type": "code",
   "execution_count": 114,
   "id": "d3d1ae1e-ea84-4dcc-8908-74ef19437018",
   "metadata": {
    "tags": []
   },
   "outputs": [],
   "source": [
    "# all_users_clean.to_csv('datasets/100_users_clean.csv', index=False) "
   ]
  },
  {
   "cell_type": "code",
   "execution_count": 115,
   "id": "1d4ff6b0-2dda-463c-aafe-8858df03192b",
   "metadata": {},
   "outputs": [],
   "source": [
    "# user_6 = clean_data(df, 6)\n",
    "# user_6"
   ]
  },
  {
   "cell_type": "code",
   "execution_count": 116,
   "id": "ad9c7b95-d38f-4555-8895-04c7228989fe",
   "metadata": {
    "tags": []
   },
   "outputs": [],
   "source": [
    "# plt.figure(figsize=(12,4))\n",
    "# plt.title('(Energy Consumptions)', size=15)\n",
    "# plt.ylabel('KWH')\n",
    "# plt.grid(True)\n",
    "# plt.autoscale(axis='x',tight=True)\n",
    "# plt.plot(user_6['KWH'])\n",
    "# plt.show()"
   ]
  },
  {
   "cell_type": "markdown",
   "id": "e11c8c30-4ff3-4f22-8698-283063222fd0",
   "metadata": {},
   "source": [
    "## 3. Prepare the data"
   ]
  },
  {
   "cell_type": "code",
   "execution_count": 121,
   "id": "551a4a87-e345-4989-bb15-b131cf011d75",
   "metadata": {
    "tags": []
   },
   "outputs": [
    {
     "name": "stdout",
     "output_type": "stream",
     "text": [
      " Window shape : (1894, 96, 1)\n",
      " Type of Window : <class 'numpy.ndarray'>\n"
     ]
    }
   ],
   "source": [
    "def create_windowed_dataset(data, window_size):\n",
    "    # Calculate the number of windows that fit in the data\n",
    "    num_windows = len(data) // window_size\n",
    "    \n",
    "    # Truncate data to fit into windowed data exactly\n",
    "    data = data[:num_windows*window_size]\n",
    "    \n",
    "    # Reshape the data into a 3D tensor of (num_windows, window_size, num_features)\n",
    "    # Here we're adding an extra dimension to the data to represent the features, which is 1 in our case\n",
    "    windowed_data = np.reshape(data, (num_windows, window_size, 1))\n",
    "    \n",
    "    return windowed_data\n",
    "\n",
    "# Example usage\n",
    "window_size = 96\n",
    "data = users_clean_10.to_numpy()\n",
    "windowed_data = create_windowed_dataset(users_clean_10, window_size)\n",
    "print(f\" Window shape : {windowed_data.shape}\")\n",
    "print(f\" Type of Window : {type(windowed_data)}\")"
   ]
  },
  {
   "cell_type": "markdown",
   "id": "e3119430-71a4-4b12-a100-30490c67319d",
   "metadata": {
    "tags": []
   },
   "source": [
    "The shape of the dataset (for selected `User_1`) is `(329, 96)` which means: \n",
    "* we have `329` samples `(i.e., 329 non-overlapping windows)`,\n",
    "* each window has `96` time steps `(i.e., 96 data points)`,\n",
    "* and `1` feature `(i.e., KWH)`."
   ]
  },
  {
   "cell_type": "code",
   "execution_count": 47,
   "id": "d56a30f3-d15e-403b-bb32-c559ccfcfd20",
   "metadata": {
    "tags": []
   },
   "outputs": [
    {
     "data": {
      "image/png": "[encoded data removed]",
      "text/plain": [
       "<Figure size 2000x800 with 10 Axes>"
      ]
     },
     "metadata": {},
     "output_type": "display_data"
    }
   ],
   "source": [
    "# Plot the first 10 windows\n",
    "fig, axs = plt.subplots(2, 5, figsize=(20, 8))\n",
    "for i, ax in enumerate(axs.flatten()):\n",
    "    ax.plot(windowed_data[i])\n",
    "    ax.set_title(f\"Window {i}\")\n",
    "plt.tight_layout()\n",
    "plt.show()"
   ]
  },
  {
   "cell_type": "markdown",
   "id": "e1090a0f-8a37-4a62-9af5-fa45d23fb7f2",
   "metadata": {
    "tags": []
   },
   "source": [
    "### Divide the data into train, validation, and test sets"
   ]
  },
  {
   "cell_type": "markdown",
   "id": "2e32d833-e3f7-4ad9-80f3-defff2008eb2",
   "metadata": {},
   "source": [
    "`train_data_tensor[:-1]` and `train_data_tensor[1:]` are indexing operations on the `train_data_tensor` PyTorch tensor.\n",
    "\n",
    "`train_data_tensor[:-1]` means all elements of `train_data_tensor` except for the last one. \n",
    "* This is because in the context of the autoencoder model, we will be predicting the next time step based on the current time step, so the last element of train_data_tensor cannot be used as a predictor.\n",
    "\n",
    "`train_data_tensor[1:]` means all elements of `train_data_tensor` except for the first one. \n",
    "* This is because in the context of the autoencoder model, we will be training the model to predict the next time step given the current time step, so the first element of train_data_tensor cannot be used as a prediction target.\n",
    "\n",
    "In summary, `train_dataset` contains tuples of `input` and `target` data, where the input data is `train_data_tensor[:-1]` and the target data is `train_data_tensor[1:]`."
   ]
  },
  {
   "cell_type": "markdown",
   "id": "81e5af6a-83ac-4e9a-86bd-9ead7b45da1c",
   "metadata": {},
   "source": [
    "We'll split the examples into train, validation and test sets:"
   ]
  },
  {
   "cell_type": "code",
   "execution_count": 168,
   "id": "7d6e7941-13a4-4b84-998d-98674199acc3",
   "metadata": {
    "tags": []
   },
   "outputs": [],
   "source": [
    "# Divide the data into training, validation, and test sets \n",
    "train_data, val_data = train_test_split(windowed_data, test_size=0.10, shuffle=True, random_state=RANDOM_SEED)\n",
    "val_data, test_data = train_test_split(val_data, test_size=0.5, shuffle=True, random_state=RANDOM_SEED)\n",
    "\n",
    "# Convert the numpy arrays to PyTorch tensors\n",
    "train_data_tensor = torch.from_numpy(train_data).float().view(-1, 1, window_size)   # `(batch_size, in_channels, sequence_length)`\n",
    "val_data_tensor = torch.from_numpy(val_data).float().view(-1, 1, window_size)   # `(batch_size, in_channels, sequence_length)`\n",
    "test_data_tensor = torch.from_numpy(test_data).float().view(-1, 1, window_size)       # `(batch_size, in_channels, sequence_length)`\n",
    "\n",
    "# Prepare the data for the model using TensorDataset and DataLoader\n",
    "train_dataset = TensorDataset(train_data_tensor[:-1], train_data_tensor[1:])\n",
    "train_dataloader = DataLoader(train_dataset, batch_size=BATCH_SIZE, shuffle=True)\n",
    "\n",
    "val_dataset = TensorDataset(val_data_tensor[:-1], val_data_tensor[1:])\n",
    "val_dataloader = DataLoader(val_dataset, batch_size=BATCH_SIZE, shuffle=False)\n",
    "\n",
    "test_dataset = TensorDataset(test_data_tensor[:-1], test_data_tensor[1:])\n",
    "test_dataloader = DataLoader(test_dataset, batch_size=BATCH_SIZE, shuffle=False)"
   ]
  },
  {
   "cell_type": "code",
   "execution_count": 169,
   "id": "9e18fd14-ecac-46f5-a80b-dc78fbc6038d",
   "metadata": {
    "tags": []
   },
   "outputs": [
    {
     "name": "stdout",
     "output_type": "stream",
     "text": [
      "(1704, 96, 1)\n",
      "(95, 96, 1)\n",
      "(95, 96, 1)\n"
     ]
    }
   ],
   "source": [
    "print(train_data.shape)\n",
    "print(val_data.shape)\n",
    "print(test_data.shape)"
   ]
  },
  {
   "cell_type": "code",
   "execution_count": 170,
   "id": "935d9044-7c5e-49b0-b83f-65622e080427",
   "metadata": {
    "tags": []
   },
   "outputs": [
    {
     "name": "stdout",
     "output_type": "stream",
     "text": [
      "Number of batches in train dataloader: 1\n",
      "Number of batches in validation dataloader: 1\n",
      "Number of batches in test dataloader: 1\n"
     ]
    }
   ],
   "source": [
    "# Check the shape\n",
    "print(\"Number of batches in train dataloader:\", len(train_dataloader))\n",
    "print(\"Number of batches in validation dataloader:\", len(val_dataloader))\n",
    "print(\"Number of batches in test dataloader:\", len(test_dataloader))"
   ]
  },
  {
   "cell_type": "code",
   "execution_count": 171,
   "id": "bc9eea69-8327-40b0-8773-992787a06c38",
   "metadata": {
    "tags": []
   },
   "outputs": [
    {
     "name": "stdout",
     "output_type": "stream",
     "text": [
      "tensor(0.) tensor(2.7020)\n"
     ]
    }
   ],
   "source": [
    "# Check Min and Max of Training dataloader\n",
    "dataiter = iter(train_dataloader)\n",
    "x, y = next(dataiter)\n",
    "print(torch.min(x), torch.max(x))"
   ]
  },
  {
   "cell_type": "code",
   "execution_count": 172,
   "id": "6b31eb46-d383-4228-8816-4cefc631dbb5",
   "metadata": {
    "tags": []
   },
   "outputs": [
    {
     "name": "stdout",
     "output_type": "stream",
     "text": [
      "Train\n",
      "Shape of batch  1 in train dataloader: torch.Size([1703, 1, 96]) torch.Size([1703, 1, 96])\n",
      "\n",
      "Validation\n",
      "Shape of batch  1 in val dataloader: torch.Size([94, 1, 96]) torch.Size([94, 1, 96])\n",
      "\n",
      "Test\n",
      "Shape of batch  1 in test dataloader: torch.Size([94, 1, 96]) torch.Size([94, 1, 96])\n"
     ]
    }
   ],
   "source": [
    "# Iterate through the dataloaders and check the shape of the batches\n",
    "print(\"Train\")\n",
    "for i, batch in enumerate(train_dataloader):\n",
    "    x, y = batch\n",
    "    print(\"Shape of batch \", i+1, \"in train dataloader:\", x.shape, y.shape)\n",
    "\n",
    "print(\"\\nValidation\")\n",
    "for i, batch in enumerate(val_dataloader):\n",
    "    x, y = batch\n",
    "    print(\"Shape of batch \", i+1, \"in val dataloader:\", x.shape, y.shape)    \n",
    "    \n",
    "print(\"\\nTest\")\n",
    "for i, batch in enumerate(test_dataloader):\n",
    "    x, y = batch\n",
    "    print(\"Shape of batch \", i+1, \"in test dataloader:\", x.shape, y.shape)"
   ]
  },
  {
   "cell_type": "code",
   "execution_count": 173,
   "id": "d704cec1-64ad-41bc-85cf-3a07036f22ca",
   "metadata": {
    "tags": []
   },
   "outputs": [
    {
     "name": "stdout",
     "output_type": "stream",
     "text": [
      "Batch 0:\n",
      "x = tensor([[[0.0670, 0.0430, 0.0410,  ..., 0.0740, 0.0650, 0.0710]],\n",
      "\n",
      "        [[0.1710, 0.3840, 0.3660,  ..., 0.1400, 0.1500, 0.1550]],\n",
      "\n",
      "        [[0.0430, 0.0400, 0.0210,  ..., 0.0450, 0.0190, 0.0180]],\n",
      "\n",
      "        ...,\n",
      "\n",
      "        [[0.0070, 0.0080, 0.0070,  ..., 0.1320, 0.1490, 0.1490]],\n",
      "\n",
      "        [[0.9600, 0.9830, 0.9940,  ..., 0.9440, 0.8620, 0.9000]],\n",
      "\n",
      "        [[0.9340, 0.9190, 0.8680,  ..., 0.9670, 0.9590, 0.9570]]])\n"
     ]
    }
   ],
   "source": [
    "for i, (x, y) in enumerate(train_dataloader):\n",
    "    print(f\"Batch {i}:\")\n",
    "    print(f\"x = {x}\")\n",
    "    # print(f\"y = {y}\")\n",
    "    break"
   ]
  },
  {
   "cell_type": "markdown",
   "id": "8be9ae34-54b0-401b-ad4b-e139fba312dc",
   "metadata": {},
   "source": [
    "We need to convert our examples into tensors, so we can use them to train our Autoencoder. Let's write a helper function for that:"
   ]
  },
  {
   "cell_type": "code",
   "execution_count": 174,
   "id": "a22e33c7-e2d8-4cea-8a59-4d6355bd680a",
   "metadata": {
    "tags": []
   },
   "outputs": [],
   "source": [
    "# def create_dataset(df):\n",
    "#     sequences = df.astype(np.float32).tolist()\n",
    "#     dataset = [torch.tensor(s).unsqueeze(1).float() for s in sequences]\n",
    "#     n_seq, seq_len, n_features = torch.stack(dataset).shape\n",
    "#     return dataset, seq_len, n_features"
   ]
  },
  {
   "cell_type": "markdown",
   "id": "9f42d702-1ffe-41fc-ab60-f6a3384e1c07",
   "metadata": {
    "tags": []
   },
   "source": [
    "Each Time Series will be converted to a 2D Tensor in the shape sequence length x number of features (96x1 in our case).\n",
    "\n",
    "Let's create some datasets:"
   ]
  },
  {
   "cell_type": "code",
   "execution_count": 175,
   "id": "2a6b8a61-4600-4015-ade2-2a6f4537fe9d",
   "metadata": {
    "tags": []
   },
   "outputs": [],
   "source": [
    "# train_dataset, seq_len, n_features = create_dataset(train_data)\n",
    "# val_dataset, _, _ = create_dataset(val_data)\n",
    "# test_normal_dataset, _, _ = create_dataset(test_data)"
   ]
  },
  {
   "cell_type": "markdown",
   "id": "57076e62-a7c0-4d79-afbe-a726a4863e84",
   "metadata": {},
   "source": [
    "### 4. Define the model"
   ]
  },
  {
   "cell_type": "markdown",
   "id": "90180fdb-c40d-4034-b74b-1f9a43542f30",
   "metadata": {},
   "source": [
    "This model takes in a tensor of shape `(batch_size, sequence_length, num_features)` as input and outputs a tensor of the same shape. \n",
    "\n",
    "We use `Conv1d` layers for the encoder and `ConvTranspose1d` layers for the decoder.\n",
    "\n",
    "Note that the number of input channels for the first Conv1d layer is 1, because we are using a univariate time series as input. \n",
    "\n",
    "If you had a multivariate time series, you would set the number of input channels to the number of features in your data.\n",
    "\n",
    "You can adjust the number of channels and the kernel sizes of the convolutional layers to increase or decrease the complexity of the model."
   ]
  },
  {
   "cell_type": "markdown",
   "id": "7ae96a62-2ecb-4b9c-9554-82d879b98f08",
   "metadata": {},
   "source": [
    "The general Autoencoder architecture consists of two components. An Encoder that compresses the input and a Decoder that tries to reconstruct it.\n",
    "\n",
    "We'll use the LSTM Autoencoder from this GitHub repo with some small tweaks. Our model's job is to reconstruct Time Series data. Let's start with the Encoder:"
   ]
  },
  {
   "cell_type": "code",
   "execution_count": 176,
   "id": "dcb1c01e-8606-48f3-a660-34f960be47bb",
   "metadata": {
    "tags": []
   },
   "outputs": [],
   "source": [
    "class Encoder(nn.Module):\n",
    "\n",
    "    def __init__(self, seq_len, n_features, embedding_dim=64):\n",
    "        super(Encoder, self).__init__()\n",
    "\n",
    "        self.seq_len = seq_len\n",
    "        self.n_features = n_features\n",
    "        self.embedding_dim = embedding_dim\n",
    "        self.hidden_dim = 2 * embedding_dim\n",
    "\n",
    "        self.rnn1 = nn.LSTM(\n",
    "          input_size=n_features,\n",
    "          hidden_size=self.hidden_dim,\n",
    "          num_layers=1,\n",
    "          batch_first=True\n",
    "        )\n",
    "    \n",
    "        self.rnn2 = nn.LSTM(\n",
    "          input_size=self.hidden_dim,\n",
    "          hidden_size=embedding_dim,\n",
    "          num_layers=1,\n",
    "          batch_first=True\n",
    "        )\n",
    "\n",
    "    def forward(self, x):\n",
    "        # print(f\"ENCODER============\")\n",
    "        x = x.reshape((1, self.seq_len, self.n_features))\n",
    "        # print(f\"x reshape: {x.shape}\")\n",
    "\n",
    "        x, (_, _) = self.rnn1(x)\n",
    "        # print(f\"x of rnn1 : {x.shape}\")\n",
    "        x, (hidden_n, _) = self.rnn2(x)\n",
    "        # print(f\"x of rnn2 : {x.shape}\")\n",
    "        # print(f\"hidden_n of rnn2 : {hidden_n.reshape((self.n_features, self.embedding_dim)).shape}\")\n",
    "\n",
    "        return hidden_n.reshape((self.n_features, self.embedding_dim))"
   ]
  },
  {
   "cell_type": "markdown",
   "id": "ee5238ba-5859-4971-bd41-dd52ef41e603",
   "metadata": {},
   "source": [
    "The Encoder uses two LSTM layers to compress the Time Series data input.\n",
    "\n",
    "Next, we'll decode the compressed representation using a Decoder:"
   ]
  },
  {
   "cell_type": "code",
   "execution_count": 177,
   "id": "4369ecf7-1055-44da-b67a-17096ed01aba",
   "metadata": {
    "tags": []
   },
   "outputs": [],
   "source": [
    "class Decoder(nn.Module):\n",
    "\n",
    "    def __init__(self, seq_len, input_dim=128, n_features=1):\n",
    "        super(Decoder, self).__init__()\n",
    "\n",
    "        self.seq_len = seq_len\n",
    "        self.input_dim = input_dim\n",
    "        self.hidden_dim = 2 * input_dim\n",
    "        self.n_features = n_features\n",
    "        \n",
    "        self.linear = nn.Linear(128, 128)\n",
    "\n",
    "        self.rnn1 = nn.LSTM(\n",
    "          input_size=input_dim,\n",
    "          hidden_size=input_dim,\n",
    "          num_layers=1,\n",
    "          batch_first=True\n",
    "        )\n",
    "\n",
    "        self.rnn2 = nn.LSTM(\n",
    "          input_size=input_dim,\n",
    "          hidden_size=self.hidden_dim,\n",
    "          num_layers=1,\n",
    "          batch_first=True\n",
    "        )\n",
    "\n",
    "        self.output_layer = nn.Linear(self.hidden_dim, n_features)\n",
    "\n",
    "    def forward(self, x):\n",
    "        # print(f\"DECODER============\")\n",
    "        x = x.repeat(self.seq_len, self.n_features)\n",
    "        # print(f\"x repeat : {x.shape}\")\n",
    "        \n",
    "        x = x.reshape((self.n_features, self.seq_len, 128))\n",
    "        # print(f\"x reshape : {x.shape}\")\n",
    "        \n",
    "        x = self.linear(x)\n",
    "        # print(f\"x linear reshape : {x.shape}\")\n",
    "\n",
    "        x, (hidden_n, cell_n) = self.rnn1(x)\n",
    "        # print(f\"x of rnn1 : {x.shape}\")\n",
    "        # print(f\"hidden_n of rnn1 : {hidden_n.shape}\")\n",
    "        \n",
    "        x, (hidden_n, cell_n) = self.rnn2(x)\n",
    "        # print(f\"x of rnn2 : {x.shape}\")\n",
    "        # print(f\"hidden_n of rnn2 : {hidden_n.shape}\")\n",
    "        \n",
    "        x = x.reshape((self.seq_len, self.hidden_dim))\n",
    "        # print(f\"x reshape : {x.shape}\")\n",
    "\n",
    "        return self.output_layer(x)"
   ]
  },
  {
   "cell_type": "markdown",
   "id": "43595849-dcb6-48c1-8b0a-94c654f7394c",
   "metadata": {},
   "source": [
    "Our Decoder contains two LSTM layers and an output layer that gives the final reconstruction.\n",
    "\n",
    "Time to wrap everything into an easy to use module:"
   ]
  },
  {
   "cell_type": "code",
   "execution_count": 178,
   "id": "164c2ad3-5b77-4a50-9089-c4bed7183360",
   "metadata": {
    "tags": []
   },
   "outputs": [],
   "source": [
    "class VAE_LSTM(nn.Module):\n",
    "\n",
    "    def __init__(self, seq_len, n_features, embedding_dim=64):\n",
    "        super(VAE_LSTM, self).__init__()\n",
    "\n",
    "        self.encoder = Encoder(seq_len, n_features, embedding_dim).to(device)\n",
    "        \n",
    "        self.z_mean = torch.nn.Linear(128, 128).to(device)\n",
    "        self.z_log_var = torch.nn.Linear(128, 128).to(device)\n",
    "        \n",
    "        self.decoder = Decoder(seq_len, embedding_dim, n_features).to(device)\n",
    "        \n",
    "    def reparameterize(self, z_mu, z_log_var):\n",
    "        eps = torch.randn(z_mu.size(0), z_mu.size(1)).to(z_mu.get_device())\n",
    "        z = z_mu + eps * torch.exp(z_log_var/2.) \n",
    "        return z\n",
    "\n",
    "    def forward(self, x):\n",
    "        batch_size = x.shape[0]     # define batch_size here\n",
    "        x = self.encoder(x)\n",
    "        # print(f\"xshape: {x.shape}\")\n",
    "        \n",
    "        mean, std = self.z_mean(x), self.z_log_var(x)\n",
    "        # print(f\"{mean=}\")\n",
    "        # print(f\"{std=}\")\n",
    "        \n",
    "        encoded = self.reparameterize(mean, std)\n",
    "        # print(encoded.shape)\n",
    "        \n",
    "        # repeat encoded across batch_size dimension for feeding into the decoder\n",
    "        # encoded = encoded.repeat(1, self.seq_len, 1).view(batch_size, self.seq_len, -1)\n",
    "     \n",
    "        x = self.decoder(encoded)\n",
    "        # print(x.shape)\n",
    "\n",
    "        return x, encoded, mean, std"
   ]
  },
  {
   "cell_type": "markdown",
   "id": "9e2ca435-3f1a-43be-a149-df1db6b76da3",
   "metadata": {},
   "source": [
    "The input shape for `Conv1d` should be `(batch_size, num_features, sequence_length)`. \n",
    "\n",
    "In our case, the batch size is determined by the batch_size argument in the `DataLoader`, the number of features is `1`, and the sequence length is the window size which is `96`. \n",
    "\n",
    "So, the shape of each input should be `(batch_size, 1, 96)`.\n",
    "\n",
    "---"
   ]
  },
  {
   "cell_type": "markdown",
   "id": "717fb2fd-b27a-4ccf-9bef-75e164ec2db9",
   "metadata": {},
   "source": [
    "If we use `Conv2d` instead of `Conv1d`, the input shape should be `(batch_size, 1, window_size, 1)` instead of `(batch_size, window_size, 1)`.\n",
    "\n",
    "This is because `Conv2d` expects a 4D tensor where the second dimension represents the number of channels. \n",
    "\n",
    "In our case, we only have one channel, so we set this dimension to `1`. The fourth dimension is set to 1 because we only have one feature.\n",
    "\n",
    "---"
   ]
  },
  {
   "cell_type": "markdown",
   "id": "2d4ffefb-dec0-4073-8d67-437a6a01303e",
   "metadata": {},
   "source": [
    "If you want to use `Conv1d`, then the shape of the input tensor should be `(batch_size, in_channels, sequence_length)`, where `in_channels` is 1 in your case since you have a single feature. \n",
    "\n",
    "So for your specific case, the shape of the input tensor should be `(batch_size, 1, window_size)`, where `window_size` is 96.\n",
    "\n",
    "However, if you decide to use `Conv2d`, then the shape of the input tensor should be `(batch_size, in_channels, height, width)`. \n",
    "\n",
    "Since you only have one feature, the `in_channels` would still be 1. \n",
    "\n",
    "You can choose the `height` and `width` of the input tensor based on the window size and how you want to shape the data for the convolutional layers. \n",
    "\n",
    "For example, you could set `height=1` and `width=window_size`, or you could set `height=window_size` and `width=1`"
   ]
  },
  {
   "cell_type": "markdown",
   "id": "3d97ba3f-0976-4e36-8492-41a22797de31",
   "metadata": {
    "tags": []
   },
   "source": [
    "### Define loss and optimization functions"
   ]
  },
  {
   "cell_type": "markdown",
   "id": "5a22a72c-0220-4c60-ac14-cac053f697d2",
   "metadata": {},
   "source": [
    "Our Autoencoder passes the input through the Encoder and Decoder. Let's create an instance of it:"
   ]
  },
  {
   "cell_type": "code",
   "execution_count": 179,
   "id": "f3e9225f-eb9a-4c65-aa02-b50be0c41bcb",
   "metadata": {
    "tags": []
   },
   "outputs": [],
   "source": [
    "model = VAE_LSTM(seq_len, n_features, 128)\n",
    "model = model.to(device)"
   ]
  },
  {
   "cell_type": "code",
   "execution_count": 180,
   "id": "210fa561-0d23-45f5-9801-b3cfb38fb132",
   "metadata": {
    "tags": []
   },
   "outputs": [
    {
     "data": {
      "text/plain": [
       "VAE_LSTM(\n",
       "  (encoder): Encoder(\n",
       "    (rnn1): LSTM(1, 256, batch_first=True)\n",
       "    (rnn2): LSTM(256, 128, batch_first=True)\n",
       "  )\n",
       "  (z_mean): Linear(in_features=128, out_features=128, bias=True)\n",
       "  (z_log_var): Linear(in_features=128, out_features=128, bias=True)\n",
       "  (decoder): Decoder(\n",
       "    (linear): Linear(in_features=128, out_features=128, bias=True)\n",
       "    (rnn1): LSTM(128, 128, batch_first=True)\n",
       "    (rnn2): LSTM(128, 256, batch_first=True)\n",
       "    (output_layer): Linear(in_features=256, out_features=1, bias=True)\n",
       "  )\n",
       ")"
      ]
     },
     "execution_count": 180,
     "metadata": {},
     "output_type": "execute_result"
    }
   ],
   "source": [
    "model"
   ]
  },
  {
   "cell_type": "code",
   "execution_count": 181,
   "id": "691c9400-acb3-4737-996f-cb64a9c2e100",
   "metadata": {
    "tags": []
   },
   "outputs": [],
   "source": [
    "## Not use in current Task\n",
    "# set_all_seeds(RANDOM_SEED)\n",
    "\n",
    "# model = VAE()\n",
    "# model.to(DEVICE)\n",
    "\n",
    "# optimizer = torch.optim.Adam(model.parameters(), lr=LEARNING_RATE)  \n",
    "\n",
    "# model"
   ]
  },
  {
   "cell_type": "code",
   "execution_count": 182,
   "id": "f1258919-80b7-4dca-b6f2-fd89b5b91073",
   "metadata": {
    "tags": []
   },
   "outputs": [
    {
     "name": "stdout",
     "output_type": "stream",
     "text": [
      "  1024\n",
      "262144\n",
      "  1024\n",
      "  1024\n",
      "131072\n",
      " 65536\n",
      "   512\n",
      "   512\n",
      " 16384\n",
      "   128\n",
      " 16384\n",
      "   128\n",
      " 16384\n",
      "   128\n",
      " 65536\n",
      " 65536\n",
      "   512\n",
      "   512\n",
      "131072\n",
      "262144\n",
      "  1024\n",
      "  1024\n",
      "   256\n",
      "     1\n",
      "______\n",
      "1040001\n"
     ]
    }
   ],
   "source": [
    "def count_parameters(model):\n",
    "    params = [p.numel() for p in model.parameters() if p.requires_grad]\n",
    "    for item in params:\n",
    "        print(f'{item:>6}')\n",
    "    print(f'______\\n{sum(params):>6}')\n",
    "    \n",
    "count_parameters(model)"
   ]
  },
  {
   "cell_type": "code",
   "execution_count": 183,
   "id": "f23cec54-3896-4a60-bcb6-3ff4584be790",
   "metadata": {
    "tags": []
   },
   "outputs": [
    {
     "name": "stdout",
     "output_type": "stream",
     "text": [
      "total    : 47.99 GB\n",
      "free     : 43.51 GB\n",
      "used     : 4.48 GB\n",
      "\n",
      "total    : 11.00 GB\n",
      "free     : 10.91 GB\n",
      "used     : 0.09 GB\n"
     ]
    }
   ],
   "source": [
    "from pynvml import *\n",
    "gb = pow(1024,3)\n",
    "nvmlInit()\n",
    "h = nvmlDeviceGetHandleByIndex(0)\n",
    "info = nvmlDeviceGetMemoryInfo(h)\n",
    "print(f'total    : {info.total/gb:.2f} GB')\n",
    "print(f'free     : {info.free/gb:.2f} GB')\n",
    "print(f'used     : {info.used/gb:.2f} GB')\n",
    "\n",
    "h = nvmlDeviceGetHandleByIndex(1)\n",
    "info = nvmlDeviceGetMemoryInfo(h)\n",
    "print(f'\\ntotal    : {info.total/gb:.2f} GB')\n",
    "print(f'free     : {info.free/gb:.2f} GB')\n",
    "print(f'used     : {info.used/gb:.2f} GB')"
   ]
  },
  {
   "cell_type": "code",
   "execution_count": 184,
   "id": "41f3f428-9923-4b5a-a92b-e1d69d7b090a",
   "metadata": {
    "tags": []
   },
   "outputs": [],
   "source": [
    "# for seq, y_train in train_data:\n",
    "#     print(seq)\n",
    "#     print(y_train)\n",
    "#     break"
   ]
  },
  {
   "cell_type": "markdown",
   "id": "c078ab34-345d-453a-a33e-4d162e0ef7aa",
   "metadata": {},
   "source": [
    "### Train the model"
   ]
  },
  {
   "cell_type": "markdown",
   "id": "6a1147a4-74f3-4d7b-a8e8-3160b97970e8",
   "metadata": {},
   "source": [
    "Let's write a helper function for our training process:"
   ]
  },
  {
   "cell_type": "code",
   "execution_count": 163,
   "id": "e1794f81-a9d0-43bc-8735-ba4ed3b9f522",
   "metadata": {
    "tags": []
   },
   "outputs": [],
   "source": [
    "# # Modified VAE train_model function!!!!!!\n",
    "# def train_model(model, train_dataset, val_dataset, n_epochs, patience=30):\n",
    "#     optimizer = torch.optim.Adam(model.parameters(), lr=1e-4)\n",
    "#     criterion = nn.L1Loss(reduction='sum').to(device)\n",
    "#     history = dict(train=[],\n",
    "#                    val=[], \n",
    "#                    reconstruction_loss=[], \n",
    "#                    kl_loss=[])\n",
    "\n",
    "#     best_model_wts = copy.deepcopy(model.state_dict())\n",
    "#     best_loss = 10000.0\n",
    "#     num_epochs_without_improvement = 0  # initialize early stopping counter\n",
    "    \n",
    "#     start_time = time.time()\n",
    "#     for epoch in range(1, n_epochs + 1):\n",
    "#         model = model.train()\n",
    "\n",
    "#         train_losses = []\n",
    "#         reconstruction_losses=[]\n",
    "#         kl_losses=[]\n",
    "        \n",
    "#         for seq_true in train_dataset:\n",
    "#             optimizer.zero_grad()\n",
    "            \n",
    "#             # FORWARD AND BACK PROP\n",
    "#             seq_true = seq_true.to(device)\n",
    "#             seq_pred, encoded, mean, std = model(seq_true)\n",
    "            \n",
    "#             # total loss = reconstruction loss + KL divergence\n",
    "#             #kl_divergence = (0.5 * (z_mean**2 + torch.exp(z_log_var) - z_log_var - 1)).sum()\n",
    "#             kl_div = -0.5 * torch.sum(1 + std \n",
    "#                                       - mean**2 \n",
    "#                                       - torch.exp(std), \n",
    "#                                       axis=1) # sum over latent dimension\n",
    "\n",
    "#             reconstruction_loss = criterion(seq_pred, seq_true)\n",
    "            \n",
    "#             loss = (0.8*reconstruction_loss) + kl_div\n",
    "            \n",
    "#             loss.backward()\n",
    "            \n",
    "#             # UPDATE MODEL PARAMETERS\n",
    "#             optimizer.step()\n",
    "            \n",
    "#             # HISTORY\n",
    "#             train_losses.append(loss.item())\n",
    "#             reconstruction_losses.append(reconstruction_loss.item())\n",
    "#             kl_losses.append(kl_div.item())\n",
    "\n",
    "#         val_losses = []\n",
    "#         model = model.eval()\n",
    "#         with torch.no_grad():\n",
    "#             for seq_true in val_dataset:\n",
    "\n",
    "#                 seq_true = seq_true.to(device)\n",
    "#                 seq_pred, encoded, mean, std = model(seq_true)\n",
    "\n",
    "#                 # total loss = reconstruction loss + KL divergence\n",
    "#                 #kl_divergence = (0.5 * (z_mean**2 + torch.exp(z_log_var) - z_log_var - 1)).sum()\n",
    "#                 kl_div = -0.5 * torch.sum(1 + std \n",
    "#                                       - mean**2 \n",
    "#                                       - torch.exp(std), \n",
    "#                                       axis=1) # sum over latent dimension\n",
    "\n",
    "#                 reconstruction_loss = criterion(seq_pred, seq_true)\n",
    "            \n",
    "#                 loss = (0.8*reconstruction_loss) + kl_div\n",
    "#                 val_losses.append(loss.item())\n",
    "\n",
    "#         train_loss = np.mean(train_losses)\n",
    "#         reconstruction_loss = np.mean(reconstruction_losses)\n",
    "#         kl_loss = np.mean(kl_losses)\n",
    "#         val_loss = np.mean(val_losses)\n",
    "        \n",
    "\n",
    "#         history['train'].append(train_loss)\n",
    "#         history['reconstruction_loss'].append(reconstruction_loss)\n",
    "#         history['kl_loss'].append(kl_loss)\n",
    "#         history['val'].append(val_loss)\n",
    "        \n",
    "#         print('Time elapsed: %.2f min' % ((time.time() - start_time)/60))\n",
    "\n",
    "#         if val_loss < best_loss:\n",
    "#             best_loss = val_loss\n",
    "#             best_model_wts = copy.deepcopy(model.state_dict())\n",
    "#             num_epochs_without_improvement = 0  # reset early stopping counter\n",
    "#         else:\n",
    "#             num_epochs_without_improvement += 1\n",
    "#             if num_epochs_without_improvement >= patience:\n",
    "#                 print(f\"No improvement after {patience} epochs, stopping early\")\n",
    "#                 break\n",
    "#             else:\n",
    "#                 print(f'Epoch {epoch}: train loss {train_loss} val loss {val_loss} (no improvement {num_epochs_without_improvement})')\n",
    "        \n",
    "\n",
    "#         print(f'Epoch {epoch}: train loss {train_loss} val loss {val_loss}')\n",
    "        \n",
    "#     print('Total Training Time: %.2f min' % ((time.time() - start_time)/60))\n",
    "#     model.load_state_dict(best_model_wts)\n",
    "#     return model.eval(), history"
   ]
  },
  {
   "cell_type": "code",
   "execution_count": 185,
   "id": "86e4c274-4b46-4e57-8eab-534ce6429132",
   "metadata": {
    "tags": []
   },
   "outputs": [],
   "source": [
    "# Modified VAE train_model function!!!!!!\n",
    "def train_model(model, train_dataset, val_dataset, n_epochs, patience=30, batch_size=32):\n",
    "    optimizer = torch.optim.Adam(model.parameters(), lr=1e-4)\n",
    "    criterion = nn.L1Loss(reduction='sum').to(device)\n",
    "    history = dict(train=[],\n",
    "                   val=[], \n",
    "                   reconstruction_loss=[], \n",
    "                   kl_loss=[])\n",
    "\n",
    "    best_model_wts = copy.deepcopy(model.state_dict())\n",
    "    best_loss = 10000.0\n",
    "    num_epochs_without_improvement = 0  # initialize early stopping counter\n",
    "    \n",
    "    start_time = time.time()\n",
    "    for epoch in range(1, n_epochs + 1):\n",
    "        model = model.train()\n",
    "\n",
    "        train_losses = []\n",
    "        reconstruction_losses=[]\n",
    "        kl_losses=[]\n",
    "        \n",
    "        for batch_idx, (seq_true, _) in enumerate(train_dataset):\n",
    "            optimizer.zero_grad()\n",
    "            \n",
    "            # FORWARD AND BACK PROP\n",
    "            seq_true = seq_true.to(device)\n",
    "            seq_pred, encoded, mean, std = model(seq_true)\n",
    "            \n",
    "            # total loss = reconstruction loss + KL divergence\n",
    "            #kl_divergence = (0.5 * (z_mean**2 + torch.exp(z_log_var) - z_log_var - 1)).sum()\n",
    "            kl_div = -0.5 * torch.sum(1 + std \n",
    "                                      - mean**2 \n",
    "                                      - torch.exp(std), \n",
    "                                      axis=1) # sum over latent dimension\n",
    "\n",
    "            reconstruction_loss = criterion(seq_pred, seq_true)\n",
    "            \n",
    "            loss = (0.8*reconstruction_loss) + kl_div\n",
    "            \n",
    "            loss.backward()\n",
    "            \n",
    "            # UPDATE MODEL PARAMETERS\n",
    "            optimizer.step()\n",
    "            \n",
    "            # HISTORY\n",
    "            train_losses.append(loss.item())\n",
    "            reconstruction_losses.append(reconstruction_loss.item())\n",
    "            kl_losses.append(kl_div.item())\n",
    "\n",
    "        val_losses = []\n",
    "        model = model.eval()\n",
    "        with torch.no_grad():\n",
    "            for batch_idx, (seq_true, _) in enumerate(val_dataset):\n",
    "\n",
    "                seq_true = seq_true.to(device)\n",
    "                seq_pred, encoded, mean, std = model(seq_true)\n",
    "\n",
    "                # total loss = reconstruction loss + KL divergence\n",
    "                #kl_divergence = (0.5 * (z_mean**2 + torch.exp(z_log_var) - z_log_var - 1)).sum()\n",
    "                kl_div = -0.5 * torch.sum(1 + std \n",
    "                                      - mean**2 \n",
    "                                      - torch.exp(std), \n",
    "                                      axis=1) # sum over latent dimension\n",
    "\n",
    "                reconstruction_loss = criterion(seq_pred, seq_true)\n",
    "            \n",
    "                loss = (0.8*reconstruction_loss) + kl_div\n",
    "                val_losses.append(loss.item())\n",
    "\n",
    "        train_loss = np.mean(train_losses)\n",
    "        reconstruction_loss = np.mean(reconstruction_losses)\n",
    "        kl_loss = np.mean(kl_losses)\n",
    "        val_loss = np.mean(val_losses)\n",
    "        \n",
    "\n",
    "        history['train'].append(train_loss)\n",
    "        history['reconstruction_loss'].append(reconstruction_loss)\n",
    "        history['kl_loss'].append(kl_loss)\n",
    "        history['val'].append(val_loss)\n",
    "        \n",
    "        print('Time elapsed: %.2f min' % ((time.time() - start_time)/60))\n",
    "\n",
    "        if val_loss < best_loss:\n",
    "            best_loss = val_loss\n",
    "            best_model_wts = copy.deepcopy(model.state_dict())\n",
    "            num_epochs_without_improvement = 0  # reset early stopping counter\n",
    "        else:\n",
    "            num_epochs_without_improvement += 1\n",
    "            if num_epochs_without_improvement >= patience:\n",
    "                print(f\"No improvement after {patience} epochs, stopping early\")\n",
    "                break\n",
    "            else:\n",
    "                print(f'Epoch {epoch}: train loss {train_loss} val loss {val_loss} (no improvement {num_epochs_without_improvement})')\n",
    "        \n",
    "\n",
    "        print(f'Epoch {epoch}: train loss {train_loss} val loss {val_loss}')\n",
    "        \n",
    "    print('Total Training Time: %.2f min' % ((time.time() - start_time)/60))\n",
    "    model.load_state_dict(best_model_wts)\n",
    "    return model.eval(), history"
   ]
  },
  {
   "cell_type": "markdown",
   "id": "54adb5d5-cae7-41ac-9d9d-585134c415b5",
   "metadata": {},
   "source": [
    "At each epoch, the training process feeds our model with all training examples and evaluates the performance on the validation set. Note that we're using a batch size of 1 (our model sees only 1 sequence at a time). We also record the training and validation set losses during the process.\n",
    "\n",
    "Note that we're minimizing the L1Loss, which measures the MAE (mean absolute error). Why? The reconstructions seem to be better than with MSE (mean squared error).\n",
    "\n",
    "We'll get the version of the model with the smallest validation error. Let's do some training:"
   ]
  },
  {
   "cell_type": "markdown",
   "id": "12e21b2f-099c-4d32-9ca7-818f6bf00860",
   "metadata": {},
   "source": [
    "### Evaluation"
   ]
  },
  {
   "cell_type": "code",
   "execution_count": 186,
   "id": "082d1f97-1542-48ba-b6a5-2104327e82cf",
   "metadata": {
    "tags": []
   },
   "outputs": [
    {
     "name": "stdout",
     "output_type": "stream",
     "text": [
      "Time elapsed: 0.14 min\n",
      "Epoch 1: train loss 704.8455699958735 val loss 642.413534773157\n",
      "Time elapsed: 0.27 min\n",
      "Epoch 2: train loss 635.298340009509 val loss 639.569626260311\n",
      "Time elapsed: 0.41 min\n",
      "Epoch 3: train loss 625.3035135095566 val loss 637.2735448796699\n",
      "Time elapsed: 0.54 min\n",
      "Epoch 4: train loss 620.4462974982897 val loss 623.7106545630921\n",
      "Time elapsed: 0.68 min\n",
      "Epoch 5: train loss 617.2398383050404 val loss 618.4537695215104\n",
      "Time elapsed: 0.81 min\n",
      "Epoch 6: train loss 615.7716534200725 val loss 636.0252700967992 (no improvement 1)\n",
      "Epoch 6: train loss 615.7716534200725 val loss 636.0252700967992\n",
      "Time elapsed: 0.95 min\n",
      "Epoch 7: train loss 614.273547236946 val loss 637.5568274640023 (no improvement 2)\n",
      "Epoch 7: train loss 614.273547236946 val loss 637.5568274640023\n",
      "Time elapsed: 1.09 min\n",
      "Epoch 8: train loss 610.9318971303513 val loss 630.0280691917907 (no improvement 3)\n",
      "Epoch 8: train loss 610.9318971303513 val loss 630.0280691917907\n",
      "Time elapsed: 1.22 min\n",
      "Epoch 9: train loss 613.3806584123577 val loss 631.6281344636958 (no improvement 4)\n",
      "Epoch 9: train loss 613.3806584123577 val loss 631.6281344636958\n",
      "Time elapsed: 1.36 min\n",
      "Epoch 10: train loss 609.6846938992835 val loss 630.8566370213285 (no improvement 5)\n",
      "Epoch 10: train loss 609.6846938992835 val loss 630.8566370213285\n",
      "Time elapsed: 1.50 min\n",
      "Epoch 11: train loss 610.4536087542369 val loss 623.5799179888786 (no improvement 6)\n",
      "Epoch 11: train loss 610.4536087542369 val loss 623.5799179888786\n",
      "Time elapsed: 1.63 min\n",
      "Epoch 12: train loss 604.7852601764206 val loss 608.6440286027624\n",
      "Time elapsed: 1.77 min\n",
      "Epoch 13: train loss 614.6735422646236 val loss 615.9527936083206 (no improvement 1)\n",
      "Epoch 13: train loss 614.6735422646236 val loss 615.9527936083206\n",
      "Time elapsed: 1.91 min\n",
      "Epoch 14: train loss 607.90637080472 val loss 618.1471202931506 (no improvement 2)\n",
      "Epoch 14: train loss 607.90637080472 val loss 618.1471202931506\n",
      "Time elapsed: 2.04 min\n",
      "Epoch 15: train loss 606.3964847333979 val loss 624.2682120140563 (no improvement 3)\n",
      "Epoch 15: train loss 606.3964847333979 val loss 624.2682120140563\n",
      "Time elapsed: 2.18 min\n",
      "Epoch 16: train loss 608.228993665031 val loss 610.7496462882833 (no improvement 4)\n",
      "Epoch 16: train loss 608.228993665031 val loss 610.7496462882833\n",
      "Time elapsed: 2.32 min\n",
      "Epoch 17: train loss 607.9461990284766 val loss 608.6292971347241\n",
      "Time elapsed: 2.45 min\n",
      "Epoch 18: train loss 605.5955195939338 val loss 609.6902366800512 (no improvement 1)\n",
      "Epoch 18: train loss 605.5955195939338 val loss 609.6902366800512\n",
      "Time elapsed: 2.59 min\n",
      "Epoch 19: train loss 602.1267601210302 val loss 612.0789248689692 (no improvement 2)\n",
      "Epoch 19: train loss 602.1267601210302 val loss 612.0789248689692\n",
      "Time elapsed: 2.73 min\n",
      "Epoch 20: train loss 599.2873619939745 val loss 613.8911568661954 (no improvement 3)\n",
      "Epoch 20: train loss 599.2873619939745 val loss 613.8911568661954\n",
      "Time elapsed: 2.87 min\n",
      "Epoch 21: train loss 598.8108660282979 val loss 603.0568610658037\n",
      "Time elapsed: 3.00 min\n",
      "Epoch 22: train loss 600.7089498478458 val loss 597.494158399866\n",
      "Time elapsed: 3.14 min\n",
      "Epoch 23: train loss 597.1195670691785 val loss 606.3101492536829 (no improvement 1)\n",
      "Epoch 23: train loss 597.1195670691785 val loss 606.3101492536829\n",
      "Time elapsed: 3.28 min\n",
      "Epoch 24: train loss 596.8670527961627 val loss 613.2164535522461 (no improvement 2)\n",
      "Epoch 24: train loss 596.8670527961627 val loss 613.2164535522461\n",
      "Time elapsed: 3.41 min\n",
      "Epoch 25: train loss 596.818820144734 val loss 597.9577738985103 (no improvement 3)\n",
      "Epoch 25: train loss 596.818820144734 val loss 597.9577738985103\n",
      "Time elapsed: 3.55 min\n",
      "Epoch 26: train loss 590.190643971343 val loss 600.1120987750114 (no improvement 4)\n",
      "Epoch 26: train loss 590.190643971343 val loss 600.1120987750114\n",
      "Time elapsed: 3.69 min\n",
      "Epoch 27: train loss 592.0971551941061 val loss 601.1152010978536 (no improvement 5)\n",
      "Epoch 27: train loss 592.0971551941061 val loss 601.1152010978536\n",
      "Time elapsed: 3.82 min\n",
      "Epoch 28: train loss 592.041633281159 val loss 601.4853864629218 (no improvement 6)\n",
      "Epoch 28: train loss 592.041633281159 val loss 601.4853864629218\n",
      "Time elapsed: 3.96 min\n",
      "Epoch 29: train loss 591.4698966066065 val loss 601.9213471108294 (no improvement 7)\n",
      "Epoch 29: train loss 591.4698966066065 val loss 601.9213471108294\n",
      "Time elapsed: 4.10 min\n",
      "Epoch 30: train loss 589.7419793470006 val loss 613.7866437384423 (no improvement 8)\n",
      "Epoch 30: train loss 589.7419793470006 val loss 613.7866437384423\n",
      "Time elapsed: 4.23 min\n",
      "Epoch 31: train loss 594.3943826672055 val loss 598.7636532884964 (no improvement 9)\n",
      "Epoch 31: train loss 594.3943826672055 val loss 598.7636532884964\n",
      "Time elapsed: 4.37 min\n",
      "Epoch 32: train loss 590.0882081475877 val loss 594.7213440753044\n",
      "Time elapsed: 4.51 min\n",
      "Epoch 33: train loss 591.8317829463598 val loss 595.560117599812 (no improvement 1)\n",
      "Epoch 33: train loss 591.8317829463598 val loss 595.560117599812\n",
      "Time elapsed: 4.65 min\n",
      "Epoch 34: train loss 588.7626905099686 val loss 595.9063687425979 (no improvement 2)\n",
      "Epoch 34: train loss 588.7626905099686 val loss 595.9063687425979\n",
      "Time elapsed: 4.78 min\n",
      "Epoch 35: train loss 585.5821476755461 val loss 594.8406878532247 (no improvement 3)\n",
      "Epoch 35: train loss 585.5821476755461 val loss 594.8406878532247\n",
      "Time elapsed: 4.92 min\n",
      "Epoch 36: train loss 587.3284476431971 val loss 599.5390204571663 (no improvement 4)\n",
      "Epoch 36: train loss 587.3284476431971 val loss 599.5390204571663\n",
      "Time elapsed: 5.06 min\n",
      "Epoch 37: train loss 589.1202603764067 val loss 593.933907204486\n",
      "Time elapsed: 5.19 min\n",
      "Epoch 38: train loss 587.8243860098032 val loss 594.5001964974911 (no improvement 1)\n",
      "Epoch 38: train loss 587.8243860098032 val loss 594.5001964974911\n",
      "Time elapsed: 5.33 min\n",
      "Epoch 39: train loss 585.027555847616 val loss 595.6905317915247 (no improvement 2)\n",
      "Epoch 39: train loss 585.027555847616 val loss 595.6905317915247\n",
      "Time elapsed: 5.47 min\n",
      "Epoch 40: train loss 585.8516779623519 val loss 591.209478013059\n",
      "Time elapsed: 5.60 min\n",
      "Epoch 41: train loss 585.0990468650724 val loss 599.0817730680425 (no improvement 1)\n",
      "Epoch 41: train loss 585.0990468650724 val loss 599.0817730680425\n",
      "Time elapsed: 5.74 min\n",
      "Epoch 42: train loss 589.3516548636095 val loss 615.0839199309653 (no improvement 2)\n",
      "Epoch 42: train loss 589.3516548636095 val loss 615.0839199309653\n",
      "Time elapsed: 5.88 min\n",
      "Epoch 43: train loss 582.9084463965102 val loss 593.5795742603059 (no improvement 3)\n",
      "Epoch 43: train loss 582.9084463965102 val loss 593.5795742603059\n",
      "Time elapsed: 6.02 min\n",
      "Epoch 44: train loss 582.8889922535707 val loss 591.2598200858907 (no improvement 4)\n",
      "Epoch 44: train loss 582.8889922535707 val loss 591.2598200858907\n",
      "Time elapsed: 6.15 min\n",
      "Epoch 45: train loss 584.0055677242582 val loss 590.8406324995325\n",
      "Time elapsed: 6.29 min\n",
      "Epoch 46: train loss 581.6945495224671 val loss 597.1877748205306 (no improvement 1)\n",
      "Epoch 46: train loss 581.6945495224671 val loss 597.1877748205306\n",
      "Time elapsed: 6.43 min\n",
      "Epoch 47: train loss 580.6850789798685 val loss 602.3997315751745 (no improvement 2)\n",
      "Epoch 47: train loss 580.6850789798685 val loss 602.3997315751745\n",
      "Time elapsed: 6.56 min\n",
      "Epoch 48: train loss 580.226219703643 val loss 589.8460268061211\n",
      "Time elapsed: 6.70 min\n",
      "Epoch 49: train loss 582.1004460772135 val loss 591.1215342257885 (no improvement 1)\n",
      "Epoch 49: train loss 582.1004460772135 val loss 591.1215342257885\n",
      "Time elapsed: 6.84 min\n",
      "Epoch 50: train loss 579.329908148093 val loss 591.5690417999917 (no improvement 2)\n",
      "Epoch 50: train loss 579.329908148093 val loss 591.5690417999917\n",
      "Time elapsed: 6.97 min\n",
      "Epoch 51: train loss 581.6544005942219 val loss 594.3961115086332 (no improvement 3)\n",
      "Epoch 51: train loss 581.6544005942219 val loss 594.3961115086332\n",
      "Time elapsed: 7.11 min\n",
      "Epoch 52: train loss 583.7171217548238 val loss 598.1936156901908 (no improvement 4)\n",
      "Epoch 52: train loss 583.7171217548238 val loss 598.1936156901908\n",
      "Time elapsed: 7.25 min\n",
      "Epoch 53: train loss 582.9859424933783 val loss 592.4271266206782 (no improvement 5)\n",
      "Epoch 53: train loss 582.9859424933783 val loss 592.4271266206782\n",
      "Time elapsed: 7.39 min\n",
      "Epoch 54: train loss 576.4000896335139 val loss 601.4343792529817 (no improvement 6)\n",
      "Epoch 54: train loss 576.4000896335139 val loss 601.4343792529817\n",
      "Time elapsed: 7.52 min\n",
      "Epoch 55: train loss 578.2222248218512 val loss 586.9528791549358\n",
      "Time elapsed: 7.66 min\n",
      "Epoch 56: train loss 580.4326151513521 val loss 587.3695505832104 (no improvement 1)\n",
      "Epoch 56: train loss 580.4326151513521 val loss 587.3695505832104\n",
      "Time elapsed: 7.80 min\n",
      "Epoch 57: train loss 575.496912088803 val loss 585.5350666451961\n",
      "Time elapsed: 7.93 min\n",
      "Epoch 58: train loss 575.5867493204418 val loss 586.3056981512841 (no improvement 1)\n",
      "Epoch 58: train loss 575.5867493204418 val loss 586.3056981512841\n",
      "Time elapsed: 8.07 min\n",
      "Epoch 59: train loss 587.5515027049004 val loss 592.9239471110892 (no improvement 2)\n",
      "Epoch 59: train loss 587.5515027049004 val loss 592.9239471110892\n",
      "Time elapsed: 8.21 min\n",
      "Epoch 60: train loss 577.0610846173952 val loss 585.7023852733855 (no improvement 3)\n",
      "Epoch 60: train loss 577.0610846173952 val loss 585.7023852733855\n",
      "Time elapsed: 8.35 min\n",
      "Epoch 61: train loss 576.0615367833404 val loss 589.3350727000135 (no improvement 4)\n",
      "Epoch 61: train loss 576.0615367833404 val loss 589.3350727000135\n",
      "Time elapsed: 8.48 min\n",
      "Epoch 62: train loss 574.9032050562269 val loss 589.5224100478152 (no improvement 5)\n",
      "Epoch 62: train loss 574.9032050562269 val loss 589.5224100478152\n",
      "Time elapsed: 8.62 min\n",
      "Epoch 63: train loss 573.7364459617378 val loss 585.3615689379104\n",
      "Time elapsed: 8.76 min\n",
      "Epoch 64: train loss 573.2274630306331 val loss 583.1984024047852\n",
      "Time elapsed: 8.89 min\n",
      "Epoch 65: train loss 571.2935046656861 val loss 592.5368465667075 (no improvement 1)\n",
      "Epoch 65: train loss 571.2935046656861 val loss 592.5368465667075\n",
      "Time elapsed: 9.03 min\n",
      "Epoch 66: train loss 570.4009975650629 val loss 582.0955599521069\n",
      "Time elapsed: 9.17 min\n",
      "Epoch 67: train loss 571.6209069407133 val loss 583.8526444130755 (no improvement 1)\n",
      "Epoch 67: train loss 571.6209069407133 val loss 583.8526444130755\n",
      "Time elapsed: 9.30 min\n",
      "Epoch 68: train loss 571.0602463964708 val loss 581.8305132439796\n",
      "Time elapsed: 9.44 min\n",
      "Epoch 69: train loss 570.5132441013894 val loss 586.8365266678181 (no improvement 1)\n",
      "Epoch 69: train loss 570.5132441013894 val loss 586.8365266678181\n",
      "Time elapsed: 9.58 min\n",
      "Epoch 70: train loss 569.0183467730591 val loss 582.6183088586686 (no improvement 2)\n",
      "Epoch 70: train loss 569.0183467730591 val loss 582.6183088586686\n",
      "Time elapsed: 9.72 min\n",
      "Epoch 71: train loss 569.2170554545789 val loss 596.3150585255725 (no improvement 3)\n",
      "Epoch 71: train loss 569.2170554545789 val loss 596.3150585255725\n",
      "Time elapsed: 9.85 min\n",
      "Epoch 72: train loss 568.3048878735258 val loss 579.9962026717815\n",
      "Time elapsed: 9.99 min\n",
      "Epoch 73: train loss 570.6992730853561 val loss 581.2748279165714 (no improvement 1)\n",
      "Epoch 73: train loss 570.6992730853561 val loss 581.2748279165714\n",
      "Time elapsed: 10.13 min\n",
      "Epoch 74: train loss 567.993417258271 val loss 584.2797823966818 (no improvement 2)\n",
      "Epoch 74: train loss 567.993417258271 val loss 584.2797823966818\n",
      "Time elapsed: 10.26 min\n",
      "Epoch 75: train loss 567.1070073833903 val loss 579.4390327778268\n",
      "Time elapsed: 10.40 min\n",
      "Epoch 76: train loss 567.5881299765335 val loss 583.8351667688248 (no improvement 1)\n",
      "Epoch 76: train loss 567.5881299765335 val loss 583.8351667688248\n",
      "Time elapsed: 10.54 min\n",
      "Epoch 77: train loss 567.5134226809652 val loss 576.1982253865992\n",
      "Time elapsed: 10.67 min\n",
      "Epoch 78: train loss 568.8416525190603 val loss 589.4665125583081 (no improvement 1)\n",
      "Epoch 78: train loss 568.8416525190603 val loss 589.4665125583081\n",
      "Time elapsed: 10.81 min\n",
      "Epoch 79: train loss 567.8346581797844 val loss 578.5559448891497 (no improvement 2)\n",
      "Epoch 79: train loss 567.8346581797844 val loss 578.5559448891497\n",
      "Time elapsed: 10.95 min\n",
      "Epoch 80: train loss 566.0800157189719 val loss 579.8583214130807 (no improvement 3)\n",
      "Epoch 80: train loss 566.0800157189719 val loss 579.8583214130807\n",
      "Time elapsed: 11.09 min\n",
      "Epoch 81: train loss 565.4107902580615 val loss 581.7566250740214 (no improvement 4)\n",
      "Epoch 81: train loss 565.4107902580615 val loss 581.7566250740214\n",
      "Time elapsed: 11.22 min\n",
      "Epoch 82: train loss 565.5115772321234 val loss 575.5190773010254\n",
      "Time elapsed: 11.36 min\n",
      "Epoch 83: train loss 564.0758913547518 val loss 581.0443228052018 (no improvement 1)\n",
      "Epoch 83: train loss 564.0758913547518 val loss 581.0443228052018\n",
      "Time elapsed: 11.50 min\n",
      "Epoch 84: train loss 564.9192290471291 val loss 577.4515397903767 (no improvement 2)\n",
      "Epoch 84: train loss 564.9192290471291 val loss 577.4515397903767\n",
      "Time elapsed: 11.63 min\n",
      "Epoch 85: train loss 564.8357698481991 val loss 576.9698572361723 (no improvement 3)\n",
      "Epoch 85: train loss 564.8357698481991 val loss 576.9698572361723\n",
      "Time elapsed: 11.77 min\n",
      "Epoch 86: train loss 563.2659096530235 val loss 574.1650987178722\n",
      "Time elapsed: 11.91 min\n",
      "Epoch 87: train loss 564.6876210578386 val loss 576.1662277059352 (no improvement 1)\n",
      "Epoch 87: train loss 564.6876210578386 val loss 576.1662277059352\n",
      "Time elapsed: 12.05 min\n",
      "Epoch 88: train loss 562.4444114877698 val loss 578.9188355790808 (no improvement 2)\n",
      "Epoch 88: train loss 562.4444114877698 val loss 578.9188355790808\n",
      "Time elapsed: 12.18 min\n",
      "Epoch 89: train loss 562.8304311334562 val loss 579.6666534910811 (no improvement 3)\n",
      "Epoch 89: train loss 562.8304311334562 val loss 579.6666534910811\n",
      "Time elapsed: 12.32 min\n",
      "Epoch 90: train loss 563.221987936543 val loss 579.4079027378813 (no improvement 4)\n",
      "Epoch 90: train loss 563.221987936543 val loss 579.4079027378813\n",
      "Time elapsed: 12.46 min\n",
      "Epoch 91: train loss 564.4305547881113 val loss 576.3716952547114 (no improvement 5)\n",
      "Epoch 91: train loss 564.4305547881113 val loss 576.3716952547114\n",
      "Time elapsed: 12.59 min\n",
      "Epoch 92: train loss 564.3472222688264 val loss 577.0909016385991 (no improvement 6)\n",
      "Epoch 92: train loss 564.3472222688264 val loss 577.0909016385991\n",
      "Time elapsed: 12.73 min\n",
      "Epoch 93: train loss 562.3699836641357 val loss 590.6844113126714 (no improvement 7)\n",
      "Epoch 93: train loss 562.3699836641357 val loss 590.6844113126714\n",
      "Time elapsed: 12.87 min\n",
      "Epoch 94: train loss 563.4427470018495 val loss 575.0483612709857 (no improvement 8)\n",
      "Epoch 94: train loss 563.4427470018495 val loss 575.0483612709857\n",
      "Time elapsed: 13.00 min\n",
      "Epoch 95: train loss 562.8322062321572 val loss 574.760442612019 (no improvement 9)\n",
      "Epoch 95: train loss 562.8322062321572 val loss 574.760442612019\n",
      "Time elapsed: 13.14 min\n",
      "Epoch 96: train loss 563.1026097844785 val loss 573.415424996234\n",
      "Time elapsed: 13.28 min\n",
      "Epoch 97: train loss 564.0266207607087 val loss 576.443159306303 (no improvement 1)\n",
      "Epoch 97: train loss 564.0266207607087 val loss 576.443159306303\n",
      "Time elapsed: 13.42 min\n",
      "Epoch 98: train loss 561.7826914431695 val loss 573.9037722323803 (no improvement 2)\n",
      "Epoch 98: train loss 561.7826914431695 val loss 573.9037722323803\n",
      "Time elapsed: 13.55 min\n",
      "Epoch 99: train loss 561.8326419112407 val loss 574.5920732376424 (no improvement 3)\n",
      "Epoch 99: train loss 561.8326419112407 val loss 574.5920732376424\n",
      "Time elapsed: 13.69 min\n",
      "Epoch 100: train loss 561.7705036662848 val loss 576.5651024351729 (no improvement 4)\n",
      "Epoch 100: train loss 561.7705036662848 val loss 576.5651024351729\n",
      "Time elapsed: 13.83 min\n",
      "Epoch 101: train loss 561.9360479790536 val loss 575.4335142095039 (no improvement 5)\n",
      "Epoch 101: train loss 561.9360479790536 val loss 575.4335142095039\n",
      "Time elapsed: 13.96 min\n",
      "Epoch 102: train loss 561.9563250404487 val loss 577.6033916879207 (no improvement 6)\n",
      "Epoch 102: train loss 561.9563250404487 val loss 577.6033916879207\n",
      "Time elapsed: 14.10 min\n",
      "Epoch 103: train loss 563.063546371684 val loss 574.7379127664769 (no improvement 7)\n",
      "Epoch 103: train loss 563.063546371684 val loss 574.7379127664769\n",
      "Time elapsed: 14.24 min\n",
      "Epoch 104: train loss 562.5399278863625 val loss 590.2817033808282 (no improvement 8)\n",
      "Epoch 104: train loss 562.5399278863625 val loss 590.2817033808282\n",
      "Time elapsed: 14.38 min\n",
      "Epoch 105: train loss 562.024216569037 val loss 575.5103681848404 (no improvement 9)\n",
      "Epoch 105: train loss 562.024216569037 val loss 575.5103681848404\n",
      "Time elapsed: 14.51 min\n",
      "Epoch 106: train loss 560.623043019983 val loss 573.6700742193993 (no improvement 10)\n",
      "Epoch 106: train loss 560.623043019983 val loss 573.6700742193993\n",
      "Time elapsed: 14.65 min\n",
      "Epoch 107: train loss 561.8004776422094 val loss 573.6159276759371 (no improvement 11)\n",
      "Epoch 107: train loss 561.8004776422094 val loss 573.6159276759371\n",
      "Time elapsed: 14.79 min\n",
      "Epoch 108: train loss 560.7194291639524 val loss 574.7223891400276 (no improvement 12)\n",
      "Epoch 108: train loss 560.7194291639524 val loss 574.7223891400276\n",
      "Time elapsed: 14.92 min\n",
      "Epoch 109: train loss 560.6978796876604 val loss 575.5981175848779 (no improvement 13)\n",
      "Epoch 109: train loss 560.6978796876604 val loss 575.5981175848779\n",
      "Time elapsed: 15.06 min\n",
      "Epoch 110: train loss 561.820513338323 val loss 572.9101826282258\n",
      "Time elapsed: 15.20 min\n",
      "Epoch 111: train loss 561.1065385788241 val loss 573.9566568415215 (no improvement 1)\n",
      "Epoch 111: train loss 561.1065385788241 val loss 573.9566568415215\n",
      "Time elapsed: 15.34 min\n",
      "Epoch 112: train loss 560.589450609943 val loss 572.6521594270747\n",
      "Time elapsed: 15.47 min\n",
      "Epoch 113: train loss 560.4988424348187 val loss 577.1598613820178 (no improvement 1)\n",
      "Epoch 113: train loss 560.4988424348187 val loss 577.1598613820178\n",
      "Time elapsed: 15.61 min\n",
      "Epoch 114: train loss 560.6546900822566 val loss 579.2665458841527 (no improvement 2)\n",
      "Epoch 114: train loss 560.6546900822566 val loss 579.2665458841527\n",
      "Time elapsed: 15.75 min\n",
      "Epoch 115: train loss 560.2044532885639 val loss 576.0731458461031 (no improvement 3)\n",
      "Epoch 115: train loss 560.2044532885639 val loss 576.0731458461031\n",
      "Time elapsed: 15.88 min\n",
      "Epoch 116: train loss 562.311370394892 val loss 577.3493096371915 (no improvement 4)\n",
      "Epoch 116: train loss 562.311370394892 val loss 577.3493096371915\n",
      "Time elapsed: 16.02 min\n",
      "Epoch 117: train loss 562.227946642631 val loss 577.525011427859 (no improvement 5)\n",
      "Epoch 117: train loss 562.227946642631 val loss 577.525011427859\n",
      "Time elapsed: 16.16 min\n",
      "Epoch 118: train loss 561.174658538451 val loss 575.3650972893897 (no improvement 6)\n",
      "Epoch 118: train loss 561.174658538451 val loss 575.3650972893897\n",
      "Time elapsed: 16.30 min\n",
      "Epoch 119: train loss 560.3247843600691 val loss 579.6132303603152 (no improvement 7)\n",
      "Epoch 119: train loss 560.3247843600691 val loss 579.6132303603152\n",
      "Time elapsed: 16.43 min\n",
      "Epoch 120: train loss 560.6447880129498 val loss 576.8989120645726 (no improvement 8)\n",
      "Epoch 120: train loss 560.6447880129498 val loss 576.8989120645726\n",
      "Time elapsed: 16.57 min\n",
      "Epoch 121: train loss 560.0436049549285 val loss 575.8499822413668 (no improvement 9)\n",
      "Epoch 121: train loss 560.0436049549285 val loss 575.8499822413668\n",
      "Time elapsed: 16.71 min\n",
      "Epoch 122: train loss 560.0497312719375 val loss 571.5943901386667\n",
      "Time elapsed: 16.84 min\n",
      "Epoch 123: train loss 559.6756706523391 val loss 574.3822057196435 (no improvement 1)\n",
      "Epoch 123: train loss 559.6756706523391 val loss 574.3822057196435\n",
      "Time elapsed: 16.98 min\n",
      "Epoch 124: train loss 559.6868373979489 val loss 571.6165988191646 (no improvement 2)\n",
      "Epoch 124: train loss 559.6868373979489 val loss 571.6165988191646\n",
      "Time elapsed: 17.12 min\n",
      "Epoch 125: train loss 560.3453006688385 val loss 576.997758662447 (no improvement 3)\n",
      "Epoch 125: train loss 560.3453006688385 val loss 576.997758662447\n",
      "Time elapsed: 17.26 min\n",
      "Epoch 126: train loss 559.7252884795928 val loss 574.2304872553399 (no improvement 4)\n",
      "Epoch 126: train loss 559.7252884795928 val loss 574.2304872553399\n",
      "Time elapsed: 17.39 min\n",
      "Epoch 127: train loss 560.7456339378604 val loss 575.281182471742 (no improvement 5)\n",
      "Epoch 127: train loss 560.7456339378604 val loss 575.281182471742\n",
      "Time elapsed: 17.53 min\n",
      "Epoch 128: train loss 559.1945228027863 val loss 572.561214609349 (no improvement 6)\n",
      "Epoch 128: train loss 559.1945228027863 val loss 572.561214609349\n",
      "Time elapsed: 17.67 min\n",
      "Epoch 129: train loss 560.2194729075317 val loss 573.786005953525 (no improvement 7)\n",
      "Epoch 129: train loss 560.2194729075317 val loss 573.786005953525\n",
      "Time elapsed: 17.80 min\n",
      "Epoch 130: train loss 559.3670175678927 val loss 571.9867238795504 (no improvement 8)\n",
      "Epoch 130: train loss 559.3670175678927 val loss 571.9867238795504\n",
      "Time elapsed: 17.94 min\n",
      "Epoch 131: train loss 560.3046222962286 val loss 571.459849012659\n",
      "Time elapsed: 18.08 min\n",
      "Epoch 132: train loss 559.2517844226454 val loss 573.5101766383394 (no improvement 1)\n",
      "Epoch 132: train loss 559.2517844226454 val loss 573.5101766383394\n",
      "Time elapsed: 18.22 min\n",
      "Epoch 133: train loss 558.9826604996579 val loss 572.5460273255693 (no improvement 2)\n",
      "Epoch 133: train loss 558.9826604996579 val loss 572.5460273255693\n",
      "Time elapsed: 18.35 min\n",
      "Epoch 134: train loss 559.0612409315037 val loss 573.5818681108191 (no improvement 3)\n",
      "Epoch 134: train loss 559.0612409315037 val loss 573.5818681108191\n",
      "Time elapsed: 18.49 min\n",
      "Epoch 135: train loss 559.590237899171 val loss 574.2081928658993 (no improvement 4)\n",
      "Epoch 135: train loss 559.590237899171 val loss 574.2081928658993\n",
      "Time elapsed: 18.63 min\n",
      "Epoch 136: train loss 558.7183597271259 val loss 575.0022266469103 (no improvement 5)\n",
      "Epoch 136: train loss 558.7183597271259 val loss 575.0022266469103\n",
      "Time elapsed: 18.76 min\n",
      "Epoch 137: train loss 560.066942688723 val loss 571.2020217408525\n",
      "Time elapsed: 18.90 min\n",
      "Epoch 138: train loss 558.3973791802273 val loss 578.3160839486629 (no improvement 1)\n",
      "Epoch 138: train loss 558.3973791802273 val loss 578.3160839486629\n",
      "Time elapsed: 19.04 min\n",
      "Epoch 139: train loss 558.7520425945468 val loss 571.4634865294112 (no improvement 2)\n",
      "Epoch 139: train loss 558.7520425945468 val loss 571.4634865294112\n",
      "Time elapsed: 19.17 min\n",
      "Epoch 140: train loss 559.5140226669894 val loss 572.9491454591142 (no improvement 3)\n",
      "Epoch 140: train loss 559.5140226669894 val loss 572.9491454591142\n",
      "Time elapsed: 19.31 min\n",
      "Epoch 141: train loss 558.8929815521957 val loss 573.5103857973788 (no improvement 4)\n",
      "Epoch 141: train loss 558.8929815521957 val loss 573.5103857973788\n",
      "Time elapsed: 20.00 min\n",
      "Epoch 146: train loss 558.3872858765401 val loss 574.8116583316884 (no improvement 2)\n",
      "Epoch 146: train loss 558.3872858765401 val loss 574.8116583316884\n",
      "Time elapsed: 20.13 min\n",
      "Epoch 147: train loss 558.1355770993639 val loss 570.8802613603308\n",
      "Time elapsed: 20.27 min\n",
      "Epoch 148: train loss 559.8487115838706 val loss 570.3125491852456\n",
      "Time elapsed: 20.41 min\n",
      "Epoch 149: train loss 558.7311716074112 val loss 572.1128839533379 (no improvement 1)\n",
      "Epoch 149: train loss 558.7311716074112 val loss 572.1128839533379\n",
      "Time elapsed: 20.55 min\n",
      "Epoch 150: train loss 559.1512093222008 val loss 573.0418576991304 (no improvement 2)\n",
      "Epoch 150: train loss 559.1512093222008 val loss 573.0418576991304\n",
      "Time elapsed: 20.68 min\n",
      "Epoch 151: train loss 558.6137988280354 val loss 571.3137414810506 (no improvement 3)\n",
      "Epoch 151: train loss 558.6137988280354 val loss 571.3137414810506\n",
      "Time elapsed: 20.82 min\n",
      "Epoch 152: train loss 557.8444891754348 val loss 570.2880299344976\n",
      "Time elapsed: 20.96 min\n",
      "Epoch 153: train loss 558.4935911013949 val loss 572.0219582090987 (no improvement 1)\n",
      "Epoch 153: train loss 558.4935911013949 val loss 572.0219582090987\n",
      "Time elapsed: 21.10 min\n",
      "Epoch 154: train loss 557.8863985562283 val loss 573.6174856145332 (no improvement 2)\n",
      "Epoch 154: train loss 557.8863985562283 val loss 573.6174856145332\n",
      "Time elapsed: 21.23 min\n",
      "Epoch 155: train loss 557.9011469587325 val loss 569.941239214958\n",
      "Time elapsed: 21.37 min\n",
      "Epoch 156: train loss 557.9110893253992 val loss 572.7769456417003 (no improvement 1)\n",
      "Epoch 156: train loss 557.9110893253992 val loss 572.7769456417003\n",
      "Time elapsed: 21.51 min\n",
      "Epoch 157: train loss 558.5140013277565 val loss 570.6387800663075 (no improvement 2)\n",
      "Epoch 157: train loss 558.5140013277565 val loss 570.6387800663075\n",
      "Time elapsed: 21.64 min\n",
      "Epoch 158: train loss 558.1625373955692 val loss 570.2011770694813 (no improvement 3)\n",
      "Epoch 158: train loss 558.1625373955692 val loss 570.2011770694813\n",
      "Time elapsed: 21.78 min\n",
      "Epoch 159: train loss 558.2809624394738 val loss 572.3030154451411 (no improvement 4)\n",
      "Epoch 159: train loss 558.2809624394738 val loss 572.3030154451411\n",
      "Time elapsed: 21.92 min\n",
      "Epoch 160: train loss 557.933397929247 val loss 571.004754898396 (no improvement 5)\n",
      "Epoch 160: train loss 557.933397929247 val loss 571.004754898396\n",
      "Time elapsed: 22.05 min\n",
      "Epoch 161: train loss 558.5367337549985 val loss 571.875146419444 (no improvement 6)\n",
      "Epoch 161: train loss 558.5367337549985 val loss 571.875146419444\n",
      "Time elapsed: 22.19 min\n",
      "Epoch 162: train loss 557.9678697115662 val loss 572.5632149716641 (no improvement 7)\n",
      "Epoch 162: train loss 557.9678697115662 val loss 572.5632149716641\n",
      "Time elapsed: 22.33 min\n",
      "Epoch 163: train loss 557.532386149229 val loss 569.7357977197526\n",
      "Time elapsed: 22.47 min\n",
      "Epoch 164: train loss 557.5866732202553 val loss 569.6573084567456\n",
      "Time elapsed: 22.60 min\n",
      "Epoch 165: train loss 557.8497147058922 val loss 571.4235322830525 (no improvement 1)\n",
      "Epoch 165: train loss 557.8497147058922 val loss 571.4235322830525\n",
      "Time elapsed: 22.74 min\n",
      "Epoch 166: train loss 558.0172264717357 val loss 574.1498682549659 (no improvement 2)\n",
      "Epoch 166: train loss 558.0172264717357 val loss 574.1498682549659\n",
      "Time elapsed: 22.88 min\n",
      "Epoch 167: train loss 557.6859182183069 val loss 571.453596561513 (no improvement 3)\n",
      "Epoch 167: train loss 557.6859182183069 val loss 571.453596561513\n",
      "Time elapsed: 23.01 min\n",
      "Epoch 168: train loss 558.9149301252293 val loss 576.259642337231 (no improvement 4)\n",
      "Epoch 168: train loss 558.9149301252293 val loss 576.259642337231\n",
      "Time elapsed: 23.15 min\n",
      "Epoch 169: train loss 559.2464596775792 val loss 570.2542372358606 (no improvement 5)\n",
      "Epoch 169: train loss 559.2464596775792 val loss 570.2542372358606\n",
      "Time elapsed: 23.29 min\n",
      "Epoch 170: train loss 558.1040980517689 val loss 572.2670574594051 (no improvement 6)\n",
      "Epoch 170: train loss 558.1040980517689 val loss 572.2670574594051\n",
      "Time elapsed: 23.43 min\n",
      "Epoch 171: train loss 557.3453845361787 val loss 570.4591287653496 (no improvement 7)\n",
      "Epoch 171: train loss 557.3453845361787 val loss 570.4591287653496\n",
      "Time elapsed: 23.56 min\n",
      "Epoch 172: train loss 557.8329609631792 val loss 570.4534960807638 (no improvement 8)\n",
      "Epoch 172: train loss 557.8329609631792 val loss 570.4534960807638\n",
      "Time elapsed: 23.70 min\n",
      "Epoch 173: train loss 557.9573164759001 val loss 572.3301010131836 (no improvement 9)\n",
      "Epoch 173: train loss 557.9573164759001 val loss 572.3301010131836\n",
      "Time elapsed: 23.84 min\n",
      "Epoch 174: train loss 558.1384866927837 val loss 569.948548174919 (no improvement 10)\n",
      "Epoch 174: train loss 558.1384866927837 val loss 569.948548174919\n",
      "Time elapsed: 23.97 min\n",
      "Epoch 175: train loss 557.3946376577659 val loss 571.2004395342888 (no improvement 11)\n",
      "Epoch 175: train loss 557.3946376577659 val loss 571.2004395342888\n",
      "Time elapsed: 24.11 min\n",
      "Epoch 176: train loss 558.5624759347035 val loss 571.1065366217431 (no improvement 12)\n",
      "Epoch 176: train loss 558.5624759347035 val loss 571.1065366217431\n",
      "Time elapsed: 24.25 min\n",
      "Epoch 177: train loss 557.9315733671608 val loss 570.4460579080785 (no improvement 13)\n",
      "Epoch 177: train loss 557.9315733671608 val loss 570.4460579080785\n",
      "Time elapsed: 24.39 min\n",
      "Epoch 178: train loss 557.4166073309136 val loss 570.5481745131473 (no improvement 14)\n",
      "Epoch 178: train loss 557.4166073309136 val loss 570.5481745131473\n",
      "Time elapsed: 24.52 min\n",
      "Epoch 179: train loss 557.685723233069 val loss 574.7735812410396 (no improvement 15)\n",
      "Epoch 179: train loss 557.685723233069 val loss 574.7735812410396\n",
      "Time elapsed: 24.66 min\n",
      "Epoch 180: train loss 557.2654581422744 val loss 573.6501054155066 (no improvement 16)\n",
      "Epoch 180: train loss 557.2654581422744 val loss 573.6501054155066\n",
      "Time elapsed: 24.80 min\n",
      "Epoch 181: train loss 558.0480777193922 val loss 577.7595369866553 (no improvement 17)\n",
      "Epoch 181: train loss 558.0480777193922 val loss 577.7595369866553\n",
      "Time elapsed: 24.93 min\n",
      "Epoch 182: train loss 558.5821813156657 val loss 577.4448307118518 (no improvement 18)\n",
      "Epoch 182: train loss 558.5821813156657 val loss 577.4448307118518\n",
      "Time elapsed: 25.07 min\n",
      "Epoch 183: train loss 557.1739367671526 val loss 570.5332025568536 (no improvement 19)\n",
      "Epoch 183: train loss 557.1739367671526 val loss 570.5332025568536\n",
      "Time elapsed: 25.21 min\n",
      "Epoch 184: train loss 557.2536853245966 val loss 569.4087129958133\n",
      "Time elapsed: 25.35 min\n",
      "Epoch 185: train loss 557.3772802151307 val loss 570.9563071068297 (no improvement 1)\n",
      "Epoch 185: train loss 557.3772802151307 val loss 570.9563071068297\n",
      "Time elapsed: 25.48 min\n",
      "Epoch 186: train loss 557.3012335391445 val loss 569.4525910235466 (no improvement 2)\n",
      "Epoch 186: train loss 557.3012335391445 val loss 569.4525910235466\n",
      "Time elapsed: 25.62 min\n",
      "Epoch 187: train loss 557.927960394133 val loss 570.558719553846 (no improvement 3)\n",
      "Epoch 187: train loss 557.927960394133 val loss 570.558719553846\n",
      "Time elapsed: 25.76 min\n",
      "Epoch 188: train loss 556.90066076963 val loss 570.31219506771 (no improvement 4)\n",
      "Epoch 188: train loss 556.90066076963 val loss 570.31219506771\n",
      "Time elapsed: 25.89 min\n",
      "Epoch 189: train loss 557.1907577839446 val loss 572.4560437303909 (no improvement 5)\n",
      "Epoch 189: train loss 557.1907577839446 val loss 572.4560437303909\n",
      "Time elapsed: 26.03 min\n",
      "Epoch 190: train loss 557.057930283874 val loss 571.4661659078395 (no improvement 6)\n",
      "Epoch 190: train loss 557.057930283874 val loss 571.4661659078395\n",
      "Time elapsed: 26.17 min\n",
      "Epoch 191: train loss 558.1669922793394 val loss 569.5283251823263 (no improvement 7)\n",
      "Epoch 191: train loss 558.1669922793394 val loss 569.5283251823263\n",
      "Time elapsed: 26.31 min\n",
      "Epoch 192: train loss 557.0915319472989 val loss 572.5039633892952 (no improvement 8)\n",
      "Epoch 192: train loss 557.0915319472989 val loss 572.5039633892952\n",
      "Time elapsed: 26.44 min\n",
      "Epoch 193: train loss 556.7867307998962 val loss 571.5742673670992 (no improvement 9)\n",
      "Epoch 193: train loss 556.7867307998962 val loss 571.5742673670992\n",
      "Time elapsed: 26.58 min\n",
      "Epoch 194: train loss 557.426583964896 val loss 579.8747750140251 (no improvement 10)\n",
      "Epoch 194: train loss 557.426583964896 val loss 579.8747750140251\n",
      "Time elapsed: 26.72 min\n",
      "Epoch 195: train loss 557.0519452618629 val loss 570.3633017032704 (no improvement 11)\n",
      "Epoch 195: train loss 557.0519452618629 val loss 570.3633017032704\n",
      "Time elapsed: 26.85 min\n",
      "Epoch 196: train loss 557.2611990809371 val loss 570.8476273556973 (no improvement 12)\n",
      "Epoch 196: train loss 557.2611990809371 val loss 570.8476273556973\n",
      "Time elapsed: 26.99 min\n",
      "Epoch 197: train loss 557.3599322929987 val loss 569.9431284640698 (no improvement 13)\n",
      "Epoch 197: train loss 557.3599322929987 val loss 569.9431284640698\n",
      "Time elapsed: 27.13 min\n",
      "Epoch 198: train loss 557.3831119929351 val loss 569.7732889702979 (no improvement 14)\n",
      "Epoch 198: train loss 557.3831119929351 val loss 569.7732889702979\n",
      "Time elapsed: 27.27 min\n",
      "Epoch 199: train loss 557.2859735875289 val loss 573.3793190489424 (no improvement 15)\n",
      "Epoch 199: train loss 557.2859735875289 val loss 573.3793190489424\n",
      "Time elapsed: 27.40 min\n",
      "Epoch 200: train loss 557.0420355105218 val loss 570.4915644868892 (no improvement 16)\n",
      "Epoch 200: train loss 557.0420355105218 val loss 570.4915644868892\n",
      "Time elapsed: 27.54 min\n",
      "Epoch 201: train loss 556.7781442299494 val loss 571.3944996772929 (no improvement 17)\n",
      "Epoch 201: train loss 556.7781442299494 val loss 571.3944996772929\n",
      "Time elapsed: 27.68 min\n",
      "Epoch 202: train loss 557.3531836757783 val loss 570.5129058513236 (no improvement 18)\n",
      "Epoch 202: train loss 557.3531836757783 val loss 570.5129058513236\n",
      "Time elapsed: 27.81 min\n",
      "Epoch 203: train loss 557.3561464904409 val loss 570.077370907398 (no improvement 19)\n",
      "Epoch 203: train loss 557.3561464904409 val loss 570.077370907398\n",
      "Time elapsed: 27.95 min\n",
      "Epoch 204: train loss 556.9364774096944 val loss 570.1064680383561 (no improvement 20)\n",
      "Epoch 204: train loss 556.9364774096944 val loss 570.1064680383561\n",
      "Time elapsed: 28.09 min\n",
      "Epoch 205: train loss 556.7756901952147 val loss 571.7336367343335 (no improvement 21)\n",
      "Epoch 205: train loss 556.7756901952147 val loss 571.7336367343335\n",
      "Time elapsed: 28.23 min\n",
      "Epoch 206: train loss 556.8347602369361 val loss 569.9806867558906 (no improvement 22)\n",
      "Epoch 206: train loss 556.8347602369361 val loss 569.9806867558906\n",
      "Time elapsed: 28.36 min\n",
      "Epoch 207: train loss 557.6943070142323 val loss 570.9595832013069 (no improvement 23)\n",
      "Epoch 207: train loss 557.6943070142323 val loss 570.9595832013069\n",
      "Time elapsed: 28.50 min\n",
      "Epoch 208: train loss 556.9797259950666 val loss 570.5666253110196 (no improvement 24)\n",
      "Epoch 208: train loss 556.9797259950666 val loss 570.5666253110196\n",
      "Time elapsed: 28.64 min\n",
      "Epoch 209: train loss 558.0050396188454 val loss 571.8625748005319 (no improvement 25)\n",
      "Epoch 209: train loss 558.0050396188454 val loss 571.8625748005319\n",
      "Time elapsed: 28.77 min\n",
      "Epoch 210: train loss 557.0098726381223 val loss 570.4856669649165 (no improvement 26)\n",
      "Epoch 210: train loss 557.0098726381223 val loss 570.4856669649165\n",
      "Time elapsed: 28.91 min\n",
      "Epoch 211: train loss 556.6914996316834 val loss 572.8745079040527 (no improvement 27)\n",
      "Epoch 211: train loss 556.6914996316834 val loss 572.8745079040527\n",
      "Time elapsed: 29.05 min\n",
      "Epoch 212: train loss 556.5880196392711 val loss 570.8770165950694 (no improvement 28)\n",
      "Epoch 212: train loss 556.5880196392711 val loss 570.8770165950694\n",
      "Time elapsed: 29.19 min\n",
      "Epoch 213: train loss 556.7140041643637 val loss 570.9200547400941 (no improvement 29)\n",
      "Epoch 213: train loss 556.7140041643637 val loss 570.9200547400941\n",
      "Time elapsed: 29.32 min\n",
      "No improvement after 30 epochs, stopping early\n",
      "Total Training Time: 29.32 min\n"
     ]
    }
   ],
   "source": [
    "seq_len = 96\n",
    "n_features = 1\n",
    "\n",
    "model, history = train_model(\n",
    "    model, \n",
    "    train_dataset, \n",
    "    val_dataset, \n",
    "    n_epochs=250, \n",
    "    patience=30,\n",
    "    batch_size=BATCH_SIZE\n",
    ")"
   ]
  },
  {
   "cell_type": "code",
   "execution_count": 187,
   "id": "5ac07db3-6cd3-43c5-8b2f-9c2c55c3aca8",
   "metadata": {
    "tags": []
   },
   "outputs": [
    {
     "data": {
      "image/png": "[encoded data removed]",
      "text/plain": [
       "<Figure size 640x480 with 1 Axes>"
      ]
     },
     "metadata": {},
     "output_type": "display_data"
    }
   ],
   "source": [
    "ax = plt.figure().gca()\n",
    "\n",
    "ax.plot(history['train'])\n",
    "ax.plot(history['val'])\n",
    "plt.ylabel('Loss')\n",
    "plt.xlabel('Epoch')\n",
    "plt.legend(['train', 'test'])\n",
    "plt.title('Loss over training epochs')\n",
    "plt.show();"
   ]
  },
  {
   "cell_type": "markdown",
   "id": "a41907f6-8355-447e-bd8e-10836e0890c8",
   "metadata": {},
   "source": [
    "Our model converged quite well. Seems like we might've needed a larger validation set to smoothen the results, but that'll do for now."
   ]
  },
  {
   "cell_type": "markdown",
   "id": "83fbc6c5-d0f9-45f3-b3d6-7e97353d9d64",
   "metadata": {},
   "source": [
    "### Saving the model"
   ]
  },
  {
   "cell_type": "markdown",
   "id": "375fdfea-254a-47ab-8fca-18f50528126e",
   "metadata": {},
   "source": [
    "Let's store the model for later use:"
   ]
  },
  {
   "cell_type": "code",
   "execution_count": 188,
   "id": "bfbc7265-a4b2-4e3b-943f-8d63aa94f264",
   "metadata": {
    "tags": []
   },
   "outputs": [],
   "source": [
    "MODEL_PATH = 'model/Final_VAE_10u_v1.pth'\n",
    "\n",
    "torch.save(model, MODEL_PATH)"
   ]
  },
  {
   "cell_type": "markdown",
   "id": "2293c6a5-de71-4c70-827a-082c42ea111a",
   "metadata": {},
   "source": [
    "### Saving a history to file"
   ]
  },
  {
   "cell_type": "code",
   "execution_count": 189,
   "id": "be704991-29ca-42bd-8793-6b50cbdfab80",
   "metadata": {
    "tags": []
   },
   "outputs": [
    {
     "name": "stdout",
     "output_type": "stream",
     "text": [
      "History dictionary saved successfully to file\n"
     ]
    }
   ],
   "source": [
    "import pickle\n",
    "\n",
    "# save dictionary to person_data.pkl file\n",
    "with open('history/Final_VAE_10u_v1.pkl', 'wb') as fp:\n",
    "    pickle.dump(history, fp)\n",
    "    print('History dictionary saved successfully to file')"
   ]
  },
  {
   "cell_type": "markdown",
   "id": "efeb7f55-b08d-46d1-927a-58d497e3d6fb",
   "metadata": {},
   "source": [
    "### Load Model"
   ]
  },
  {
   "cell_type": "markdown",
   "id": "623895bd-e4de-48dc-8760-02538b99c31f",
   "metadata": {},
   "source": [
    "Uncomment the next lines, if you want to download and load the pre-trained model:"
   ]
  },
  {
   "cell_type": "code",
   "execution_count": 29,
   "id": "0f967caa-bd87-4e6a-a1c1-1af6214d23e2",
   "metadata": {
    "tags": []
   },
   "outputs": [],
   "source": [
    "# model = torch.load('./model/model_1_LSTM_AE.pth')\n",
    "# model = model.to(device)"
   ]
  },
  {
   "cell_type": "markdown",
   "id": "a4ac0e44-5964-4023-b2f5-4243fa9edca4",
   "metadata": {
    "tags": []
   },
   "source": [
    "### Load History"
   ]
  },
  {
   "cell_type": "code",
   "execution_count": 30,
   "id": "92b5ae05-449f-46b1-8f1c-a20baddffe13",
   "metadata": {
    "tags": []
   },
   "outputs": [],
   "source": [
    "# # Read dictionary pkl file\n",
    "# with open('history/model_AE_100u_v1.pkl', 'rb') as fp:\n",
    "#     history = pickle.load(fp)\n",
    "#     print('History dictionary')\n",
    "#     print(history.keys())"
   ]
  },
  {
   "cell_type": "markdown",
   "id": "c0cd73e2-64da-4f37-8fea-a504b88640a4",
   "metadata": {},
   "source": [
    "### Choosing a threshold"
   ]
  },
  {
   "cell_type": "markdown",
   "id": "2f8b06f8-2f65-41c6-9adf-198109569d0f",
   "metadata": {},
   "source": [
    "With our model at hand, we can have a look at the reconstruction error on the training set. Let's start by writing a helper function to get predictions from our model:"
   ]
  },
  {
   "cell_type": "code",
   "execution_count": 190,
   "id": "790ab080-3e7b-4f4e-a5c7-57e5cd0ff940",
   "metadata": {
    "tags": []
   },
   "outputs": [],
   "source": [
    "def predict(model, dataset):\n",
    "    predictions, losses = [], []\n",
    "    criterion = nn.L1Loss(reduction='sum').to(device)\n",
    "    with torch.no_grad():\n",
    "        model = model.eval()\n",
    "        for seq_true in dataset:\n",
    "            seq_true = seq_true.to(device)\n",
    "            seq_pred, encoded, mean, std = model(seq_true)\n",
    "\n",
    "            # total loss = reconstruction loss + KL divergence\n",
    "            #kl_divergence = (0.5 * (z_mean**2 + torch.exp(z_log_var) - z_log_var - 1)).sum()\n",
    "            kl_div = -0.5 * torch.sum(1 + std \n",
    "                                      - mean**2 \n",
    "                                      - torch.exp(std), \n",
    "                                      axis=1) # sum over latent dimension\n",
    "\n",
    "            reconstruction_loss = criterion(seq_pred, seq_true)\n",
    "            \n",
    "            loss = reconstruction_loss + kl_div\n",
    "\n",
    "            predictions.append(seq_pred.cpu().numpy().flatten())\n",
    "            losses.append(loss.item())\n",
    "            \n",
    "    return predictions, losses, encoded, mean, std"
   ]
  },
  {
   "cell_type": "code",
   "execution_count": 194,
   "id": "bfb6d8e9-f85c-4d0d-9092-45c73c712f5a",
   "metadata": {
    "tags": []
   },
   "outputs": [],
   "source": [
    "def predict(model, dataset):\n",
    "    predictions, losses = [], []\n",
    "    criterion = nn.L1Loss(reduction='sum').to(device)\n",
    "    with torch.no_grad():\n",
    "        model = model.eval()\n",
    "        for input_seq, _ in dataset:  # extract only input sequence\n",
    "            input_seq = input_seq.to(device)\n",
    "            seq_pred, encoded, mean, std = model(input_seq)\n",
    "\n",
    "            # total loss = reconstruction loss + KL divergence\n",
    "            kl_div = -0.5 * torch.sum(1 + std \n",
    "                                      - mean**2 \n",
    "                                      - torch.exp(std), \n",
    "                                      axis=1) # sum over latent dimension\n",
    "\n",
    "            reconstruction_loss = criterion(seq_pred, input_seq)\n",
    "            \n",
    "            loss = reconstruction_loss + kl_div\n",
    "\n",
    "            predictions.append(seq_pred.cpu().numpy().flatten())\n",
    "            losses.append(loss.item())\n",
    "            \n",
    "    return predictions, losses, encoded, mean, std"
   ]
  },
  {
   "cell_type": "markdown",
   "id": "08394214-d864-4e5f-a7d5-203baf2f7507",
   "metadata": {},
   "source": [
    "Our function goes through each example in the dataset and records the predictions and losses. Let's get the losses and have a look at them:"
   ]
  },
  {
   "cell_type": "code",
   "execution_count": 200,
   "id": "4bad5d2a-e89a-4f9c-9131-6e2384f503e9",
   "metadata": {
    "tags": []
   },
   "outputs": [
    {
     "data": {
      "text/plain": [
       "(tensor([[0.0970, 0.0950, 0.0950, 0.0950, 0.0950, 0.0960, 0.0950, 0.0960, 0.0980,\n",
       "          0.0990, 0.0970, 0.0960, 0.0950, 0.0970, 0.0960, 0.0950, 0.0960, 0.0960,\n",
       "          0.1280, 0.0990, 0.0240, 0.0290, 0.0220, 0.0220, 0.0230, 0.0120, 0.0080,\n",
       "          0.0010, 0.0010, 0.0030, 0.0070, 0.0080, 0.0080, 0.0070, 0.0090, 0.0080,\n",
       "          0.0080, 0.0070, 0.0070, 0.0060, 0.0060, 0.0040, 0.0080, 0.0090, 0.0080,\n",
       "          0.0070, 0.0070, 0.0080, 0.0060, 0.0010, 0.0010, 0.0010, 0.0010, 0.0010,\n",
       "          0.0010, 0.0010, 0.0010, 0.0010, 0.0010, 0.0010, 0.0010, 0.0010, 0.0010,\n",
       "          0.0010, 0.0010, 0.0090, 0.0140, 0.0090, 0.0170, 0.0120, 0.0100, 0.0150,\n",
       "          0.0640, 0.0350, 0.0830, 0.1320, 0.2120, 0.2170, 0.1090, 0.2370, 0.2300,\n",
       "          0.1100, 0.1170, 0.1100, 0.1030, 0.1030, 0.1020, 0.1010, 0.1030, 0.1030,\n",
       "          0.1040, 0.0970, 0.0970, 0.0970, 0.0990, 0.0970]]),\n",
       " tensor([[0.0150, 0.0060, 0.0190, 0.0190, 0.0070, 0.0140, 0.0190, 0.0120, 0.0100,\n",
       "          0.0190, 0.0160, 0.0050, 0.0190, 0.0190, 0.0050, 0.0170, 0.0190, 0.0090,\n",
       "          0.0120, 0.0190, 0.0130, 0.0080, 0.0190, 0.0180, 0.0040, 0.0180, 0.0180,\n",
       "          0.0080, 0.0130, 0.0190, 0.0120, 0.0090, 0.0190, 0.0150, 0.0060, 0.0190,\n",
       "          0.0190, 0.0050, 0.0160, 0.0190, 0.0110, 0.0110, 0.0190, 0.0160, 0.0060,\n",
       "          0.0190, 0.0190, 0.0060, 0.0170, 0.0190, 0.0130, 0.0100, 0.0160, 0.0060,\n",
       "          0.0280, 0.0190, 0.0090, 0.0290, 0.0110, 0.0180, 0.0280, 0.0030, 0.0270,\n",
       "          0.0210, 0.0090, 0.0280, 0.0130, 0.0170, 0.0310, 0.0050, 0.0240, 0.0230,\n",
       "          0.0080, 0.0280, 0.0140, 0.0160, 0.0300, 0.0030, 0.0270, 0.0190, 0.0070,\n",
       "          0.0190, 0.0200, 0.0180, 0.0070, 0.0160, 0.0200, 0.0180, 0.0040, 0.0190,\n",
       "          0.0190, 0.0140, 0.0080, 0.0200, 0.0190, 0.0090]]))"
      ]
     },
     "execution_count": 200,
     "metadata": {},
     "output_type": "execute_result"
    }
   ],
   "source": [
    "train_dataset[0]"
   ]
  },
  {
   "cell_type": "code",
   "execution_count": 195,
   "id": "a007741e-fd6f-48c1-94c9-5f1fbc493f18",
   "metadata": {
    "tags": []
   },
   "outputs": [
    {
     "data": {
      "image/png": "[encoded data removed]",
      "text/plain": [
       "<Figure size 640x480 with 1 Axes>"
      ]
     },
     "metadata": {},
     "output_type": "display_data"
    }
   ],
   "source": [
    "_, losses, _, mean, std = predict(model, train_dataset)\n",
    "\n",
    "sns.distplot(losses, bins=50, kde=True);"
   ]
  },
  {
   "cell_type": "code",
   "execution_count": 197,
   "id": "0d15f05d-4286-4dbb-8fad-2169476884b0",
   "metadata": {
    "tags": []
   },
   "outputs": [],
   "source": [
    "THRESHOLD = 2000"
   ]
  },
  {
   "cell_type": "markdown",
   "id": "a743b32c-ea43-4a27-9e43-8438e4b55b9b",
   "metadata": {},
   "source": [
    "### Evaluation"
   ]
  },
  {
   "cell_type": "markdown",
   "id": "da9e1fa6-2f1b-4b87-a71e-609583f4273b",
   "metadata": {},
   "source": [
    "Using the threshold, we can turn the problem into a simple binary classification task:\n",
    "\n",
    "* If the reconstruction loss for an example is below the threshold, we'll classify it as a normal heartbeat\n",
    "* Alternatively, if the loss is higher than the threshold, we'll classify it as an anomaly"
   ]
  },
  {
   "cell_type": "markdown",
   "id": "e8f1a487-9a7b-4010-bf2f-3f16502e7086",
   "metadata": {},
   "source": [
    "### Normal energy consumption"
   ]
  },
  {
   "cell_type": "markdown",
   "id": "77d85f00-38bc-4276-95f5-9f5c0dfab858",
   "metadata": {},
   "source": [
    "Let's check how well our model does on normal datasets. We'll use the normal datasets from the test set (our model haven't seen those):"
   ]
  },
  {
   "cell_type": "code",
   "execution_count": 201,
   "id": "28fe13b4-7c2f-4884-94a5-b006d654c399",
   "metadata": {
    "tags": []
   },
   "outputs": [
    {
     "data": {
      "image/png": "[encoded data removed]",
      "text/plain": [
       "<Figure size 640x480 with 1 Axes>"
      ]
     },
     "metadata": {},
     "output_type": "display_data"
    }
   ],
   "source": [
    "predictions, pred_losses, _, _, _ = predict(model, test_dataset)\n",
    "sns.distplot(pred_losses, bins=50, kde=True);"
   ]
  },
  {
   "cell_type": "markdown",
   "id": "5749d846-c4aa-41d5-96f0-a81e42c442fc",
   "metadata": {},
   "source": [
    "We'll count the correct predictions:"
   ]
  },
  {
   "cell_type": "code",
   "execution_count": 203,
   "id": "4c07ef34-bfdd-44b4-9a6f-d0c1e6ebf884",
   "metadata": {
    "tags": []
   },
   "outputs": [
    {
     "name": "stdout",
     "output_type": "stream",
     "text": [
      "Correct normal predictions: 87/94\n"
     ]
    }
   ],
   "source": [
    "correct = sum(l <= THRESHOLD for l in pred_losses)\n",
    "print(f'Correct normal predictions: {correct}/{len(test_dataset)}')"
   ]
  },
  {
   "cell_type": "markdown",
   "id": "83939b9d-3a85-443f-9df7-fc0c327b9ca6",
   "metadata": {},
   "source": [
    "### Anomalies"
   ]
  },
  {
   "cell_type": "markdown",
   "id": "2f693c9b-63b4-4339-9b47-d71ebee43268",
   "metadata": {},
   "source": [
    "We'll do the same with the anomaly examples, but their number is much higher. We'll get a subset that has the same size as the normal datasets:"
   ]
  },
  {
   "cell_type": "markdown",
   "id": "6944cc12-2291-4b51-9c74-fc549a12818a",
   "metadata": {
    "tags": []
   },
   "source": [
    "We can add this type of theif attacks"
   ]
  },
  {
   "cell_type": "code",
   "execution_count": 204,
   "id": "04cc9125-8b04-4ec2-9c6e-a9d9b1220281",
   "metadata": {
    "tags": []
   },
   "outputs": [],
   "source": [
    "# anomaly_dataset = test_anomaly_dataset[:len(test_normal_dataset)]"
   ]
  },
  {
   "cell_type": "markdown",
   "id": "004064b7-d611-490b-83da-4f37d54d466b",
   "metadata": {},
   "source": [
    "Now we can take the predictions of our model for the subset of anomalies:"
   ]
  },
  {
   "cell_type": "code",
   "execution_count": 205,
   "id": "4e1de615-110c-4526-8035-2ad81f81ae0e",
   "metadata": {
    "tags": []
   },
   "outputs": [],
   "source": [
    "# predictions, pred_losses = predict(model, anomaly_dataset)\n",
    "# sns.distplot(pred_losses, bins=50, kde=True);"
   ]
  },
  {
   "cell_type": "markdown",
   "id": "0ef1c5b7-cece-49cf-9c46-3887558b7796",
   "metadata": {},
   "source": [
    "Finally, we can count the number of examples above the threshold (considered as anomalies):"
   ]
  },
  {
   "cell_type": "markdown",
   "id": "b99c64ec-ebe0-4242-98cb-5f58b6a31cb1",
   "metadata": {},
   "source": [
    "We have very good results. In the real world, you can tweak the threshold depending on what kind of errors you want to tolerate. In this case, you might want to have more false positives (normal heartbeats considered as anomalies) than false negatives (anomalies considered as normal)."
   ]
  },
  {
   "cell_type": "markdown",
   "id": "b5dde204-33f7-4693-a534-236b69140626",
   "metadata": {},
   "source": [
    "### Looking at Examples"
   ]
  },
  {
   "cell_type": "markdown",
   "id": "f13773de-d7e9-4a29-a10c-bfc9306315e0",
   "metadata": {},
   "source": [
    "We can overlay the real and reconstructed Time Series values to see how close they are. We'll do it for some normal and anomaly cases:"
   ]
  },
  {
   "cell_type": "code",
   "execution_count": 206,
   "id": "098eee85-4a71-41ab-a025-94c57d4e1209",
   "metadata": {
    "tags": []
   },
   "outputs": [],
   "source": [
    "def plot_prediction(data, model, title, ax):\n",
    "    predictions, pred_losses, _, _, _ = predict(model, [data])\n",
    "\n",
    "    ax.plot(data, label='true')\n",
    "    ax.plot(predictions[0], label='reconstructed')\n",
    "    ax.set_title(f'{title} (loss: {np.around(pred_losses[0], 2)})')\n",
    "    \n",
    "    # ax[1].imshow(np.atleast_2d(pred_losses), aspect=5, cmap='Wistia')\n",
    "    # ax[1].set_xticks([])\n",
    "    # ax[1].set_yticks([])\n",
    "    \n",
    "    ax.legend()"
   ]
  },
  {
   "cell_type": "code",
   "execution_count": 207,
   "id": "298580a5-7fac-4c37-a924-dbf5572cb1ee",
   "metadata": {
    "tags": []
   },
   "outputs": [],
   "source": [
    "# def plot_prediction(data, model, title, ax):\n",
    "#     predictions, pred_losses = predict(model, [data])\n",
    "#     pos = int(len(data)-1)\n",
    "#     se = np.square(data - predictions[0])\n",
    "#     se = se[:, pos]\n",
    "\n",
    "#     ax.plot(data, label='true')\n",
    "#     ax.plot(predictions[0], label='reconstructed')\n",
    "#     ax.set_title(f'{title} (loss: {np.around(pred_losses[0], 2)})')\n",
    "\n",
    "#     ax.imshow(np.atleast_3d(se).T, aspect=5, cmap='Wistia')\n",
    "#     ax.set_xticks([])\n",
    "#     ax.set_yticks([])\n",
    "#     ax.legend()"
   ]
  },
  {
   "cell_type": "code",
   "execution_count": 208,
   "id": "dd225742-9ddf-48b4-9091-1133329d3130",
   "metadata": {
    "tags": []
   },
   "outputs": [],
   "source": [
    "# from matplotlib.colors import LinearSegmentedColormap\n",
    "# def plot_prediction(data, model, title, ax):\n",
    "#     predictions, pred_losses = predict(model, [data])\n",
    "#     pos = int(len(data)-1)\n",
    "#     se = np.square(data - predictions[0])\n",
    "#     se = se[:, pos]\n",
    "\n",
    "#     ax1 = ax[0]\n",
    "#     ax1.plot(data, label='true')\n",
    "#     ax1.plot(predictions[0], label='reconstructed')\n",
    "#     ax1.set_title(f'{title} (loss: {np.around(pred_losses[0], 2)})')\n",
    "#     ax1.legend()\n",
    "#     ax1.set_xlim(0, len(data))\n",
    "    \n",
    "#     # rdgn = sns.diverging_palette(h_neg=130, h_pos=10, s=99, l=55, sep=3, as_cmap=True)\n",
    "#     ax2 = ax[1]\n",
    "#     im = ax2.imshow(np.atleast_3d(se).T, aspect=5, cmap='Wistia')\n",
    "#     ax2.set_xticks([])\n",
    "#     ax2.set_yticks([])\n",
    "#     # fig.colorbar(im, ax=ax2)\n",
    "#     return ax1, ax2"
   ]
  },
  {
   "cell_type": "code",
   "execution_count": 209,
   "id": "1d1cd940-0062-448a-ae9a-51c14bed2ec7",
   "metadata": {
    "tags": []
   },
   "outputs": [],
   "source": [
    "# fig, axs = plt.subplots(2, 1, figsize=(8, 6))\n",
    "# plot_prediction(data, model, title='Prediction', ax=axs)\n",
    "# plt.tight_layout()\n",
    "# plt.show()"
   ]
  },
  {
   "cell_type": "code",
   "execution_count": 215,
   "id": "b5ec189b-d606-4ed5-a4f3-876062db8fba",
   "metadata": {
    "tags": []
   },
   "outputs": [
    {
     "data": {
      "text/plain": [
       "tensor([[[0.0230, 0.0270, 0.0330, 0.0330, 0.0220, 0.0290, 0.0330, 0.0330,\n",
       "          0.0180, 0.0320, 0.0340, 0.0300, 0.0180, 0.0310, 0.0330, 0.0280,\n",
       "          0.0290, 0.0330, 0.0680, 0.0450, 0.0460, 0.0450, 0.0700, 0.0670,\n",
       "          0.0680, 0.0400, 0.0280, 0.0030, 0.0030, 0.0140, 0.0190, 0.0120,\n",
       "          0.0040, 0.0190, 0.0190, 0.0080, 0.0100, 0.0190, 0.0190, 0.0030,\n",
       "          0.0160, 0.0190, 0.0160, 0.0030, 0.0180, 0.0190, 0.0160, 0.0040,\n",
       "          0.0190, 0.0190, 0.0130, 0.0030, 0.0260, 0.0280, 0.0040, 0.0200,\n",
       "          0.0300, 0.0060, 0.0160, 0.0310, 0.0110, 0.0120, 0.0300, 0.0170,\n",
       "          0.0080, 0.0300, 0.0200, 0.0060, 0.0290, 0.0240, 0.0030, 0.0260,\n",
       "          0.0290, 0.0040, 0.0220, 0.0300, 0.0040, 0.0180, 0.0300, 0.0100,\n",
       "          0.0090, 0.0190, 0.0200, 0.0790, 0.2700, 0.1270, 0.2640, 0.2560,\n",
       "          0.2540, 0.2530, 0.2760, 0.2540, 0.2010, 0.2000, 0.1990, 0.1980]],\n",
       "\n",
       "        [[0.0990, 0.0970, 0.0940, 0.0750, 0.0810, 0.0790, 0.0750, 0.0710,\n",
       "          0.0720, 0.0730, 0.1170, 0.2830, 0.2560, 0.2570, 0.2120, 0.1050,\n",
       "          0.0590, 0.0580, 0.0600, 0.0610, 0.0590, 0.0590, 0.0610, 0.0600,\n",
       "          0.0600, 0.0610, 0.0620, 0.0570, 0.0590, 0.0600, 0.0600, 0.0590,\n",
       "          0.0260, 0.0220, 0.0190, 0.0140, 0.0140, 0.0150, 0.0140, 0.0150,\n",
       "          0.0140, 0.0150, 0.0140, 0.0150, 0.0150, 0.0140, 0.0160, 0.0220,\n",
       "          0.0230, 0.0190, 0.0150, 0.0140, 0.0150, 0.0140, 0.0150, 0.0150,\n",
       "          0.0140, 0.0300, 0.0140, 0.0150, 0.0140, 0.0150, 0.0290, 0.0150,\n",
       "          0.0150, 0.0150, 0.0150, 0.0290, 0.0140, 0.0150, 0.0150, 0.0200,\n",
       "          0.0250, 0.0140, 0.0140, 0.0140, 0.0280, 0.0160, 0.0150, 0.0140,\n",
       "          0.0150, 0.0300, 0.0140, 0.0140, 0.0150, 0.1510, 0.0900, 0.1080,\n",
       "          0.0840, 0.0480, 0.0380, 0.0790, 0.3070, 0.2850, 0.2820, 0.2740]],\n",
       "\n",
       "        [[0.1330, 0.1810, 0.1430, 0.1380, 0.1180, 0.1190, 0.1250, 0.1330,\n",
       "          0.1340, 0.1320, 0.1320, 0.1280, 0.0960, 0.0800, 0.1250, 0.1320,\n",
       "          0.1200, 0.1210, 0.0890, 0.0880, 0.1190, 0.1160, 0.0490, 0.1280,\n",
       "          0.1170, 0.0330, 0.1250, 0.0470, 0.1190, 0.0410, 0.0600, 0.0530,\n",
       "          0.0200, 0.0040, 0.0110, 0.0200, 0.0200, 0.0190, 0.0090, 0.0200,\n",
       "          0.0190, 0.0060, 0.0090, 0.0200, 0.0190, 0.0070, 0.0070, 0.0200,\n",
       "          0.0200, 0.0080, 0.0060, 0.0200, 0.0200, 0.0090, 0.0050, 0.0200,\n",
       "          0.0200, 0.0090, 0.0050, 0.0200, 0.0190, 0.0110, 0.0050, 0.0190,\n",
       "          0.0200, 0.0120, 0.0040, 0.0190, 0.0190, 0.0140, 0.0040, 0.0160,\n",
       "          0.0200, 0.0150, 0.0040, 0.0150, 0.0200, 0.0170, 0.0040, 0.0140,\n",
       "          0.0200, 0.0360, 0.0960, 0.1530, 0.1300, 0.0950, 0.1150, 0.2090,\n",
       "          0.3160, 0.3030, 0.2490, 0.2450, 0.1410, 0.1310, 0.1090, 0.1220]]])"
      ]
     },
     "execution_count": 215,
     "metadata": {},
     "output_type": "execute_result"
    }
   ],
   "source": [
    "test_dataset[0:3][0]"
   ]
  },
  {
   "cell_type": "code",
   "execution_count": 217,
   "id": "db10c8d5-8e74-472a-9de9-84c3c46eba27",
   "metadata": {
    "tags": []
   },
   "outputs": [
    {
     "ename": "ValueError",
     "evalue": "too many values to unpack (expected 2)",
     "output_type": "error",
     "traceback": [
      "\u001b[0;31m---------------------------------------------------------------------------\u001b[0m",
      "\u001b[0;31mValueError\u001b[0m                                Traceback (most recent call last)",
      "Cell \u001b[0;32mIn[217], line 8\u001b[0m\n\u001b[1;32m      1\u001b[0m fig, axs \u001b[38;5;241m=\u001b[39m plt\u001b[38;5;241m.\u001b[39msubplots(\n\u001b[1;32m      2\u001b[0m   nrows\u001b[38;5;241m=\u001b[39m\u001b[38;5;241m3\u001b[39m,\n\u001b[1;32m      3\u001b[0m   ncols\u001b[38;5;241m=\u001b[39m\u001b[38;5;241m3\u001b[39m,\n\u001b[1;32m      4\u001b[0m   figsize\u001b[38;5;241m=\u001b[39m(\u001b[38;5;241m22\u001b[39m, \u001b[38;5;241m8\u001b[39m)\n\u001b[1;32m      5\u001b[0m )\n\u001b[1;32m      7\u001b[0m \u001b[38;5;28;01mfor\u001b[39;00m i, data \u001b[38;5;129;01min\u001b[39;00m \u001b[38;5;28menumerate\u001b[39m(test_dataset[\u001b[38;5;241m0\u001b[39m:\u001b[38;5;241m3\u001b[39m]):\n\u001b[0;32m----> 8\u001b[0m     \u001b[43mplot_prediction\u001b[49m\u001b[43m(\u001b[49m\u001b[43mdata\u001b[49m\u001b[43m,\u001b[49m\u001b[43m \u001b[49m\u001b[43mmodel\u001b[49m\u001b[43m,\u001b[49m\u001b[43m \u001b[49m\u001b[43mtitle\u001b[49m\u001b[38;5;241;43m=\u001b[39;49m\u001b[38;5;124;43m'\u001b[39;49m\u001b[38;5;124;43mNormal\u001b[39;49m\u001b[38;5;124;43m'\u001b[39;49m\u001b[43m,\u001b[49m\u001b[43m \u001b[49m\u001b[43max\u001b[49m\u001b[38;5;241;43m=\u001b[39;49m\u001b[43maxs\u001b[49m\u001b[43m[\u001b[49m\u001b[38;5;241;43m0\u001b[39;49m\u001b[43m,\u001b[49m\u001b[43m \u001b[49m\u001b[43mi\u001b[49m\u001b[43m]\u001b[49m\u001b[43m)\u001b[49m\n\u001b[1;32m     10\u001b[0m plt\u001b[38;5;241m.\u001b[39mtight_layout()\n",
      "Cell \u001b[0;32mIn[206], line 2\u001b[0m, in \u001b[0;36mplot_prediction\u001b[0;34m(data, model, title, ax)\u001b[0m\n\u001b[1;32m      1\u001b[0m \u001b[38;5;28;01mdef\u001b[39;00m \u001b[38;5;21mplot_prediction\u001b[39m(data, model, title, ax):\n\u001b[0;32m----> 2\u001b[0m     predictions, pred_losses, _, _, _ \u001b[38;5;241m=\u001b[39m \u001b[43mpredict\u001b[49m\u001b[43m(\u001b[49m\u001b[43mmodel\u001b[49m\u001b[43m,\u001b[49m\u001b[43m \u001b[49m\u001b[43m[\u001b[49m\u001b[43mdata\u001b[49m\u001b[43m]\u001b[49m\u001b[43m)\u001b[49m\n\u001b[1;32m      4\u001b[0m     ax\u001b[38;5;241m.\u001b[39mplot(data, label\u001b[38;5;241m=\u001b[39m\u001b[38;5;124m'\u001b[39m\u001b[38;5;124mtrue\u001b[39m\u001b[38;5;124m'\u001b[39m)\n\u001b[1;32m      5\u001b[0m     ax\u001b[38;5;241m.\u001b[39mplot(predictions[\u001b[38;5;241m0\u001b[39m], label\u001b[38;5;241m=\u001b[39m\u001b[38;5;124m'\u001b[39m\u001b[38;5;124mreconstructed\u001b[39m\u001b[38;5;124m'\u001b[39m)\n",
      "Cell \u001b[0;32mIn[194], line 6\u001b[0m, in \u001b[0;36mpredict\u001b[0;34m(model, dataset)\u001b[0m\n\u001b[1;32m      4\u001b[0m \u001b[38;5;28;01mwith\u001b[39;00m torch\u001b[38;5;241m.\u001b[39mno_grad():\n\u001b[1;32m      5\u001b[0m     model \u001b[38;5;241m=\u001b[39m model\u001b[38;5;241m.\u001b[39meval()\n\u001b[0;32m----> 6\u001b[0m     \u001b[38;5;28;01mfor\u001b[39;00m input_seq, _ \u001b[38;5;129;01min\u001b[39;00m dataset:  \u001b[38;5;66;03m# extract only input sequence\u001b[39;00m\n\u001b[1;32m      7\u001b[0m         input_seq \u001b[38;5;241m=\u001b[39m input_seq\u001b[38;5;241m.\u001b[39mto(device)\n\u001b[1;32m      8\u001b[0m         seq_pred, encoded, mean, std \u001b[38;5;241m=\u001b[39m model(input_seq)\n",
      "\u001b[0;31mValueError\u001b[0m: too many values to unpack (expected 2)"
     ]
    },
    {
     "data": {
      "image/png": "[encoded data removed]",
      "text/plain": [
       "<Figure size 2200x800 with 9 Axes>"
      ]
     },
     "metadata": {},
     "output_type": "display_data"
    }
   ],
   "source": [
    "fig, axs = plt.subplots(\n",
    "  nrows=3,\n",
    "  ncols=3,\n",
    "  figsize=(22, 8)\n",
    ")\n",
    "\n",
    "for i, data in enumerate(test_dataset[0:3]):\n",
    "    plot_prediction(data, model, title='Normal', ax=axs[0, i])\n",
    "\n",
    "plt.tight_layout()\n"
   ]
  },
  {
   "cell_type": "code",
   "execution_count": 216,
   "id": "2aeabcd9-4d11-4d91-9e95-e63786960324",
   "metadata": {
    "tags": []
   },
   "outputs": [
    {
     "ename": "ValueError",
     "evalue": "not enough values to unpack (expected 2, got 1)",
     "output_type": "error",
     "traceback": [
      "\u001b[0;31m---------------------------------------------------------------------------\u001b[0m",
      "\u001b[0;31mValueError\u001b[0m                                Traceback (most recent call last)",
      "Cell \u001b[0;32mIn[216], line 10\u001b[0m\n\u001b[1;32m      1\u001b[0m fig, axs \u001b[38;5;241m=\u001b[39m plt\u001b[38;5;241m.\u001b[39msubplots(\n\u001b[1;32m      2\u001b[0m   nrows\u001b[38;5;241m=\u001b[39m\u001b[38;5;241m4\u001b[39m,\n\u001b[1;32m      3\u001b[0m   ncols\u001b[38;5;241m=\u001b[39m\u001b[38;5;241m3\u001b[39m,\n\u001b[0;32m   (...)\u001b[0m\n\u001b[1;32m      6\u001b[0m   figsize\u001b[38;5;241m=\u001b[39m(\u001b[38;5;241m22\u001b[39m, \u001b[38;5;241m8\u001b[39m)\n\u001b[1;32m      7\u001b[0m )\n\u001b[1;32m      9\u001b[0m \u001b[38;5;28;01mfor\u001b[39;00m i, data \u001b[38;5;129;01min\u001b[39;00m \u001b[38;5;28menumerate\u001b[39m(test_dataset[\u001b[38;5;241m0\u001b[39m:\u001b[38;5;241m3\u001b[39m][\u001b[38;5;241m0\u001b[39m]):\n\u001b[0;32m---> 10\u001b[0m     \u001b[43mplot_prediction\u001b[49m\u001b[43m(\u001b[49m\u001b[43mdata\u001b[49m\u001b[43m,\u001b[49m\u001b[43m \u001b[49m\u001b[43mmodel\u001b[49m\u001b[43m,\u001b[49m\u001b[43m \u001b[49m\u001b[43mtitle\u001b[49m\u001b[38;5;241;43m=\u001b[39;49m\u001b[38;5;124;43m'\u001b[39;49m\u001b[38;5;124;43mNormal\u001b[39;49m\u001b[38;5;124;43m'\u001b[39;49m\u001b[43m,\u001b[49m\u001b[43m \u001b[49m\u001b[43max\u001b[49m\u001b[38;5;241;43m=\u001b[39;49m\u001b[43maxs\u001b[49m\u001b[43m[\u001b[49m\u001b[38;5;241;43m0\u001b[39;49m\u001b[43m,\u001b[49m\u001b[43m \u001b[49m\u001b[43mi\u001b[49m\u001b[43m]\u001b[49m\u001b[43m)\u001b[49m\n\u001b[1;32m     12\u001b[0m \u001b[38;5;66;03m# for i, data in enumerate(test_dataset[23:26]):\u001b[39;00m\n\u001b[1;32m     13\u001b[0m \u001b[38;5;66;03m#     plot_prediction(data, model, title='Normal', ax=axs[1, i])\u001b[39;00m\n\u001b[1;32m     14\u001b[0m     \n\u001b[0;32m   (...)\u001b[0m\n\u001b[1;32m     18\u001b[0m \u001b[38;5;66;03m# for i, data in enumerate(test_dataset[29:32]):\u001b[39;00m\n\u001b[1;32m     19\u001b[0m \u001b[38;5;66;03m#     plot_prediction(data, model, title='Normal', ax=axs[3, i])\u001b[39;00m\n\u001b[1;32m     21\u001b[0m plt\u001b[38;5;241m.\u001b[39mtight_layout()\n",
      "Cell \u001b[0;32mIn[206], line 2\u001b[0m, in \u001b[0;36mplot_prediction\u001b[0;34m(data, model, title, ax)\u001b[0m\n\u001b[1;32m      1\u001b[0m \u001b[38;5;28;01mdef\u001b[39;00m \u001b[38;5;21mplot_prediction\u001b[39m(data, model, title, ax):\n\u001b[0;32m----> 2\u001b[0m     predictions, pred_losses, _, _, _ \u001b[38;5;241m=\u001b[39m \u001b[43mpredict\u001b[49m\u001b[43m(\u001b[49m\u001b[43mmodel\u001b[49m\u001b[43m,\u001b[49m\u001b[43m \u001b[49m\u001b[43m[\u001b[49m\u001b[43mdata\u001b[49m\u001b[43m]\u001b[49m\u001b[43m)\u001b[49m\n\u001b[1;32m      4\u001b[0m     ax\u001b[38;5;241m.\u001b[39mplot(data, label\u001b[38;5;241m=\u001b[39m\u001b[38;5;124m'\u001b[39m\u001b[38;5;124mtrue\u001b[39m\u001b[38;5;124m'\u001b[39m)\n\u001b[1;32m      5\u001b[0m     ax\u001b[38;5;241m.\u001b[39mplot(predictions[\u001b[38;5;241m0\u001b[39m], label\u001b[38;5;241m=\u001b[39m\u001b[38;5;124m'\u001b[39m\u001b[38;5;124mreconstructed\u001b[39m\u001b[38;5;124m'\u001b[39m)\n",
      "Cell \u001b[0;32mIn[194], line 6\u001b[0m, in \u001b[0;36mpredict\u001b[0;34m(model, dataset)\u001b[0m\n\u001b[1;32m      4\u001b[0m \u001b[38;5;28;01mwith\u001b[39;00m torch\u001b[38;5;241m.\u001b[39mno_grad():\n\u001b[1;32m      5\u001b[0m     model \u001b[38;5;241m=\u001b[39m model\u001b[38;5;241m.\u001b[39meval()\n\u001b[0;32m----> 6\u001b[0m     \u001b[38;5;28;01mfor\u001b[39;00m input_seq, _ \u001b[38;5;129;01min\u001b[39;00m dataset:  \u001b[38;5;66;03m# extract only input sequence\u001b[39;00m\n\u001b[1;32m      7\u001b[0m         input_seq \u001b[38;5;241m=\u001b[39m input_seq\u001b[38;5;241m.\u001b[39mto(device)\n\u001b[1;32m      8\u001b[0m         seq_pred, encoded, mean, std \u001b[38;5;241m=\u001b[39m model(input_seq)\n",
      "\u001b[0;31mValueError\u001b[0m: not enough values to unpack (expected 2, got 1)"
     ]
    },
    {
     "data": {
      "image/png": "[encoded data removed]",
      "text/plain": [
       "<Figure size 2200x800 with 12 Axes>"
      ]
     },
     "metadata": {},
     "output_type": "display_data"
    }
   ],
   "source": [
    "fig, axs = plt.subplots(\n",
    "  nrows=4,\n",
    "  ncols=3,\n",
    "  # sharey=True,\n",
    "  # sharex=True,\n",
    "  figsize=(22, 8)\n",
    ")\n",
    "\n",
    "for i, data in enumerate(test_dataset[0:3][0]):\n",
    "    plot_prediction(data, model, title='Normal', ax=axs[0, i])\n",
    "    \n",
    "# for i, data in enumerate(test_dataset[23:26]):\n",
    "#     plot_prediction(data, model, title='Normal', ax=axs[1, i])\n",
    "    \n",
    "# for i, data in enumerate(test_dataset[26:29]):\n",
    "#     plot_prediction(data, model, title='Normal', ax=axs[2, i])\n",
    "    \n",
    "# for i, data in enumerate(test_dataset[29:32]):\n",
    "#     plot_prediction(data, model, title='Normal', ax=axs[3, i])\n",
    "\n",
    "plt.tight_layout()"
   ]
  },
  {
   "cell_type": "code",
   "execution_count": 116,
   "id": "45a7d3ac-e5ee-4d5d-ba48-93a238d26c15",
   "metadata": {
    "tags": []
   },
   "outputs": [],
   "source": [
    "predictions, pred_losses = predict(model, test_normal_dataset)"
   ]
  },
  {
   "cell_type": "code",
   "execution_count": 117,
   "id": "017521ff-094b-484c-884d-25d0447395ee",
   "metadata": {
    "tags": []
   },
   "outputs": [
    {
     "ename": "AttributeError",
     "evalue": "'list' object has no attribute 'squeeze'",
     "output_type": "error",
     "traceback": [
      "\u001b[0;31m---------------------------------------------------------------------------\u001b[0m",
      "\u001b[0;31mAttributeError\u001b[0m                            Traceback (most recent call last)",
      "Cell \u001b[0;32mIn[117], line 1\u001b[0m\n\u001b[0;32m----> 1\u001b[0m true \u001b[38;5;241m=\u001b[39m \u001b[43mtest_normal_dataset\u001b[49m\u001b[38;5;241;43m.\u001b[39;49m\u001b[43msqueeze\u001b[49m()\u001b[38;5;241m.\u001b[39mnumpy()\n",
      "\u001b[0;31mAttributeError\u001b[0m: 'list' object has no attribute 'squeeze'"
     ]
    }
   ],
   "source": [
    "true = test_normal_dataset.squeeze().numpy()"
   ]
  },
  {
   "cell_type": "code",
   "execution_count": 111,
   "id": "6ba561b1-3a09-4678-a4f9-7036abf2db1c",
   "metadata": {
    "tags": []
   },
   "outputs": [
    {
     "ename": "AttributeError",
     "evalue": "'list' object has no attribute 'squeeze'",
     "output_type": "error",
     "traceback": [
      "\u001b[0;31m---------------------------------------------------------------------------\u001b[0m",
      "\u001b[0;31mAttributeError\u001b[0m                            Traceback (most recent call last)",
      "Cell \u001b[0;32mIn[111], line 1\u001b[0m\n\u001b[0;32m----> 1\u001b[0m se \u001b[38;5;241m=\u001b[39m np\u001b[38;5;241m.\u001b[39msquare(\u001b[43mtest_normal_dataset\u001b[49m\u001b[38;5;241;43m.\u001b[39;49m\u001b[43msqueeze\u001b[49m()\u001b[38;5;241m.\u001b[39mnumpy() \u001b[38;5;241m-\u001b[39m predictions)[:, \u001b[38;5;241m95\u001b[39m]\n",
      "\u001b[0;31mAttributeError\u001b[0m: 'list' object has no attribute 'squeeze'"
     ]
    }
   ],
   "source": [
    "se = np.square(test_normal_dataset.squeeze().numpy() - predictions)[:, 95]"
   ]
  },
  {
   "cell_type": "code",
   "execution_count": 110,
   "id": "d3a8268f-546a-44ec-92e7-f0a67a46ce6d",
   "metadata": {
    "tags": []
   },
   "outputs": [
    {
     "data": {
      "text/plain": [
       "array([0.026, 0.044, 0.031, 0.021, 0.021, 0.041, 0.023, 0.029, 0.026,\n",
       "       0.045, 0.027, 0.023, 0.022, 0.054, 0.039, 0.031, 0.027, 0.053,\n",
       "       0.037, 0.029, 0.028, 0.046, 0.037, 0.027, 0.028, 0.043, 0.041,\n",
       "       0.023, 0.027, 0.039, 0.048, 0.026, 0.025, 0.036, 0.052, 0.027,\n",
       "       0.024, 0.038, 0.051, 0.028, 0.026, 0.043, 0.046, 0.028, 0.031,\n",
       "       0.048, 0.041, 0.041, 0.057, 0.059, 0.041, 0.045, 0.065, 0.056,\n",
       "       0.041, 0.043, 0.059, 0.036, 0.028, 0.053, 0.048, 0.03 , 0.038,\n",
       "       0.055, 0.036, 0.029, 0.059, 0.076, 0.057, 0.066, 0.076, 0.051,\n",
       "       0.045, 0.067, 0.064, 0.051, 0.053, 0.069, 0.07 , 0.064, 0.065,\n",
       "       0.044, 0.039, 0.061, 0.044, 0.031, 0.037, 0.053, 0.034, 0.035,\n",
       "       0.039, 0.054, 0.034, 0.031, 0.038, 0.045], dtype=float32)"
      ]
     },
     "execution_count": 110,
     "metadata": {},
     "output_type": "execute_result"
    }
   ],
   "source": [
    "test_normal_dataset[0].squeeze().numpy()"
   ]
  },
  {
   "cell_type": "code",
   "execution_count": 1,
   "id": "8f329260-a4ce-4bce-8aeb-a710160b59ff",
   "metadata": {
    "tags": []
   },
   "outputs": [],
   "source": [
    "# predictions"
   ]
  },
  {
   "cell_type": "markdown",
   "id": "8ce30469-473e-48f3-8689-98791980d561",
   "metadata": {},
   "source": [
    "### Test"
   ]
  },
  {
   "cell_type": "markdown",
   "id": "b7f74c00-9bb2-4308-af23-85369f45bc3b",
   "metadata": {},
   "source": [
    "## 5. Evaluate the model using the test set"
   ]
  },
  {
   "cell_type": "markdown",
   "id": "769b7960-bf5b-43f3-b0a1-cfd924ceb4df",
   "metadata": {},
   "source": [
    "# Task\n",
    "\n",
    "### VAE autocoder\n",
    "* https://www.google.com/search?q=variational+autoencoder+based+anomaly+detection+using+reconstruction+probability+github&rlz=1C5CHFA_enTH999TH999&oq=Variational+Autoencoder+based+Anomaly+Detection+using+Reconstruction+Probability+&aqs=chrome.1.69i57j0i512j69i60.3070j0j7&sourceid=chrome&ie=UTF-8\n",
    "* https://github.com/Michedev/VAE_anomaly_detection\n",
    "* https://github.com/smile-yan/vae-anomaly-detection\n",
    "* https://github.com/tarekmuallim/Anomaly-Detection-using-Variational-Autoencoders/blob/master/anomaly_detection_using_vae.py\n",
    "\n",
    "\n",
    "### CNN\n",
    "* https://github.com/khanmhmdi/Cifar-Image-Reconstruction-using-Autoencoder-Models/blob/main/Image_reconstruction.ipynb\n",
    "* https://github.com/ebrahimpichka/conv-autoencoder (test on this now!!)"
   ]
  },
  {
   "cell_type": "code",
   "execution_count": null,
   "id": "7033bf08-4543-4adf-9524-2b313505354a",
   "metadata": {},
   "outputs": [],
   "source": []
  }
 ],
 "metadata": {
  "kernelspec": {
   "display_name": "Python 3 (ipykernel)",
   "language": "python",
   "name": "python3"
  },
  "language_info": {
   "codemirror_mode": {
    "name": "ipython",
    "version": 3
   },
   "file_extension": ".py",
   "mimetype": "text/x-python",
   "name": "python",
   "nbconvert_exporter": "python",
   "pygments_lexer": "ipython3",
   "version": "3.8.10"
  }
 },
 "nbformat": 4,
 "nbformat_minor": 5
}
