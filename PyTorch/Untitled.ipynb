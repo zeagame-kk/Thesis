{
 "cells": [
  {
   "cell_type": "markdown",
   "id": "33349805-4088-4a43-b527-5f61844a09aa",
   "metadata": {},
   "source": [
    "# Introduction to PyTorch"
   ]
  },
  {
   "cell_type": "markdown",
   "id": "a6f8d1c4-019a-47c4-8ce5-b116cc0a99b7",
   "metadata": {},
   "source": [
    "## PyTorch compared to NumPy"
   ]
  },
  {
   "cell_type": "code",
   "execution_count": 1,
   "id": "7d22a084-5eef-4fb8-bb68-ed965313b1ec",
   "metadata": {},
   "outputs": [
    {
     "data": {
      "text/plain": [
       "array([[2, 3, 5],\n",
       "       [1, 2, 9]])"
      ]
     },
     "execution_count": 1,
     "metadata": {},
     "output_type": "execute_result"
    }
   ],
   "source": [
    "import numpy as np\n",
    "np.array([[2, 3, 5], [1, 2, 9]])"
   ]
  },
  {
   "cell_type": "code",
   "execution_count": 2,
   "id": "3abf7361-60f5-4edc-a808-9df77f978012",
   "metadata": {},
   "outputs": [
    {
     "data": {
      "text/plain": [
       "tensor([[2, 3, 5],\n",
       "        [1, 2, 9]])"
      ]
     },
     "execution_count": 2,
     "metadata": {},
     "output_type": "execute_result"
    }
   ],
   "source": [
    "import torch\n",
    "torch.tensor([[2, 3, 5], [1, 2, 9]])"
   ]
  },
  {
   "cell_type": "code",
   "execution_count": 3,
   "id": "24c0d1ed-5ea7-42bc-a089-d67e9e4cb2fe",
   "metadata": {},
   "outputs": [
    {
     "data": {
      "text/plain": [
       "array([[0.51255002, 0.64964171],\n",
       "       [0.9176648 , 0.4809319 ]])"
      ]
     },
     "execution_count": 3,
     "metadata": {},
     "output_type": "execute_result"
    }
   ],
   "source": [
    "np.random.rand(2, 2)"
   ]
  },
  {
   "cell_type": "code",
   "execution_count": 4,
   "id": "1f1a7fde-8b3d-4b3b-90d9-0552c0678f92",
   "metadata": {},
   "outputs": [
    {
     "data": {
      "text/plain": [
       "tensor([[0.0917, 0.8352],\n",
       "        [0.4473, 0.2391]])"
      ]
     },
     "execution_count": 4,
     "metadata": {},
     "output_type": "execute_result"
    }
   ],
   "source": [
    "torch.rand((2, 2))"
   ]
  },
  {
   "cell_type": "code",
   "execution_count": 5,
   "id": "7e97f733-47ce-4d8a-a4d8-510fcd2e6a52",
   "metadata": {},
   "outputs": [
    {
     "data": {
      "text/plain": [
       "(3, 5)"
      ]
     },
     "execution_count": 5,
     "metadata": {},
     "output_type": "execute_result"
    }
   ],
   "source": [
    "a = np.random.randn(3, 5)\n",
    "a.shape"
   ]
  },
  {
   "cell_type": "code",
   "execution_count": 6,
   "id": "c58028e1-c0f2-4cbd-baa3-7ef34be209f6",
   "metadata": {},
   "outputs": [
    {
     "data": {
      "text/plain": [
       "torch.Size([3, 5])"
      ]
     },
     "execution_count": 6,
     "metadata": {},
     "output_type": "execute_result"
    }
   ],
   "source": [
    "a = torch.rand((3, 5))\n",
    "a.shape"
   ]
  },
  {
   "cell_type": "markdown",
   "id": "d96cb6d4-6197-4ae8-a324-d91152e95667",
   "metadata": {},
   "source": [
    "## Matrix operations"
   ]
  },
  {
   "cell_type": "code",
   "execution_count": 7,
   "id": "6fac2ba3-c340-4cab-a5f6-1be5decc04eb",
   "metadata": {},
   "outputs": [
    {
     "data": {
      "text/plain": [
       "array([[1.11029891, 0.45465814],\n",
       "       [1.08632733, 0.41485761]])"
      ]
     },
     "execution_count": 7,
     "metadata": {},
     "output_type": "execute_result"
    }
   ],
   "source": [
    "a = np.random.rand(2, 2)\n",
    "b = np.random.rand(2, 2)\n",
    "np.dot(a, b)"
   ]
  },
  {
   "cell_type": "code",
   "execution_count": 8,
   "id": "f7cb8828-6e03-4e64-ae53-53d3c5477fc0",
   "metadata": {},
   "outputs": [
    {
     "data": {
      "text/plain": [
       "array([[0.70498012, 0.30087853],\n",
       "       [0.44038768, 0.08794654]])"
      ]
     },
     "execution_count": 8,
     "metadata": {},
     "output_type": "execute_result"
    }
   ],
   "source": [
    "np.multiply(a, b)"
   ]
  },
  {
   "cell_type": "code",
   "execution_count": 9,
   "id": "4375295e-57c4-4c76-9679-617801bcebd4",
   "metadata": {},
   "outputs": [
    {
     "data": {
      "text/plain": [
       "tensor([[0.5041, 0.5262],\n",
       "        [1.0446, 1.1968]])"
      ]
     },
     "execution_count": 9,
     "metadata": {},
     "output_type": "execute_result"
    }
   ],
   "source": [
    "a = torch.rand((2, 2))\n",
    "b = torch.rand((2, 2))\n",
    "torch.matmul(a, b)   # Matrix product of two tensors"
   ]
  },
  {
   "cell_type": "code",
   "execution_count": 10,
   "id": "3019bd97-256a-4866-88f7-e21755b00777",
   "metadata": {},
   "outputs": [
    {
     "data": {
      "text/plain": [
       "tensor([[0.0639, 0.2213],\n",
       "        [0.9118, 0.7384]])"
      ]
     },
     "execution_count": 10,
     "metadata": {},
     "output_type": "execute_result"
    }
   ],
   "source": [
    "a * b"
   ]
  },
  {
   "cell_type": "markdown",
   "id": "b10d03cd-a86d-4ca0-b869-30e6bda5d812",
   "metadata": {},
   "source": [
    "## Zeros and "
   ]
  },
  {
   "cell_type": "code",
   "execution_count": 15,
   "id": "39eac0fe-dc4d-4bb1-8a81-4127f067343e",
   "metadata": {
    "tags": []
   },
   "outputs": [
    {
     "data": {
      "text/plain": [
       "tensor([[[0., 0., 0., 0., 0.]]])"
      ]
     },
     "execution_count": 15,
     "metadata": {},
     "output_type": "execute_result"
    }
   ],
   "source": [
    "torch.zeros(1,1,5)"
   ]
  },
  {
   "cell_type": "code",
   "execution_count": null,
   "id": "8d128fbc-8db9-4553-9eec-88ef381d419b",
   "metadata": {},
   "outputs": [],
   "source": []
  }
 ],
 "metadata": {
  "kernelspec": {
   "display_name": "Python 3 (ipykernel)",
   "language": "python",
   "name": "python3"
  },
  "language_info": {
   "codemirror_mode": {
    "name": "ipython",
    "version": 3
   },
   "file_extension": ".py",
   "mimetype": "text/x-python",
   "name": "python",
   "nbconvert_exporter": "python",
   "pygments_lexer": "ipython3",
   "version": "3.8.10"
  }
 },
 "nbformat": 4,
 "nbformat_minor": 5
}
