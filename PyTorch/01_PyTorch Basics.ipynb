{
 "cells": [
  {
   "cell_type": "markdown",
   "id": "eb699777-83a8-43a4-8c77-206772ce73e9",
   "metadata": {},
   "source": [
    "## PyTorch"
   ]
  },
  {
   "cell_type": "code",
   "execution_count": 1,
   "id": "79523a10-7a50-483b-920c-82305d9378a9",
   "metadata": {
    "tags": []
   },
   "outputs": [],
   "source": [
    "import torch #pip install torch or pip3 install torch or conda install torch\n",
    "import numpy as np"
   ]
  },
  {
   "cell_type": "code",
   "execution_count": 2,
   "id": "269676a4-c967-49c5-b163-daeed19d0674",
   "metadata": {
    "tags": []
   },
   "outputs": [
    {
     "data": {
      "text/plain": [
       "'1.24.1'"
      ]
     },
     "execution_count": 2,
     "metadata": {},
     "output_type": "execute_result"
    }
   ],
   "source": [
    "np.__version__"
   ]
  },
  {
   "cell_type": "code",
   "execution_count": 3,
   "id": "67eff2f3-b35f-4c1a-858b-69cb2e8463b6",
   "metadata": {
    "tags": []
   },
   "outputs": [
    {
     "data": {
      "text/plain": [
       "'1.13.1+cu117'"
      ]
     },
     "execution_count": 3,
     "metadata": {},
     "output_type": "execute_result"
    }
   ],
   "source": [
    "torch.__version__"
   ]
  },
  {
   "cell_type": "markdown",
   "id": "31b373e6-637a-4124-b1ff-74f074edec07",
   "metadata": {},
   "source": [
    "## Torch Tensors"
   ]
  },
  {
   "cell_type": "markdown",
   "id": "6ce5039b-90a7-42ae-b2da-9b0d968935f0",
   "metadata": {},
   "source": [
    "### Create torch tensors from Numpy"
   ]
  },
  {
   "cell_type": "code",
   "execution_count": 6,
   "id": "05127e6d-02e5-4d41-b317-f217b74802e2",
   "metadata": {
    "tags": []
   },
   "outputs": [
    {
     "data": {
      "text/plain": [
       "numpy.ndarray"
      ]
     },
     "execution_count": 6,
     "metadata": {},
     "output_type": "execute_result"
    }
   ],
   "source": [
    "#create a numpy array of 1 to 5\n",
    "arr = np.arange(1, 6)\n",
    "# arr\n",
    "\n",
    "#print the data type\n",
    "arr.dtype\n",
    "\n",
    "#print the type()\n",
    "type(arr)"
   ]
  },
  {
   "cell_type": "code",
   "execution_count": 7,
   "id": "6035cff2-f7dc-424d-857e-16c4a13415ec",
   "metadata": {
    "tags": []
   },
   "outputs": [
    {
     "data": {
      "text/plain": [
       "tensor([1, 2, 3, 4, 5])"
      ]
     },
     "execution_count": 7,
     "metadata": {},
     "output_type": "execute_result"
    }
   ],
   "source": [
    "#convert numpy to tensor\n",
    "\n",
    "#1. from_numpy (copy)\n",
    "torch_arr_from = torch.from_numpy(arr)\n",
    "torch_arr_from.dtype  #torch.int64\n",
    "type(torch_arr_from)  #torch.Tensor\n",
    "torch_arr_from.type() #torch.LongTensor (int64); if torch.IntTensor (int32)\n",
    "                      #torch.FloatTensor (float32); if torch.DoubleTensor (float64)\n",
    "#from_numpy is a copy!!!  This is intended, for easy use between numpy and tensor...\n",
    "# arr[2] = 999\n",
    "# torch_arr_from\n",
    "\n",
    "#2. tensor (not a copy)\n",
    "torch_arr_tensor = torch.tensor(arr)  #everything is the same, except it's NOT a copy\n",
    "arr[2] = 9999999\n",
    "torch_arr_tensor\n",
    "\n",
    "#In our class, mostly we use torch.tensor; it won't fail us :-)"
   ]
  },
  {
   "cell_type": "code",
   "execution_count": 14,
   "id": "6a2194b7-19a7-42e4-a662-1146804ff0b0",
   "metadata": {
    "tags": []
   },
   "outputs": [
    {
     "data": {
      "text/plain": [
       "Parameter containing:\n",
       "tensor([0.1012], requires_grad=True)"
      ]
     },
     "execution_count": 14,
     "metadata": {},
     "output_type": "execute_result"
    }
   ],
   "source": [
    "import torch.nn as nn  #nn contains a lot of useful deep learning layers\n",
    "\n",
    "linear_layer = nn.Linear(5, 1)  #basically you insert 5 features, output 1 number\n",
    "linear_layer.weight\n",
    "linear_layer.bias"
   ]
  },
  {
   "cell_type": "code",
   "execution_count": 16,
   "id": "a6f9cca0-0417-4b8b-bba5-99a383a0aaf4",
   "metadata": {
    "tags": []
   },
   "outputs": [
    {
     "data": {
      "text/plain": [
       "torch.Size([1000, 1])"
      ]
     },
     "execution_count": 16,
     "metadata": {},
     "output_type": "execute_result"
    }
   ],
   "source": [
    "#create two linear layers\n",
    "layer1 = nn.Linear(100, 5)\n",
    "layer2 = nn.Linear(5, 1)\n",
    "\n",
    "#try some input that pass through these two layers\n",
    "sample_size = 1000\n",
    "_input = torch.rand(sample_size, 100)\n",
    "_input = layer1(_input)\n",
    "_input = layer2(_input)\n",
    "_input.shape"
   ]
  },
  {
   "cell_type": "code",
   "execution_count": 17,
   "id": "7373ef44-6f2e-4d60-9245-067739d817a4",
   "metadata": {
    "tags": []
   },
   "outputs": [
    {
     "data": {
      "text/plain": [
       "torch.Size([1000, 1])"
      ]
     },
     "execution_count": 17,
     "metadata": {},
     "output_type": "execute_result"
    }
   ],
   "source": [
    "#try nn.Sequential\n",
    "model = nn.Sequential(\n",
    "    layer1,\n",
    "    layer2\n",
    ")\n",
    "\n",
    "_input = torch.rand(sample_size, 100)\n",
    "_input = model(_input)\n",
    "_input.shape"
   ]
  },
  {
   "cell_type": "markdown",
   "id": "fa704af6-99bc-4fd3-843d-2db7a05e779d",
   "metadata": {},
   "source": [
    "## Using GPU and CUDA"
   ]
  },
  {
   "cell_type": "code",
   "execution_count": 18,
   "id": "881a45f6-a67d-4fe3-98a9-a70df2253679",
   "metadata": {
    "tags": []
   },
   "outputs": [
    {
     "data": {
      "text/plain": [
       "0"
      ]
     },
     "execution_count": 18,
     "metadata": {},
     "output_type": "execute_result"
    }
   ],
   "source": [
    "## Get Id of default device\n",
    "torch.cuda.current_device()"
   ]
  },
  {
   "cell_type": "code",
   "execution_count": 19,
   "id": "04a9e730-a2b4-4676-8176-dabfcfabef21",
   "metadata": {
    "tags": []
   },
   "outputs": [
    {
     "data": {
      "text/plain": [
       "'NVIDIA RTX A6000'"
      ]
     },
     "execution_count": 19,
     "metadata": {},
     "output_type": "execute_result"
    }
   ],
   "source": [
    "# 0\n",
    "torch.cuda.get_device_name(0) # Get name device with ID '0'"
   ]
  },
  {
   "cell_type": "code",
   "execution_count": 22,
   "id": "acf3cd8b-f263-49d9-b2d7-e881e64bb8bf",
   "metadata": {
    "tags": []
   },
   "outputs": [
    {
     "data": {
      "text/plain": [
       "0"
      ]
     },
     "execution_count": 22,
     "metadata": {},
     "output_type": "execute_result"
    }
   ],
   "source": [
    "# Returns the current GPU memory usage by \n",
    "# tensors in bytes for a given device\n",
    "torch.cuda.memory_allocated()"
   ]
  },
  {
   "cell_type": "code",
   "execution_count": 21,
   "id": "a9a817de-b6fe-49c6-97b5-135679bb041d",
   "metadata": {
    "tags": []
   },
   "outputs": [
    {
     "name": "stderr",
     "output_type": "stream",
     "text": [
      "/home/nuttunk/.local/lib/python3.8/site-packages/torch/cuda/memory.py:395: FutureWarning: torch.cuda.memory_cached has been renamed to torch.cuda.memory_reserved\n",
      "  warnings.warn(\n"
     ]
    },
    {
     "data": {
      "text/plain": [
       "0"
      ]
     },
     "execution_count": 21,
     "metadata": {},
     "output_type": "execute_result"
    }
   ],
   "source": [
    "# Returns the current GPU memory managed by the\n",
    "# caching allocator in bytes for a given device\n",
    "torch.cuda.memory_cached()"
   ]
  },
  {
   "cell_type": "markdown",
   "id": "80417a58-23eb-4726-b4f6-d4fa75ca2f81",
   "metadata": {},
   "source": [
    "## Sending Models to GPU"
   ]
  },
  {
   "cell_type": "code",
   "execution_count": 23,
   "id": "87aff7de-de4f-4559-bbeb-13afd557c4fb",
   "metadata": {
    "tags": []
   },
   "outputs": [],
   "source": [
    "import torch\n",
    "import torch.nn as nn\n",
    "import torch.nn.functional as F\n",
    "from torch.utils.data import Dataset, DataLoader\n",
    "from sklearn.model_selection import train_test_split\n",
    "\n",
    "import pandas as pd\n",
    "import matplotlib.pyplot as plt\n",
    "%matplotlib inline"
   ]
  },
  {
   "cell_type": "code",
   "execution_count": 24,
   "id": "fe8c7e96-acca-41fd-8bab-68f8e680f9fb",
   "metadata": {
    "tags": []
   },
   "outputs": [],
   "source": [
    "class Model(nn.Module):\n",
    "    def __init__(self, in_features=4, h1=8, h2=9, out_features=3):\n",
    "        super().__init__()\n",
    "        self.fc1 = nn.Linear(in_features,h1)    # input layer\n",
    "        self.fc2 = nn.Linear(h1, h2)            # hidden layer\n",
    "        self.out = nn.Linear(h2, out_features)  # output layer\n",
    "        \n",
    "    def forward(self, x):\n",
    "        x = F.relu(self.fc1(x))\n",
    "        x = F.relu(self.fc2(x))\n",
    "        x = self.out(x)\n",
    "        return x"
   ]
  },
  {
   "cell_type": "code",
   "execution_count": 25,
   "id": "02c712e1-0108-4f5d-9fdf-1cc1e3ef73c4",
   "metadata": {
    "tags": []
   },
   "outputs": [],
   "source": [
    "torch.manual_seed(32)\n",
    "model = Model()"
   ]
  },
  {
   "cell_type": "code",
   "execution_count": 26,
   "id": "0b725949-83ff-411a-adea-e3e644298ef8",
   "metadata": {
    "tags": []
   },
   "outputs": [
    {
     "data": {
      "text/plain": [
       "False"
      ]
     },
     "execution_count": 26,
     "metadata": {},
     "output_type": "execute_result"
    }
   ],
   "source": [
    "# From the discussions here: discuss.pytorch.org/t/how-to-check-if-model-is-on-cuda\n",
    "next(model.parameters()).is_cuda"
   ]
  },
  {
   "cell_type": "code",
   "execution_count": 27,
   "id": "41f64202-5588-41d3-8e78-900f1649e37c",
   "metadata": {
    "tags": []
   },
   "outputs": [],
   "source": [
    "gpumodel = model.cuda()"
   ]
  },
  {
   "cell_type": "code",
   "execution_count": 28,
   "id": "2eddd24f-a4e4-46bb-bd05-292de676c7b4",
   "metadata": {
    "tags": []
   },
   "outputs": [
    {
     "data": {
      "text/plain": [
       "True"
      ]
     },
     "execution_count": 28,
     "metadata": {},
     "output_type": "execute_result"
    }
   ],
   "source": [
    "next(gpumodel.parameters()).is_cuda"
   ]
  },
  {
   "cell_type": "markdown",
   "id": "581d73a0-de06-4d18-bab5-d068203454db",
   "metadata": {},
   "source": [
    "## Convert Tensors to .cuda() tensors"
   ]
  },
  {
   "cell_type": "code",
   "execution_count": 35,
   "id": "fd62eb70-0d59-4354-b220-2ce6f1f51592",
   "metadata": {
    "tags": []
   },
   "outputs": [],
   "source": [
    "df = pd.read_csv('data/iris.csv')\n",
    "# X = df.drop('variety',axis=1).values\n",
    "# y = df['variety'].values\n",
    "# X_train, X_test, y_train, y_test = train_test_split(X,y,test_size=0.2,random_state=33)"
   ]
  },
  {
   "cell_type": "code",
   "execution_count": 36,
   "id": "c588a398-983a-4836-be39-12282a9eed36",
   "metadata": {
    "tags": []
   },
   "outputs": [],
   "source": [
    "# X_train = torch.FloatTensor(X_train).cuda()\n",
    "# X_test = torch.FloatTensor(X_test).cuda()\n",
    "# y_train = torch.LongTensor(y_train).cuda()\n",
    "# y_test = torch.LongTensor(y_test).cuda()"
   ]
  },
  {
   "cell_type": "code",
   "execution_count": null,
   "id": "07331f4f-088a-4272-b4eb-f5c5cff28e6d",
   "metadata": {},
   "outputs": [],
   "source": []
  }
 ],
 "metadata": {
  "kernelspec": {
   "display_name": "Python 3 (ipykernel)",
   "language": "python",
   "name": "python3"
  },
  "language_info": {
   "codemirror_mode": {
    "name": "ipython",
    "version": 3
   },
   "file_extension": ".py",
   "mimetype": "text/x-python",
   "name": "python",
   "nbconvert_exporter": "python",
   "pygments_lexer": "ipython3",
   "version": "3.8.10"
  }
 },
 "nbformat": 4,
 "nbformat_minor": 5
}
