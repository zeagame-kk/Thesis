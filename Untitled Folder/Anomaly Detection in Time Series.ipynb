{
 "cells": [
  {
   "cell_type": "code",
   "execution_count": 1,
   "id": "2e8b70a6-bfc8-43e5-9b1d-0e03509c315b",
   "metadata": {
    "tags": []
   },
   "outputs": [
    {
     "name": "stdout",
     "output_type": "stream",
     "text": [
      "PyTorch version 1.13.1+cu117\n"
     ]
    }
   ],
   "source": [
    "import os\n",
    "import math\n",
    "import warnings\n",
    "import numpy as np\n",
    "import pandas as pd\n",
    "import torch\n",
    "from torch import nn\n",
    "import torch.optim as optim\n",
    "import torch.nn.functional as F\n",
    "from torch.utils.data import Dataset, DataLoader\n",
    "import torch.distributions as dist\n",
    "\n",
    "from statsmodels.tsa.arima_process import ArmaProcess\n",
    "from sklearn.preprocessing import MinMaxScaler\n",
    "from scipy import signal\n",
    "\n",
    "from sklearn.model_selection import train_test_split\n",
    "from tabulate import tabulate\n",
    "\n",
    "import seaborn as sns\n",
    "import matplotlib.pyplot as plt\n",
    "plt.rcParams.update({'pdf.fonttype': 'truetype'})\n",
    "warnings.simplefilter(\"ignore\")\n",
    "\n",
    "print(\"PyTorch version \" + torch.__version__)\n",
    "\n",
    "#\n",
    "# Helper functions\n",
    "#\n",
    "def minmax(x):\n",
    "    return MinMaxScaler().fit_transform(np.atleast_2d(x).T).T[0]\n"
   ]
  },
  {
   "cell_type": "markdown",
   "id": "bd804e9a-eebf-4dac-afca-dc8b21f887d3",
   "metadata": {},
   "source": [
    "## 1. ETL"
   ]
  },
  {
   "cell_type": "code",
   "execution_count": 2,
   "id": "280f7ae3-9cb5-45a2-bcf6-a69c85c39894",
   "metadata": {
    "tags": []
   },
   "outputs": [],
   "source": [
    "df = pd.read_csv('datasets/selected_500user.csv')\n",
    "\n",
    "# Data prepreration\n",
    "# Get unique MeterID values\n",
    "unique_meter_ids = df['MeterID'].unique()\n",
    "\n",
    "# Create a new list of user IDs as strings\n",
    "user_ids = [str(i) for i in range(len(unique_meter_ids))]\n",
    "\n",
    "# Create a dictionary that maps each unique MeterID value to a unique user ID\n",
    "user_id_dict = {meter_id: user_id for meter_id, user_id in zip(unique_meter_ids, user_ids)}\n",
    "\n",
    "# Create a new column \"user\" that maps each MeterID value to a user ID\n",
    "df[\"user\"] = df[\"MeterID\"].apply(lambda x: user_id_dict[x])\n",
    "\n",
    "# Select user_1 to explore\n",
    "user_1 = df[df['user']=='0']\n",
    "\n",
    "# Drop not useful columns\n",
    "user_1['DATE-Time'] = pd.to_datetime(user_1['DATE-Time'], infer_datetime_format=True)\n",
    "user_1.drop(columns=[\"MeterID\", \"user\"], inplace=True)\n",
    "\n",
    "# Resample `15min` in order to have completed `\"DATE-Time\"`\n",
    "# I have `'DATE-Time'` 32760 rows (32760/96=341.25 Days)\n",
    "# It should be (365day * 96point = 35040 rows)\n",
    "# I have to reset index in order to hava 35040 rows\n",
    "# Fill the missing value\n",
    "user_1 = user_1.set_index('DATE-Time').resample(\"15T\").mean().fillna(method=\"ffill\")"
   ]
  },
  {
   "cell_type": "code",
   "execution_count": 3,
   "id": "073f2fba-8746-4e55-8a93-5a90c900151f",
   "metadata": {
    "tags": []
   },
   "outputs": [
    {
     "name": "stdout",
     "output_type": "stream",
     "text": [
      "35040\n"
     ]
    },
    {
     "data": {
      "text/html": [
       "<div>\n",
       "<style scoped>\n",
       "    .dataframe tbody tr th:only-of-type {\n",
       "        vertical-align: middle;\n",
       "    }\n",
       "\n",
       "    .dataframe tbody tr th {\n",
       "        vertical-align: top;\n",
       "    }\n",
       "\n",
       "    .dataframe thead th {\n",
       "        text-align: right;\n",
       "    }\n",
       "</style>\n",
       "<table border=\"1\" class=\"dataframe\">\n",
       "  <thead>\n",
       "    <tr style=\"text-align: right;\">\n",
       "      <th></th>\n",
       "      <th>KWH</th>\n",
       "    </tr>\n",
       "    <tr>\n",
       "      <th>DATE-Time</th>\n",
       "      <th></th>\n",
       "    </tr>\n",
       "  </thead>\n",
       "  <tbody>\n",
       "    <tr>\n",
       "      <th>2021-01-01 00:00:00</th>\n",
       "      <td>0.602</td>\n",
       "    </tr>\n",
       "    <tr>\n",
       "      <th>2021-01-01 00:15:00</th>\n",
       "      <td>0.589</td>\n",
       "    </tr>\n",
       "    <tr>\n",
       "      <th>2021-01-01 00:30:00</th>\n",
       "      <td>0.410</td>\n",
       "    </tr>\n",
       "    <tr>\n",
       "      <th>2021-01-01 00:45:00</th>\n",
       "      <td>0.495</td>\n",
       "    </tr>\n",
       "    <tr>\n",
       "      <th>2021-01-01 01:00:00</th>\n",
       "      <td>0.450</td>\n",
       "    </tr>\n",
       "  </tbody>\n",
       "</table>\n",
       "</div>"
      ],
      "text/plain": [
       "                       KWH\n",
       "DATE-Time                 \n",
       "2021-01-01 00:00:00  0.602\n",
       "2021-01-01 00:15:00  0.589\n",
       "2021-01-01 00:30:00  0.410\n",
       "2021-01-01 00:45:00  0.495\n",
       "2021-01-01 01:00:00  0.450"
      ]
     },
     "execution_count": 3,
     "metadata": {},
     "output_type": "execute_result"
    }
   ],
   "source": [
    "data = user_1.copy()\n",
    "print(len(data))\n",
    "data.head()"
   ]
  },
  {
   "cell_type": "markdown",
   "id": "13667737-a079-44cb-9c22-d17b7e23135a",
   "metadata": {},
   "source": [
    "## 2. EDA"
   ]
  },
  {
   "cell_type": "code",
   "execution_count": 4,
   "id": "ad9c7b95-d38f-4555-8895-04c7228989fe",
   "metadata": {
    "tags": []
   },
   "outputs": [
    {
     "data": {
      "image/png": "[encoded data removed]",
      "text/plain": [
       "<Figure size 1200x400 with 1 Axes>"
      ]
     },
     "metadata": {},
     "output_type": "display_data"
    }
   ],
   "source": [
    "plt.figure(figsize=(12,4))\n",
    "plt.title('User 1 train and test sets', size=15)\n",
    "plt.ylabel('KWH')\n",
    "plt.grid(True)\n",
    "plt.autoscale(axis='x',tight=True)\n",
    "plt.plot(data['KWH'])\n",
    "plt.show()"
   ]
  },
  {
   "cell_type": "markdown",
   "id": "e11c8c30-4ff3-4f22-8698-283063222fd0",
   "metadata": {},
   "source": [
    "## 3. Prepare the data"
   ]
  },
  {
   "cell_type": "code",
   "execution_count": 5,
   "id": "551a4a87-e345-4989-bb15-b131cf011d75",
   "metadata": {
    "tags": []
   },
   "outputs": [
    {
     "data": {
      "text/html": [
       "<div>\n",
       "<style scoped>\n",
       "    .dataframe tbody tr th:only-of-type {\n",
       "        vertical-align: middle;\n",
       "    }\n",
       "\n",
       "    .dataframe tbody tr th {\n",
       "        vertical-align: top;\n",
       "    }\n",
       "\n",
       "    .dataframe thead th {\n",
       "        text-align: right;\n",
       "    }\n",
       "</style>\n",
       "<table border=\"1\" class=\"dataframe\">\n",
       "  <thead>\n",
       "    <tr style=\"text-align: right;\">\n",
       "      <th></th>\n",
       "      <th>KWH</th>\n",
       "    </tr>\n",
       "  </thead>\n",
       "  <tbody>\n",
       "    <tr>\n",
       "      <th>count</th>\n",
       "      <td>35040.000000</td>\n",
       "    </tr>\n",
       "    <tr>\n",
       "      <th>mean</th>\n",
       "      <td>0.594081</td>\n",
       "    </tr>\n",
       "    <tr>\n",
       "      <th>std</th>\n",
       "      <td>0.293184</td>\n",
       "    </tr>\n",
       "    <tr>\n",
       "      <th>min</th>\n",
       "      <td>0.000000</td>\n",
       "    </tr>\n",
       "    <tr>\n",
       "      <th>25%</th>\n",
       "      <td>0.400000</td>\n",
       "    </tr>\n",
       "    <tr>\n",
       "      <th>50%</th>\n",
       "      <td>0.551000</td>\n",
       "    </tr>\n",
       "    <tr>\n",
       "      <th>75%</th>\n",
       "      <td>0.736000</td>\n",
       "    </tr>\n",
       "    <tr>\n",
       "      <th>max</th>\n",
       "      <td>3.784000</td>\n",
       "    </tr>\n",
       "  </tbody>\n",
       "</table>\n",
       "</div>"
      ],
      "text/plain": [
       "                KWH\n",
       "count  35040.000000\n",
       "mean       0.594081\n",
       "std        0.293184\n",
       "min        0.000000\n",
       "25%        0.400000\n",
       "50%        0.551000\n",
       "75%        0.736000\n",
       "max        3.784000"
      ]
     },
     "execution_count": 5,
     "metadata": {},
     "output_type": "execute_result"
    }
   ],
   "source": [
    "# from sklearn.preprocessing import MinMaxScaler\n",
    "\n",
    "# scaler = MinMaxScaler()\n",
    "# data['KWH_normalized'] = scaler.fit_transform(data[['KWH']])\n",
    "data.describe()"
   ]
  },
  {
   "cell_type": "code",
   "execution_count": 6,
   "id": "d56a30f3-d15e-403b-bb32-c559ccfcfd20",
   "metadata": {
    "tags": []
   },
   "outputs": [
    {
     "data": {
      "text/plain": [
       "(35040, 1)"
      ]
     },
     "execution_count": 6,
     "metadata": {},
     "output_type": "execute_result"
    }
   ],
   "source": [
    "data.shape"
   ]
  },
  {
   "cell_type": "code",
   "execution_count": 12,
   "id": "7aa6cbae-11a5-4344-b116-15753255ac83",
   "metadata": {
    "tags": []
   },
   "outputs": [
    {
     "data": {
      "text/html": [
       "<div>\n",
       "<style scoped>\n",
       "    .dataframe tbody tr th:only-of-type {\n",
       "        vertical-align: middle;\n",
       "    }\n",
       "\n",
       "    .dataframe tbody tr th {\n",
       "        vertical-align: top;\n",
       "    }\n",
       "\n",
       "    .dataframe thead th {\n",
       "        text-align: right;\n",
       "    }\n",
       "</style>\n",
       "<table border=\"1\" class=\"dataframe\">\n",
       "  <thead>\n",
       "    <tr style=\"text-align: right;\">\n",
       "      <th></th>\n",
       "      <th>KWH</th>\n",
       "    </tr>\n",
       "    <tr>\n",
       "      <th>DATE-Time</th>\n",
       "      <th></th>\n",
       "    </tr>\n",
       "  </thead>\n",
       "  <tbody>\n",
       "    <tr>\n",
       "      <th>2021-01-01 00:00:00</th>\n",
       "      <td>0.602</td>\n",
       "    </tr>\n",
       "    <tr>\n",
       "      <th>2021-01-01 00:15:00</th>\n",
       "      <td>0.589</td>\n",
       "    </tr>\n",
       "    <tr>\n",
       "      <th>2021-01-01 00:30:00</th>\n",
       "      <td>0.410</td>\n",
       "    </tr>\n",
       "    <tr>\n",
       "      <th>2021-01-01 00:45:00</th>\n",
       "      <td>0.495</td>\n",
       "    </tr>\n",
       "    <tr>\n",
       "      <th>2021-01-01 01:00:00</th>\n",
       "      <td>0.450</td>\n",
       "    </tr>\n",
       "    <tr>\n",
       "      <th>...</th>\n",
       "      <td>...</td>\n",
       "    </tr>\n",
       "    <tr>\n",
       "      <th>2021-01-01 23:45:00</th>\n",
       "      <td>0.666</td>\n",
       "    </tr>\n",
       "    <tr>\n",
       "      <th>2021-01-02 00:00:00</th>\n",
       "      <td>0.640</td>\n",
       "    </tr>\n",
       "    <tr>\n",
       "      <th>2021-01-02 00:15:00</th>\n",
       "      <td>0.778</td>\n",
       "    </tr>\n",
       "    <tr>\n",
       "      <th>2021-01-02 00:30:00</th>\n",
       "      <td>0.576</td>\n",
       "    </tr>\n",
       "    <tr>\n",
       "      <th>2021-01-02 00:45:00</th>\n",
       "      <td>0.535</td>\n",
       "    </tr>\n",
       "  </tbody>\n",
       "</table>\n",
       "<p>100 rows × 1 columns</p>\n",
       "</div>"
      ],
      "text/plain": [
       "                       KWH\n",
       "DATE-Time                 \n",
       "2021-01-01 00:00:00  0.602\n",
       "2021-01-01 00:15:00  0.589\n",
       "2021-01-01 00:30:00  0.410\n",
       "2021-01-01 00:45:00  0.495\n",
       "2021-01-01 01:00:00  0.450\n",
       "...                    ...\n",
       "2021-01-01 23:45:00  0.666\n",
       "2021-01-02 00:00:00  0.640\n",
       "2021-01-02 00:15:00  0.778\n",
       "2021-01-02 00:30:00  0.576\n",
       "2021-01-02 00:45:00  0.535\n",
       "\n",
       "[100 rows x 1 columns]"
      ]
     },
     "execution_count": 12,
     "metadata": {},
     "output_type": "execute_result"
    }
   ],
   "source": [
    "data.iloc[:100, :]"
   ]
  },
  {
   "cell_type": "markdown",
   "id": "e1090a0f-8a37-4a62-9af5-fa45d23fb7f2",
   "metadata": {
    "tags": []
   },
   "source": [
    "### 3.1 Divide the data into train and test sets"
   ]
  },
  {
   "cell_type": "code",
   "execution_count": 18,
   "id": "48382bd9-1571-473b-93b2-158fcb29cbe7",
   "metadata": {
    "tags": []
   },
   "outputs": [],
   "source": [
    "# Dataset parameters\n",
    "train_ratio = 0.8\n",
    "\n",
    "def train_test_split(x, train_ratio):\n",
    "    t = int(len(x)*train_ratio)\n",
    "    return x.iloc[0:t, :], x.iloc[t:, :]"
   ]
  },
  {
   "cell_type": "code",
   "execution_count": 19,
   "id": "e9c9c9af-3663-4654-9c6b-978ec8dbf5b4",
   "metadata": {
    "tags": []
   },
   "outputs": [
    {
     "name": "stdout",
     "output_type": "stream",
     "text": [
      "Shape of training: (28032, 1)\n",
      "Shape of testing: (7008, 1)\n"
     ]
    },
    {
     "data": {
      "image/png": "[encoded data removed]",
      "text/plain": [
       "<Figure size 1600x400 with 1 Axes>"
      ]
     },
     "metadata": {},
     "output_type": "display_data"
    }
   ],
   "source": [
    "df_train, df_test = train_test_split(data, train_ratio)\n",
    "\n",
    "print(\"Shape of training:\", df_train.shape)\n",
    "print(\"Shape of testing:\", df_test.shape)\n",
    "\n",
    "fig, ax = plt.subplots(figsize=(16,4))\n",
    "ax.set_title('User 1 train and test sets', size=15)\n",
    "ax.plot(df_train, label='Training set')\n",
    "ax.plot(df_test, label='Test set', color='orange')\n",
    "plt.axvline(x=df_test.index[0], linestyle='--', color='red', label='Train/Test split')\n",
    "plt.legend();"
   ]
  },
  {
   "cell_type": "code",
   "execution_count": 37,
   "id": "0ca82fbe-a2f3-4a33-83c6-91b28f80c76c",
   "metadata": {
    "tags": []
   },
   "outputs": [],
   "source": [
    "# # Dataset parameters\n",
    "# n_window = 96             # input window\n",
    "# train_ratio = 0.8\n",
    "\n",
    "# # def samples_unsupervised(s, n_window): \n",
    "# #     x = []\n",
    "# #     for i in range(n_window, len(s)):\n",
    "# #         x.append(s[i - n_window : i])\n",
    "    \n",
    "# #     return np.stack(x)\n",
    "\n",
    "# def train_test_split(x, train_ratio):\n",
    "#     t = int(len(x)*train_ratio)\n",
    "#     return x[0:t, :], x[t:, :]"
   ]
  },
  {
   "cell_type": "code",
   "execution_count": 38,
   "id": "00d3c79d-5aa1-4395-ae44-401cbc148e96",
   "metadata": {},
   "outputs": [],
   "source": [
    "# # Prepare the dataset\n",
    "# # x = samples_unsupervised(data, n_window)\n",
    "# x_train, x_test = train_test_split(x, train_ratio)\n",
    "\n",
    "# print(x_train.shape)\n",
    "# # print(x_test.shape)"
   ]
  },
  {
   "cell_type": "code",
   "execution_count": 39,
   "id": "b8280d3d-fa6b-4123-a12d-342f727d2d26",
   "metadata": {
    "tags": []
   },
   "outputs": [],
   "source": [
    "# y = data['KWH'].values.astype(float)\n",
    "# y"
   ]
  },
  {
   "cell_type": "markdown",
   "id": "fec2d378-5e07-4125-a9c8-0092a00402f2",
   "metadata": {},
   "source": [
    "### 3.2 Normalize the training set"
   ]
  },
  {
   "cell_type": "code",
   "execution_count": 22,
   "id": "bff2a2ca-8cdb-4cbe-b609-2b76e11386df",
   "metadata": {
    "tags": []
   },
   "outputs": [],
   "source": [
    "train_set = df_train['KWH'].values.astype(float)\n",
    "test_set = df_test['KWH'].values.astype(float)"
   ]
  },
  {
   "cell_type": "code",
   "execution_count": 36,
   "id": "706d5ff1-0600-4729-8789-29b55c0704cb",
   "metadata": {
    "tags": []
   },
   "outputs": [
    {
     "name": "stdout",
     "output_type": "stream",
     "text": [
      "First item, original: 0.602\n",
      "First item, original shape: (28032,)\n",
      "First item, scaled: [0.15909091]\n",
      "First item, scaled shape: (28032, 1)\n"
     ]
    }
   ],
   "source": [
    "scaler = MinMaxScaler()\n",
    "train_norm = scaler.fit_transform(train_set.reshape(-1,1))\n",
    "\n",
    "print(f'First item, original: {train_set[0]}')\n",
    "print(f'First item, original shape: {train_set.shape}')\n",
    "print(f'First item, scaled: {train_norm[0]}')\n",
    "print(f'First item, scaled shape: {train_norm.shape}')"
   ]
  },
  {
   "cell_type": "markdown",
   "id": "f6f6f93d-f040-442b-8b05-e9a54cf8aec5",
   "metadata": {},
   "source": [
    "### 3.3 Prepare data for Model"
   ]
  },
  {
   "cell_type": "code",
   "execution_count": null,
   "id": "9007d508-0fbb-4546-9cd9-f46cafb5fc8b",
   "metadata": {},
   "outputs": [],
   "source": [
    "# Dataset parameters\n",
    "n_window = 80             # input window\n",
    "\n",
    "def samples_unsupervised(s, n_window): \n",
    "    x = []\n",
    "    for i in range(n_window, len(s)):\n",
    "        x.append(s[i - n_window : i])\n",
    "    \n",
    "    return np.stack(x)"
   ]
  },
  {
   "cell_type": "code",
   "execution_count": null,
   "id": "1b56f665-8a12-44ae-afc9-ffdae85bbc84",
   "metadata": {},
   "outputs": [],
   "source": [
    "# Prepare the dataset\n",
    "x = samples_unsupervised(normal_data, n_window)"
   ]
  },
  {
   "cell_type": "code",
   "execution_count": 50,
   "id": "c0995614-c413-4e4e-958e-aecc7064b2e6",
   "metadata": {
    "tags": []
   },
   "outputs": [],
   "source": [
    "# Our handy function for converting our dataset into the correct format\n",
    "\n",
    "def window_data(df, window, feature_col_number, target_col_number):\n",
    "    \"\"\"\n",
    "    This function accepts the column number for the features (X) and the target (y).\n",
    "    It chunks the data up with a rolling window of Xt - window to predict Xt.\n",
    "    It returns two numpy arrays of X and y.\n",
    "    \"\"\"\n",
    "    X = []\n",
    "    y = []\n",
    "    for i in range(len(df) - window - 1):\n",
    "        features = df[i : (i + window), feature_col_number]\n",
    "        target = df[(i + window), target_col_number]\n",
    "        #print(features)\n",
    "        #print(\"----\")\n",
    "        #print(target)\n",
    "        X.append(features)\n",
    "        y.append(target)\n",
    "    return np.array(X), np.array(y).astype(np.float64).reshape(-1, 1)"
   ]
  },
  {
   "cell_type": "code",
   "execution_count": 51,
   "id": "92274160-374a-4299-86c6-f4166d62ccbd",
   "metadata": {
    "tags": []
   },
   "outputs": [
    {
     "name": "stdout",
     "output_type": "stream",
     "text": [
      "X shape: (27935, 96)\n",
      "y shape: (27935, 1)\n"
     ]
    }
   ],
   "source": [
    "window_size = 96 # 1 day records\n",
    "\n",
    "(X, y) = window_data(train_norm, window_size, 0, 0)\n",
    "\n",
    "print('X shape:', X.shape)\n",
    "print('y shape:', y.shape)"
   ]
  },
  {
   "cell_type": "code",
   "execution_count": 25,
   "id": "54ed0c88-73f1-4e4e-b0aa-0042e1e712ed",
   "metadata": {
    "tags": []
   },
   "outputs": [
    {
     "data": {
      "text/plain": [
       "array([[0.602, 0.589, 0.41 , 0.495, 0.45 , 0.5  , 0.433, 0.45 , 0.469,\n",
       "        0.469, 0.392, 0.4  , 0.485, 0.408, 0.435, 0.457, 0.477, 0.426,\n",
       "        0.44 , 0.477, 0.379, 0.423, 0.427, 0.424, 0.964, 0.395, 0.367,\n",
       "        0.574, 0.322, 0.25 , 0.329, 0.233, 0.251, 0.304, 0.276, 0.255,\n",
       "        0.536, 0.321, 0.254, 0.27 , 0.299, 0.646, 0.641, 0.424, 0.337,\n",
       "        0.624, 0.505, 0.304, 0.288, 0.254, 0.211, 0.356, 0.334, 0.269,\n",
       "        0.278, 0.217, 0.409, 0.3  , 0.382, 0.32 , 0.506, 0.533, 0.547,\n",
       "        0.519, 0.54 , 0.747, 0.64 , 0.766, 0.727, 0.769, 0.578, 0.565,\n",
       "        0.661, 0.76 , 0.985, 1.44 , 0.956, 0.804, 0.761, 0.775, 0.702,\n",
       "        0.645, 0.698, 0.665, 0.659, 0.661, 0.611, 0.576, 0.616, 0.578,\n",
       "        0.549, 0.866, 0.632, 0.601, 0.567, 0.666],\n",
       "       [0.589, 0.41 , 0.495, 0.45 , 0.5  , 0.433, 0.45 , 0.469, 0.469,\n",
       "        0.392, 0.4  , 0.485, 0.408, 0.435, 0.457, 0.477, 0.426, 0.44 ,\n",
       "        0.477, 0.379, 0.423, 0.427, 0.424, 0.964, 0.395, 0.367, 0.574,\n",
       "        0.322, 0.25 , 0.329, 0.233, 0.251, 0.304, 0.276, 0.255, 0.536,\n",
       "        0.321, 0.254, 0.27 , 0.299, 0.646, 0.641, 0.424, 0.337, 0.624,\n",
       "        0.505, 0.304, 0.288, 0.254, 0.211, 0.356, 0.334, 0.269, 0.278,\n",
       "        0.217, 0.409, 0.3  , 0.382, 0.32 , 0.506, 0.533, 0.547, 0.519,\n",
       "        0.54 , 0.747, 0.64 , 0.766, 0.727, 0.769, 0.578, 0.565, 0.661,\n",
       "        0.76 , 0.985, 1.44 , 0.956, 0.804, 0.761, 0.775, 0.702, 0.645,\n",
       "        0.698, 0.665, 0.659, 0.661, 0.611, 0.576, 0.616, 0.578, 0.549,\n",
       "        0.866, 0.632, 0.601, 0.567, 0.666, 0.64 ],\n",
       "       [0.41 , 0.495, 0.45 , 0.5  , 0.433, 0.45 , 0.469, 0.469, 0.392,\n",
       "        0.4  , 0.485, 0.408, 0.435, 0.457, 0.477, 0.426, 0.44 , 0.477,\n",
       "        0.379, 0.423, 0.427, 0.424, 0.964, 0.395, 0.367, 0.574, 0.322,\n",
       "        0.25 , 0.329, 0.233, 0.251, 0.304, 0.276, 0.255, 0.536, 0.321,\n",
       "        0.254, 0.27 , 0.299, 0.646, 0.641, 0.424, 0.337, 0.624, 0.505,\n",
       "        0.304, 0.288, 0.254, 0.211, 0.356, 0.334, 0.269, 0.278, 0.217,\n",
       "        0.409, 0.3  , 0.382, 0.32 , 0.506, 0.533, 0.547, 0.519, 0.54 ,\n",
       "        0.747, 0.64 , 0.766, 0.727, 0.769, 0.578, 0.565, 0.661, 0.76 ,\n",
       "        0.985, 1.44 , 0.956, 0.804, 0.761, 0.775, 0.702, 0.645, 0.698,\n",
       "        0.665, 0.659, 0.661, 0.611, 0.576, 0.616, 0.578, 0.549, 0.866,\n",
       "        0.632, 0.601, 0.567, 0.666, 0.64 , 0.778]])"
      ]
     },
     "execution_count": 25,
     "metadata": {},
     "output_type": "execute_result"
    }
   ],
   "source": [
    "X[:3]"
   ]
  },
  {
   "cell_type": "code",
   "execution_count": 52,
   "id": "a6dd0b9a-bb2a-4086-a2df-338153238cb2",
   "metadata": {
    "tags": []
   },
   "outputs": [
    {
     "data": {
      "text/plain": [
       "array([[0.16913319],\n",
       "       [0.20560254],\n",
       "       [0.15221987]])"
      ]
     },
     "execution_count": 52,
     "metadata": {},
     "output_type": "execute_result"
    }
   ],
   "source": [
    "y[:3]"
   ]
  },
  {
   "cell_type": "markdown",
   "id": "57076e62-a7c0-4d79-afbe-a726a4863e84",
   "metadata": {},
   "source": [
    "### 4. Define the model"
   ]
  },
  {
   "cell_type": "code",
   "execution_count": 57,
   "id": "022a4c54-47fc-40dd-ab17-40848d241485",
   "metadata": {
    "tags": []
   },
   "outputs": [],
   "source": [
    "# class LSTMnetwork(nn.Module):\n",
    "#     def __init__(self,input_size=1,hidden_size=64,output_size=1):\n",
    "#         super().__init__()\n",
    "#         self.hidden_size = hidden_size\n",
    "        \n",
    "#         # Add an LSTM layer:\n",
    "#         self.lstm = nn.LSTM(input_size,hidden_size)\n",
    "        \n",
    "#         # Add a fully-connected layer:\n",
    "#         self.linear = nn.Linear(hidden_size,output_size)\n",
    "        \n",
    "#         # Initialize h0 and c0:\n",
    "#         self.hidden = (torch.zeros(1,1,self.hidden_size),\n",
    "#                        torch.zeros(1,1,self.hidden_size))\n",
    "\n",
    "#     def forward(self,seq):\n",
    "#         lstm_out, self.hidden = self.lstm(\n",
    "#             seq.view(len(seq),1,-1), self.hidden)\n",
    "#         pred = self.linear(lstm_out.view(len(seq),-1))\n",
    "#         return pred[-1]\n",
    "    \n",
    "# torch.manual_seed(101)\n",
    "# model = LSTMnetwork()\n",
    "# model"
   ]
  },
  {
   "cell_type": "code",
   "execution_count": 58,
   "id": "4fec1ffa-6b33-4def-bb3a-54853e991419",
   "metadata": {
    "tags": []
   },
   "outputs": [],
   "source": [
    "def basic_conv2D(n_filters=10, fsize=5, window_size=5, n_features=2):\n",
    "    new_model = keras.Sequential()\n",
    "    # Hypothetically, we could also tune the padding and activation here.\n",
    "    new_model.add(tf.keras.layers.Conv2D(n_filters, (1,fsize), padding=\"same\", activation=\"relu\", input_shape=(window_size, n_features, 1)))\n",
    "    # Flatten will take our convolution filters and lay them out end to end so our dense layer can predict based on the outcomes of each\n",
    "    new_model.add(tf.keras.layers.Flatten())\n",
    "    new_model.add(tf.keras.layers.Dense(1000, activation='relu'))\n",
    "    new_model.add(tf.keras.layers.Dense(100))\n",
    "    new_model.add(tf.keras.layers.Dense(1))\n",
    "    new_model.compile(optimizer=\"adam\", loss=\"mean_squared_error\")    \n",
    "    return new_model"
   ]
  },
  {
   "cell_type": "code",
   "execution_count": 61,
   "id": "c37e2200-aba0-4656-b18b-31fd88dc4b89",
   "metadata": {
    "tags": []
   },
   "outputs": [
    {
     "name": "stdout",
     "output_type": "stream",
     "text": [
      "(27935, 96, 1)\n",
      "(27935, 1, 1)\n"
     ]
    }
   ],
   "source": [
    "X_train = X.reshape((X.shape[0], X.shape[1], 1))\n",
    "X_test = y.reshape((y.shape[0], y.shape[1], 1))\n",
    "print(X_train.shape)\n",
    "print(X_test.shape)"
   ]
  },
  {
   "cell_type": "code",
   "execution_count": null,
   "id": "d70ccc57-49d5-43ee-9474-683b7748b57e",
   "metadata": {},
   "outputs": [],
   "source": [
    "data_train_wide = X.reshape((X.shape[0], X.shape[1], X.shape[2], 1))\n",
    "data_test_wide = data_test.reshape((data_test.shape[0], data_test.shape[1], data_test.shape[2], 1))"
   ]
  },
  {
   "cell_type": "markdown",
   "id": "3d97ba3f-0976-4e36-8492-41a22797de31",
   "metadata": {
    "tags": []
   },
   "source": [
    "### Define loss and optimization functions"
   ]
  },
  {
   "cell_type": "code",
   "execution_count": 54,
   "id": "bf93325f-bfe4-4b9e-a0d8-e744e7d0ce4c",
   "metadata": {
    "tags": []
   },
   "outputs": [],
   "source": [
    "criterion = nn.MSELoss()\n",
    "optimizer = torch.optim.Adam(model.parameters(), lr=0.001)"
   ]
  },
  {
   "cell_type": "markdown",
   "id": "c078ab34-345d-453a-a33e-4d162e0ef7aa",
   "metadata": {},
   "source": [
    "### Train the model"
   ]
  },
  {
   "cell_type": "code",
   "execution_count": 56,
   "id": "8fbaf712-616b-4678-8cd8-d09994ce1bff",
   "metadata": {
    "tags": []
   },
   "outputs": [
    {
     "ename": "ValueError",
     "evalue": "too many values to unpack (expected 2)",
     "output_type": "error",
     "traceback": [
      "\u001b[0;31m---------------------------------------------------------------------------\u001b[0m",
      "\u001b[0;31mValueError\u001b[0m                                Traceback (most recent call last)",
      "Cell \u001b[0;32mIn[56], line 4\u001b[0m\n\u001b[1;32m      1\u001b[0m epochs \u001b[38;5;241m=\u001b[39m \u001b[38;5;241m50\u001b[39m\n\u001b[1;32m      3\u001b[0m \u001b[38;5;28;01mfor\u001b[39;00m i \u001b[38;5;129;01min\u001b[39;00m \u001b[38;5;28mrange\u001b[39m(epochs):\n\u001b[0;32m----> 4\u001b[0m     \u001b[38;5;28;01mfor\u001b[39;00m seq, y_train \u001b[38;5;129;01min\u001b[39;00m X:\n\u001b[1;32m      5\u001b[0m         \n\u001b[1;32m      6\u001b[0m         \u001b[38;5;66;03m# reset the parameters and hidden states\u001b[39;00m\n\u001b[1;32m      7\u001b[0m         optimizer\u001b[38;5;241m.\u001b[39mzero_grad()\n\u001b[1;32m      8\u001b[0m         model\u001b[38;5;241m.\u001b[39mhidden \u001b[38;5;241m=\u001b[39m (torch\u001b[38;5;241m.\u001b[39mzeros(\u001b[38;5;241m1\u001b[39m,\u001b[38;5;241m1\u001b[39m,model\u001b[38;5;241m.\u001b[39mhidden_size),\n\u001b[1;32m      9\u001b[0m                         torch\u001b[38;5;241m.\u001b[39mzeros(\u001b[38;5;241m1\u001b[39m,\u001b[38;5;241m1\u001b[39m,model\u001b[38;5;241m.\u001b[39mhidden_size))\n",
      "\u001b[0;31mValueError\u001b[0m: too many values to unpack (expected 2)"
     ]
    }
   ],
   "source": [
    "epochs = 50\n",
    "\n",
    "for i in range(epochs):\n",
    "    for seq, y_train in X:\n",
    "        \n",
    "        # reset the parameters and hidden states\n",
    "        optimizer.zero_grad()\n",
    "        model.hidden = (torch.zeros(1,1,model.hidden_size),\n",
    "                        torch.zeros(1,1,model.hidden_size))\n",
    "        \n",
    "        # apply the model\n",
    "        y_pred = model(seq)\n",
    "\n",
    "        # update parameters\n",
    "        loss = criterion(y_pred, y_train)\n",
    "        loss.backward()\n",
    "        optimizer.step()\n",
    "\n",
    "    # OPTIONAL print statement\n",
    "    print(f'{i+1} of {epochs} epochs completed')"
   ]
  },
  {
   "cell_type": "code",
   "execution_count": null,
   "id": "fcca9b0a-5652-4aaa-92db-ba7682ce1c0e",
   "metadata": {},
   "outputs": [],
   "source": []
  }
 ],
 "metadata": {
  "kernelspec": {
   "display_name": "Python 3 (ipykernel)",
   "language": "python",
   "name": "python3"
  },
  "language_info": {
   "codemirror_mode": {
    "name": "ipython",
    "version": 3
   },
   "file_extension": ".py",
   "mimetype": "text/x-python",
   "name": "python",
   "nbconvert_exporter": "python",
   "pygments_lexer": "ipython3",
   "version": "3.8.10"
  }
 },
 "nbformat": 4,
 "nbformat_minor": 5
}
