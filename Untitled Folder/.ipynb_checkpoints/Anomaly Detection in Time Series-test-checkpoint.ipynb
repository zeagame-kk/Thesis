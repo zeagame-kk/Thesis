{
 "cells": [
  {
   "cell_type": "code",
   "execution_count": 1,
   "id": "2e8b70a6-bfc8-43e5-9b1d-0e03509c315b",
   "metadata": {
    "tags": []
   },
   "outputs": [
    {
     "name": "stdout",
     "output_type": "stream",
     "text": [
      "PyTorch version 1.13.1+cu117\n"
     ]
    }
   ],
   "source": [
    "import os\n",
    "import math\n",
    "import warnings\n",
    "import numpy as np\n",
    "import pandas as pd\n",
    "import torch\n",
    "from torch import nn\n",
    "import torch.optim as optim\n",
    "import torch.nn.functional as F\n",
    "from torch.utils.data import Dataset, DataLoader\n",
    "import torch.distributions as dist\n",
    "\n",
    "from statsmodels.tsa.arima_process import ArmaProcess\n",
    "from sklearn.preprocessing import MinMaxScaler\n",
    "from scipy import signal\n",
    "\n",
    "from sklearn.model_selection import train_test_split\n",
    "from tabulate import tabulate\n",
    "\n",
    "import seaborn as sns\n",
    "import matplotlib.pyplot as plt\n",
    "plt.rcParams.update({'pdf.fonttype': 'truetype'})\n",
    "warnings.simplefilter(\"ignore\")\n",
    "\n",
    "print(\"PyTorch version \" + torch.__version__)\n",
    "\n",
    "#\n",
    "# Helper functions\n",
    "#\n",
    "def minmax(x):\n",
    "    return MinMaxScaler().fit_transform(np.atleast_2d(x).T).T[0]"
   ]
  },
  {
   "cell_type": "code",
   "execution_count": 2,
   "id": "baca8ed1-f3dd-408e-9125-da701cef36ee",
   "metadata": {
    "tags": []
   },
   "outputs": [
    {
     "name": "stdout",
     "output_type": "stream",
     "text": [
      "cuda:1\n"
     ]
    }
   ],
   "source": [
    "device = torch.device('cuda:1' if torch.cuda.is_available() else 'cpu')\n",
    "print(device)\n",
    "\n",
    "#change this five times to get 5 cross validation\n",
    "SEED = 999\n",
    "torch.manual_seed(SEED)\n",
    "torch.backends.cudnn.deterministic = True"
   ]
  },
  {
   "cell_type": "code",
   "execution_count": 3,
   "id": "edeb9c6d-b56c-466e-8a08-251328a9a0ae",
   "metadata": {
    "tags": []
   },
   "outputs": [],
   "source": [
    "# tf.debugging.set_log_device_placement(True)\n",
    "\n",
    "# try:\n",
    "#   # Specify an invalid GPU device\n",
    "#   with tf.device('/device:GPU'):\n",
    "#     a = tf.constant([[1.0, 2.0, 3.0], [4.0, 5.0, 6.0]])\n",
    "#     b = tf.constant([[1.0, 2.0], [3.0, 4.0], [5.0, 6.0]])\n",
    "#     c = tf.matmul(a, b)\n",
    "# except RuntimeError as e:\n",
    "#   print(e)"
   ]
  },
  {
   "cell_type": "markdown",
   "id": "bd804e9a-eebf-4dac-afca-dc8b21f887d3",
   "metadata": {},
   "source": [
    "## 1. ETL"
   ]
  },
  {
   "cell_type": "code",
   "execution_count": 4,
   "id": "280f7ae3-9cb5-45a2-bcf6-a69c85c39894",
   "metadata": {
    "tags": []
   },
   "outputs": [],
   "source": [
    "df = pd.read_csv('datasets/selected_500user.csv')\n",
    "\n",
    "# Data prepreration\n",
    "# Get unique MeterID values\n",
    "unique_meter_ids = df['MeterID'].unique()\n",
    "\n",
    "# Create a new list of user IDs as strings\n",
    "user_ids = [str(i) for i in range(len(unique_meter_ids))]\n",
    "\n",
    "# Create a dictionary that maps each unique MeterID value to a unique user ID\n",
    "user_id_dict = {meter_id: user_id for meter_id, user_id in zip(unique_meter_ids, user_ids)}\n",
    "\n",
    "# Create a new column \"user\" that maps each MeterID value to a user ID\n",
    "df[\"user\"] = df[\"MeterID\"].apply(lambda x: user_id_dict[x])\n",
    "\n",
    "# Select user_1 to explore\n",
    "user_1 = df[df['user']=='0']\n",
    "\n",
    "# Drop not useful columns\n",
    "user_1['DATE-Time'] = pd.to_datetime(user_1['DATE-Time'], infer_datetime_format=True)\n",
    "user_1.drop(columns=[\"MeterID\", \"user\"], inplace=True)\n",
    "\n",
    "# Resample `15min` in order to have completed `\"DATE-Time\"`\n",
    "# I have `'DATE-Time'` 32760 rows (32760/96=341.25 Days)\n",
    "# It should be (365day * 96point = 35040 rows)\n",
    "# I have to reset index in order to hava 35040 rows\n",
    "# Fill the missing value\n",
    "user_1 = user_1.set_index('DATE-Time').resample(\"15T\").mean().fillna(method=\"ffill\")"
   ]
  },
  {
   "cell_type": "code",
   "execution_count": 5,
   "id": "073f2fba-8746-4e55-8a93-5a90c900151f",
   "metadata": {
    "tags": []
   },
   "outputs": [
    {
     "name": "stdout",
     "output_type": "stream",
     "text": [
      "35040\n"
     ]
    },
    {
     "data": {
      "text/html": [
       "<div>\n",
       "<style scoped>\n",
       "    .dataframe tbody tr th:only-of-type {\n",
       "        vertical-align: middle;\n",
       "    }\n",
       "\n",
       "    .dataframe tbody tr th {\n",
       "        vertical-align: top;\n",
       "    }\n",
       "\n",
       "    .dataframe thead th {\n",
       "        text-align: right;\n",
       "    }\n",
       "</style>\n",
       "<table border=\"1\" class=\"dataframe\">\n",
       "  <thead>\n",
       "    <tr style=\"text-align: right;\">\n",
       "      <th></th>\n",
       "      <th>KWH</th>\n",
       "    </tr>\n",
       "    <tr>\n",
       "      <th>DATE-Time</th>\n",
       "      <th></th>\n",
       "    </tr>\n",
       "  </thead>\n",
       "  <tbody>\n",
       "    <tr>\n",
       "      <th>2021-01-01 00:00:00</th>\n",
       "      <td>0.602</td>\n",
       "    </tr>\n",
       "    <tr>\n",
       "      <th>2021-01-01 00:15:00</th>\n",
       "      <td>0.589</td>\n",
       "    </tr>\n",
       "    <tr>\n",
       "      <th>2021-01-01 00:30:00</th>\n",
       "      <td>0.410</td>\n",
       "    </tr>\n",
       "    <tr>\n",
       "      <th>2021-01-01 00:45:00</th>\n",
       "      <td>0.495</td>\n",
       "    </tr>\n",
       "    <tr>\n",
       "      <th>2021-01-01 01:00:00</th>\n",
       "      <td>0.450</td>\n",
       "    </tr>\n",
       "  </tbody>\n",
       "</table>\n",
       "</div>"
      ],
      "text/plain": [
       "                       KWH\n",
       "DATE-Time                 \n",
       "2021-01-01 00:00:00  0.602\n",
       "2021-01-01 00:15:00  0.589\n",
       "2021-01-01 00:30:00  0.410\n",
       "2021-01-01 00:45:00  0.495\n",
       "2021-01-01 01:00:00  0.450"
      ]
     },
     "execution_count": 5,
     "metadata": {},
     "output_type": "execute_result"
    }
   ],
   "source": [
    "data = user_1.copy()\n",
    "print(len(data))\n",
    "data.head()"
   ]
  },
  {
   "cell_type": "markdown",
   "id": "13667737-a079-44cb-9c22-d17b7e23135a",
   "metadata": {},
   "source": [
    "## 2. EDA"
   ]
  },
  {
   "cell_type": "code",
   "execution_count": 6,
   "id": "ad9c7b95-d38f-4555-8895-04c7228989fe",
   "metadata": {
    "tags": []
   },
   "outputs": [
    {
     "data": {
      "image/png": "[encoded data removed]",
      "text/plain": [
       "<Figure size 1200x400 with 1 Axes>"
      ]
     },
     "metadata": {},
     "output_type": "display_data"
    }
   ],
   "source": [
    "plt.figure(figsize=(12,4))\n",
    "plt.title('User 1 train and test sets', size=15)\n",
    "plt.ylabel('KWH')\n",
    "plt.grid(True)\n",
    "plt.autoscale(axis='x',tight=True)\n",
    "plt.plot(data['KWH'])\n",
    "plt.show()"
   ]
  },
  {
   "cell_type": "markdown",
   "id": "e11c8c30-4ff3-4f22-8698-283063222fd0",
   "metadata": {},
   "source": [
    "## 3. Prepare the data"
   ]
  },
  {
   "cell_type": "code",
   "execution_count": 7,
   "id": "551a4a87-e345-4989-bb15-b131cf011d75",
   "metadata": {
    "tags": []
   },
   "outputs": [
    {
     "data": {
      "text/html": [
       "<div>\n",
       "<style scoped>\n",
       "    .dataframe tbody tr th:only-of-type {\n",
       "        vertical-align: middle;\n",
       "    }\n",
       "\n",
       "    .dataframe tbody tr th {\n",
       "        vertical-align: top;\n",
       "    }\n",
       "\n",
       "    .dataframe thead th {\n",
       "        text-align: right;\n",
       "    }\n",
       "</style>\n",
       "<table border=\"1\" class=\"dataframe\">\n",
       "  <thead>\n",
       "    <tr style=\"text-align: right;\">\n",
       "      <th></th>\n",
       "      <th>KWH</th>\n",
       "    </tr>\n",
       "  </thead>\n",
       "  <tbody>\n",
       "    <tr>\n",
       "      <th>count</th>\n",
       "      <td>35040.000000</td>\n",
       "    </tr>\n",
       "    <tr>\n",
       "      <th>mean</th>\n",
       "      <td>0.594081</td>\n",
       "    </tr>\n",
       "    <tr>\n",
       "      <th>std</th>\n",
       "      <td>0.293184</td>\n",
       "    </tr>\n",
       "    <tr>\n",
       "      <th>min</th>\n",
       "      <td>0.000000</td>\n",
       "    </tr>\n",
       "    <tr>\n",
       "      <th>25%</th>\n",
       "      <td>0.400000</td>\n",
       "    </tr>\n",
       "    <tr>\n",
       "      <th>50%</th>\n",
       "      <td>0.551000</td>\n",
       "    </tr>\n",
       "    <tr>\n",
       "      <th>75%</th>\n",
       "      <td>0.736000</td>\n",
       "    </tr>\n",
       "    <tr>\n",
       "      <th>max</th>\n",
       "      <td>3.784000</td>\n",
       "    </tr>\n",
       "  </tbody>\n",
       "</table>\n",
       "</div>"
      ],
      "text/plain": [
       "                KWH\n",
       "count  35040.000000\n",
       "mean       0.594081\n",
       "std        0.293184\n",
       "min        0.000000\n",
       "25%        0.400000\n",
       "50%        0.551000\n",
       "75%        0.736000\n",
       "max        3.784000"
      ]
     },
     "execution_count": 7,
     "metadata": {},
     "output_type": "execute_result"
    }
   ],
   "source": [
    "# from sklearn.preprocessing import MinMaxScaler\n",
    "\n",
    "# scaler = MinMaxScaler()\n",
    "# data['KWH_normalized'] = scaler.fit_transform(data[['KWH']])\n",
    "data.describe()"
   ]
  },
  {
   "cell_type": "code",
   "execution_count": 8,
   "id": "d56a30f3-d15e-403b-bb32-c559ccfcfd20",
   "metadata": {
    "tags": []
   },
   "outputs": [
    {
     "data": {
      "text/plain": [
       "(35040, 1)"
      ]
     },
     "execution_count": 8,
     "metadata": {},
     "output_type": "execute_result"
    }
   ],
   "source": [
    "data.shape"
   ]
  },
  {
   "cell_type": "code",
   "execution_count": 9,
   "id": "7aa6cbae-11a5-4344-b116-15753255ac83",
   "metadata": {
    "tags": []
   },
   "outputs": [],
   "source": [
    "data_set = data['KWH'].values.astype(float)"
   ]
  },
  {
   "cell_type": "code",
   "execution_count": 10,
   "id": "24eb97ef-cf3b-4b18-8c96-be7c37bd4b0b",
   "metadata": {
    "tags": []
   },
   "outputs": [
    {
     "data": {
      "text/plain": [
       "array([0.602, 0.589, 0.41 , 0.495, 0.45 ])"
      ]
     },
     "execution_count": 10,
     "metadata": {},
     "output_type": "execute_result"
    }
   ],
   "source": [
    "data_set[:5]"
   ]
  },
  {
   "cell_type": "markdown",
   "id": "e1090a0f-8a37-4a62-9af5-fa45d23fb7f2",
   "metadata": {
    "tags": []
   },
   "source": [
    "### 3.1 Divide the data into train and test sets"
   ]
  },
  {
   "cell_type": "code",
   "execution_count": 11,
   "id": "48382bd9-1571-473b-93b2-158fcb29cbe7",
   "metadata": {
    "tags": []
   },
   "outputs": [],
   "source": [
    "# Dataset parameters\n",
    "train_ratio = 0.8\n",
    "\n",
    "def train_test_split(x, train_ratio):\n",
    "    t = int(len(x)*train_ratio)\n",
    "    return x.iloc[0:t, :], x.iloc[t:, :]"
   ]
  },
  {
   "cell_type": "code",
   "execution_count": 12,
   "id": "e9c9c9af-3663-4654-9c6b-978ec8dbf5b4",
   "metadata": {
    "tags": []
   },
   "outputs": [
    {
     "name": "stdout",
     "output_type": "stream",
     "text": [
      "Shape of training: (28032, 1)\n",
      "Shape of testing: (7008, 1)\n"
     ]
    },
    {
     "data": {
      "image/png": "[encoded data removed]",
      "text/plain": [
       "<Figure size 1600x400 with 1 Axes>"
      ]
     },
     "metadata": {},
     "output_type": "display_data"
    }
   ],
   "source": [
    "df_train, df_test = train_test_split(data, train_ratio)\n",
    "\n",
    "print(\"Shape of training:\", df_train.shape)\n",
    "print(\"Shape of testing:\", df_test.shape)\n",
    "\n",
    "fig, ax = plt.subplots(figsize=(16,4))\n",
    "ax.set_title('User 1 train and test sets', size=15)\n",
    "ax.plot(df_train, label='Training set')\n",
    "ax.plot(df_test, label='Test set', color='orange')\n",
    "plt.axvline(x=df_test.index[0], linestyle='--', color='red', label='Train/Test split')\n",
    "plt.legend();"
   ]
  },
  {
   "cell_type": "code",
   "execution_count": 13,
   "id": "0ca82fbe-a2f3-4a33-83c6-91b28f80c76c",
   "metadata": {
    "tags": []
   },
   "outputs": [],
   "source": [
    "# # Dataset parameters\n",
    "# n_window = 96             # input window\n",
    "# train_ratio = 0.8\n",
    "\n",
    "# # def samples_unsupervised(s, n_window): \n",
    "# #     x = []\n",
    "# #     for i in range(n_window, len(s)):\n",
    "# #         x.append(s[i - n_window : i])\n",
    "    \n",
    "# #     return np.stack(x)\n",
    "\n",
    "# def train_test_split(x, train_ratio):\n",
    "#     t = int(len(x)*train_ratio)\n",
    "#     return x[0:t, :], x[t:, :]"
   ]
  },
  {
   "cell_type": "code",
   "execution_count": 14,
   "id": "00d3c79d-5aa1-4395-ae44-401cbc148e96",
   "metadata": {},
   "outputs": [],
   "source": [
    "# # Prepare the dataset\n",
    "# # x = samples_unsupervised(data, n_window)\n",
    "# x_train, x_test = train_test_split(x, train_ratio)\n",
    "\n",
    "# print(x_train.shape)\n",
    "# # print(x_test.shape)"
   ]
  },
  {
   "cell_type": "code",
   "execution_count": 15,
   "id": "b8280d3d-fa6b-4123-a12d-342f727d2d26",
   "metadata": {
    "tags": []
   },
   "outputs": [],
   "source": [
    "# y = data['KWH'].values.astype(float)\n",
    "# y"
   ]
  },
  {
   "cell_type": "markdown",
   "id": "fec2d378-5e07-4125-a9c8-0092a00402f2",
   "metadata": {
    "tags": []
   },
   "source": [
    "### 3.2 Normalize the training set"
   ]
  },
  {
   "cell_type": "code",
   "execution_count": 16,
   "id": "bff2a2ca-8cdb-4cbe-b609-2b76e11386df",
   "metadata": {
    "tags": []
   },
   "outputs": [],
   "source": [
    "train_set = df_train['KWH'].values.astype(float)\n",
    "test_set = df_test['KWH'].values.astype(float)"
   ]
  },
  {
   "cell_type": "code",
   "execution_count": 17,
   "id": "706d5ff1-0600-4729-8789-29b55c0704cb",
   "metadata": {
    "tags": []
   },
   "outputs": [
    {
     "name": "stdout",
     "output_type": "stream",
     "text": [
      "First item, original: 0.602\n",
      "First item, original shape: (28032,)\n",
      "First item, scaled: [-0.68181818]\n",
      "First item, scaled shape: (28032, 1)\n"
     ]
    }
   ],
   "source": [
    "scaler = MinMaxScaler(feature_range=(-1, 1))\n",
    "train_norm = scaler.fit_transform(train_set.reshape(-1,1))\n",
    "\n",
    "print(f'First item, original: {train_set[0]}')\n",
    "print(f'First item, original shape: {train_set.shape}')\n",
    "print(f'First item, scaled: {train_norm[0]}')\n",
    "print(f'First item, scaled shape: {train_norm.shape}')"
   ]
  },
  {
   "cell_type": "markdown",
   "id": "f6f6f93d-f040-442b-8b05-e9a54cf8aec5",
   "metadata": {},
   "source": [
    "### 3.3 Prepare data for Model"
   ]
  },
  {
   "cell_type": "code",
   "execution_count": 18,
   "id": "d7da5ba6-eb75-4401-ba13-7863e2090768",
   "metadata": {
    "tags": []
   },
   "outputs": [],
   "source": [
    "train_norm = torch.FloatTensor(train_norm).view(-1)\n",
    "\n",
    "def input_data(seq,ws):\n",
    "    out = []\n",
    "    L = len(seq)\n",
    "    for i in range(L-ws):\n",
    "        window = seq[i:i+ws]\n",
    "        label = seq[i+ws:i+ws+1]\n",
    "        out.append((window,label))\n",
    "    return out"
   ]
  },
  {
   "cell_type": "code",
   "execution_count": 83,
   "id": "7bfffecc-f64e-42ce-ba11-7d673d3dcce6",
   "metadata": {
    "tags": []
   },
   "outputs": [
    {
     "data": {
      "text/plain": [
       "[(tensor([-0.6818, -0.6887, -0.7833, -0.7384, -0.7622, -0.7357, -0.7711, -0.7622,\n",
       "          -0.7521, -0.7521, -0.7928, -0.7886, -0.7437, -0.7844, -0.7701, -0.7585,\n",
       "          -0.7479, -0.7748, -0.7674, -0.7479, -0.7997, -0.7764, -0.7743, -0.7759,\n",
       "          -0.4905, -0.7912, -0.8060, -0.6966, -0.8298, -0.8679, -0.8261, -0.8768,\n",
       "          -0.8673, -0.8393, -0.8541, -0.8652, -0.7167, -0.8303, -0.8658, -0.8573,\n",
       "          -0.8420, -0.6586, -0.6612, -0.7759, -0.8219, -0.6702, -0.7331, -0.8393,\n",
       "          -0.8478, -0.8658, -0.8885, -0.8118, -0.8235, -0.8578, -0.8531, -0.8853,\n",
       "          -0.7838, -0.8414, -0.7981, -0.8309, -0.7326, -0.7183, -0.7109, -0.7257,\n",
       "          -0.7146, -0.6052, -0.6617, -0.5951, -0.6158, -0.5936, -0.6945, -0.7014,\n",
       "          -0.6506, -0.5983, -0.4794, -0.2389, -0.4947, -0.5751, -0.5978, -0.5904,\n",
       "          -0.6290, -0.6591, -0.6311, -0.6485, -0.6517, -0.6506, -0.6771, -0.6956,\n",
       "          -0.6744, -0.6945, -0.7098, -0.5423, -0.6660, -0.6823, -0.7003, -0.6480]),\n",
       "  tensor([-0.6617])),\n",
       " (tensor([-0.6887, -0.7833, -0.7384, -0.7622, -0.7357, -0.7711, -0.7622, -0.7521,\n",
       "          -0.7521, -0.7928, -0.7886, -0.7437, -0.7844, -0.7701, -0.7585, -0.7479,\n",
       "          -0.7748, -0.7674, -0.7479, -0.7997, -0.7764, -0.7743, -0.7759, -0.4905,\n",
       "          -0.7912, -0.8060, -0.6966, -0.8298, -0.8679, -0.8261, -0.8768, -0.8673,\n",
       "          -0.8393, -0.8541, -0.8652, -0.7167, -0.8303, -0.8658, -0.8573, -0.8420,\n",
       "          -0.6586, -0.6612, -0.7759, -0.8219, -0.6702, -0.7331, -0.8393, -0.8478,\n",
       "          -0.8658, -0.8885, -0.8118, -0.8235, -0.8578, -0.8531, -0.8853, -0.7838,\n",
       "          -0.8414, -0.7981, -0.8309, -0.7326, -0.7183, -0.7109, -0.7257, -0.7146,\n",
       "          -0.6052, -0.6617, -0.5951, -0.6158, -0.5936, -0.6945, -0.7014, -0.6506,\n",
       "          -0.5983, -0.4794, -0.2389, -0.4947, -0.5751, -0.5978, -0.5904, -0.6290,\n",
       "          -0.6591, -0.6311, -0.6485, -0.6517, -0.6506, -0.6771, -0.6956, -0.6744,\n",
       "          -0.6945, -0.7098, -0.5423, -0.6660, -0.6823, -0.7003, -0.6480, -0.6617]),\n",
       "  tensor([-0.5888])),\n",
       " (tensor([-0.7833, -0.7384, -0.7622, -0.7357, -0.7711, -0.7622, -0.7521, -0.7521,\n",
       "          -0.7928, -0.7886, -0.7437, -0.7844, -0.7701, -0.7585, -0.7479, -0.7748,\n",
       "          -0.7674, -0.7479, -0.7997, -0.7764, -0.7743, -0.7759, -0.4905, -0.7912,\n",
       "          -0.8060, -0.6966, -0.8298, -0.8679, -0.8261, -0.8768, -0.8673, -0.8393,\n",
       "          -0.8541, -0.8652, -0.7167, -0.8303, -0.8658, -0.8573, -0.8420, -0.6586,\n",
       "          -0.6612, -0.7759, -0.8219, -0.6702, -0.7331, -0.8393, -0.8478, -0.8658,\n",
       "          -0.8885, -0.8118, -0.8235, -0.8578, -0.8531, -0.8853, -0.7838, -0.8414,\n",
       "          -0.7981, -0.8309, -0.7326, -0.7183, -0.7109, -0.7257, -0.7146, -0.6052,\n",
       "          -0.6617, -0.5951, -0.6158, -0.5936, -0.6945, -0.7014, -0.6506, -0.5983,\n",
       "          -0.4794, -0.2389, -0.4947, -0.5751, -0.5978, -0.5904, -0.6290, -0.6591,\n",
       "          -0.6311, -0.6485, -0.6517, -0.6506, -0.6771, -0.6956, -0.6744, -0.6945,\n",
       "          -0.7098, -0.5423, -0.6660, -0.6823, -0.7003, -0.6480, -0.6617, -0.5888]),\n",
       "  tensor([-0.6956]))]"
      ]
     },
     "execution_count": 83,
     "metadata": {},
     "output_type": "execute_result"
    }
   ],
   "source": [
    "train_data[:3]"
   ]
  },
  {
   "cell_type": "code",
   "execution_count": 20,
   "id": "05542a0a-8fe9-4729-a179-2153a94d8b4a",
   "metadata": {
    "tags": []
   },
   "outputs": [
    {
     "name": "stdout",
     "output_type": "stream",
     "text": [
      "Train_data: 27936\n"
     ]
    }
   ],
   "source": [
    "window_size = 96\n",
    "\n",
    "train_data = input_data(train_norm, window_size)\n",
    "\n",
    "print(f'Train_data: {len(train_data)}')"
   ]
  },
  {
   "cell_type": "code",
   "execution_count": 21,
   "id": "9007d508-0fbb-4546-9cd9-f46cafb5fc8b",
   "metadata": {},
   "outputs": [],
   "source": [
    "# # Dataset parameters\n",
    "# n_window = 80             # input window\n",
    "\n",
    "# def samples_unsupervised(s, n_window): \n",
    "#     x = []\n",
    "#     for i in range(n_window, len(s)):\n",
    "#         x.append(s[i - n_window : i])\n",
    "    \n",
    "#     return np.stack(x)"
   ]
  },
  {
   "cell_type": "code",
   "execution_count": 22,
   "id": "1b56f665-8a12-44ae-afc9-ffdae85bbc84",
   "metadata": {},
   "outputs": [],
   "source": [
    "# Prepare the dataset\n",
    "# x = samples_unsupervised(normal_data, n_window)"
   ]
  },
  {
   "cell_type": "code",
   "execution_count": 23,
   "id": "c0995614-c413-4e4e-958e-aecc7064b2e6",
   "metadata": {
    "tags": []
   },
   "outputs": [],
   "source": [
    "# Our handy function for converting our dataset into the correct format\n",
    "\n",
    "# def window_data(df, window, feature_col_number, target_col_number):\n",
    "#     \"\"\"\n",
    "#     This function accepts the column number for the features (X) and the target (y).\n",
    "#     It chunks the data up with a rolling window of Xt - window to predict Xt.\n",
    "#     It returns two numpy arrays of X and y.\n",
    "#     \"\"\"\n",
    "#     X = []\n",
    "#     y = []\n",
    "#     for i in range(len(df) - window - 1):\n",
    "#         features = df[i : (i + window), feature_col_number]\n",
    "#         target = df[(i + window), target_col_number]\n",
    "#         #print(features)\n",
    "#         #print(\"----\")\n",
    "#         #print(target)\n",
    "#         X.append(features)\n",
    "#         y.append(target)\n",
    "#     return np.array(X), np.array(y).astype(np.float64).reshape(-1, 1)"
   ]
  },
  {
   "cell_type": "code",
   "execution_count": 24,
   "id": "92274160-374a-4299-86c6-f4166d62ccbd",
   "metadata": {
    "tags": []
   },
   "outputs": [],
   "source": [
    "window_size = 96 # 1 day records\n",
    "\n",
    "# (X, y) = window_data(train_norm, window_size, 0, 0)\n",
    "\n",
    "# print('X shape:', X.shape)\n",
    "# print('y shape:', y.shape)"
   ]
  },
  {
   "cell_type": "code",
   "execution_count": 25,
   "id": "54ed0c88-73f1-4e4e-b0aa-0042e1e712ed",
   "metadata": {
    "tags": []
   },
   "outputs": [],
   "source": [
    "# X[:3]"
   ]
  },
  {
   "cell_type": "code",
   "execution_count": 26,
   "id": "a6dd0b9a-bb2a-4086-a2df-338153238cb2",
   "metadata": {
    "tags": []
   },
   "outputs": [],
   "source": [
    "# y[:3]"
   ]
  },
  {
   "cell_type": "code",
   "execution_count": 27,
   "id": "16889af1-c4ad-47f4-b21c-ccb06d79a193",
   "metadata": {
    "tags": []
   },
   "outputs": [],
   "source": [
    "# X_train = X.reshape((X.shape[0], X.shape[1], 1))\n",
    "# X_test = y.reshape((y.shape[0], y.shape[1], 1))\n",
    "# print('X_train shape: ', X_train.shape)\n",
    "# print('X_test shape: ', X_test.shape)"
   ]
  },
  {
   "cell_type": "markdown",
   "id": "57076e62-a7c0-4d79-afbe-a726a4863e84",
   "metadata": {},
   "source": [
    "### 4. Define the model"
   ]
  },
  {
   "cell_type": "code",
   "execution_count": 28,
   "id": "022a4c54-47fc-40dd-ab17-40848d241485",
   "metadata": {
    "tags": []
   },
   "outputs": [],
   "source": [
    "# class LSTMnetwork(nn.Module):\n",
    "#     def __init__(self,input_size=1,hidden_size=64,output_size=1):\n",
    "#         super().__init__()\n",
    "#         self.hidden_size = hidden_size\n",
    "        \n",
    "#         # Add an LSTM layer:\n",
    "#         self.lstm = nn.LSTM(input_size,hidden_size)\n",
    "        \n",
    "#         # Add a fully-connected layer:\n",
    "#         self.linear = nn.Linear(hidden_size,output_size)\n",
    "        \n",
    "#         # Initialize h0 and c0:\n",
    "#         self.hidden = (torch.zeros(1,1,self.hidden_size),\n",
    "#                        torch.zeros(1,1,self.hidden_size))\n",
    "\n",
    "#     def forward(self,seq):\n",
    "#         lstm_out, self.hidden = self.lstm(\n",
    "#             seq.view(len(seq),1,-1), self.hidden)\n",
    "#         pred = self.linear(lstm_out.view(len(seq),-1))\n",
    "#         return pred[-1]\n",
    "    \n",
    "# torch.manual_seed(101)\n",
    "# model = LSTMnetwork()\n",
    "# model"
   ]
  },
  {
   "cell_type": "code",
   "execution_count": 56,
   "id": "4fec1ffa-6b33-4def-bb3a-54853e991419",
   "metadata": {
    "tags": []
   },
   "outputs": [],
   "source": [
    "class LSTMnetwork(nn.Module):\n",
    "    def __init__(self,input_size=1,hidden_size=64,output_size=1):\n",
    "        super().__init__()\n",
    "        self.hidden_size = hidden_size\n",
    "        \n",
    "        # Add an LSTM layer:\n",
    "        self.lstm = nn.LSTM(input_size,hidden_size)\n",
    "        \n",
    "        # Add a fully-connected layer:\n",
    "        self.linear = nn.Linear(hidden_size,output_size)\n",
    "        \n",
    "        # Initialize h0 and c0:\n",
    "        self.hidden = (torch.zeros(1,1,self.hidden_size),\n",
    "                       torch.zeros(1,1,self.hidden_size))\n",
    "\n",
    "    def forward(self,seq):\n",
    "        lstm_out, self.hidden = self.lstm(\n",
    "            seq.view(len(seq),1,-1), self.hidden)\n",
    "        pred = self.linear(lstm_out.view(len(seq),-1))\n",
    "        return pred[-1]"
   ]
  },
  {
   "cell_type": "markdown",
   "id": "3d97ba3f-0976-4e36-8492-41a22797de31",
   "metadata": {
    "tags": []
   },
   "source": [
    "### Define loss and optimization functions"
   ]
  },
  {
   "cell_type": "code",
   "execution_count": 57,
   "id": "bf93325f-bfe4-4b9e-a0d8-e744e7d0ce4c",
   "metadata": {
    "tags": []
   },
   "outputs": [
    {
     "data": {
      "text/plain": [
       "LSTMnetwork(\n",
       "  (lstm): LSTM(1, 64)\n",
       "  (linear): Linear(in_features=64, out_features=1, bias=True)\n",
       ")"
      ]
     },
     "execution_count": 57,
     "metadata": {},
     "output_type": "execute_result"
    }
   ],
   "source": [
    "torch.manual_seed(101)\n",
    "model = LSTMnetwork().to(device)\n",
    "\n",
    "criterion = nn.MSELoss()\n",
    "optimizer = torch.optim.SGD(model.parameters(), lr=0.001)\n",
    "\n",
    "model"
   ]
  },
  {
   "cell_type": "code",
   "execution_count": 58,
   "id": "f1258919-80b7-4dca-b6f2-fd89b5b91073",
   "metadata": {
    "tags": []
   },
   "outputs": [
    {
     "name": "stdout",
     "output_type": "stream",
     "text": [
      "   256\n",
      " 16384\n",
      "   256\n",
      "   256\n",
      "    64\n",
      "     1\n",
      "______\n",
      " 17217\n"
     ]
    }
   ],
   "source": [
    "def count_parameters(model):\n",
    "    params = [p.numel() for p in model.parameters() if p.requires_grad]\n",
    "    for item in params:\n",
    "        print(f'{item:>6}')\n",
    "    print(f'______\\n{sum(params):>6}')\n",
    "    \n",
    "count_parameters(model)"
   ]
  },
  {
   "cell_type": "code",
   "execution_count": 59,
   "id": "41f3f428-9923-4b5a-a92b-e1d69d7b090a",
   "metadata": {
    "tags": []
   },
   "outputs": [
    {
     "name": "stdout",
     "output_type": "stream",
     "text": [
      "tensor([-0.6818, -0.6887, -0.7833, -0.7384, -0.7622, -0.7357, -0.7711, -0.7622,\n",
      "        -0.7521, -0.7521, -0.7928, -0.7886, -0.7437, -0.7844, -0.7701, -0.7585,\n",
      "        -0.7479, -0.7748, -0.7674, -0.7479, -0.7997, -0.7764, -0.7743, -0.7759,\n",
      "        -0.4905, -0.7912, -0.8060, -0.6966, -0.8298, -0.8679, -0.8261, -0.8768,\n",
      "        -0.8673, -0.8393, -0.8541, -0.8652, -0.7167, -0.8303, -0.8658, -0.8573,\n",
      "        -0.8420, -0.6586, -0.6612, -0.7759, -0.8219, -0.6702, -0.7331, -0.8393,\n",
      "        -0.8478, -0.8658, -0.8885, -0.8118, -0.8235, -0.8578, -0.8531, -0.8853,\n",
      "        -0.7838, -0.8414, -0.7981, -0.8309, -0.7326, -0.7183, -0.7109, -0.7257,\n",
      "        -0.7146, -0.6052, -0.6617, -0.5951, -0.6158, -0.5936, -0.6945, -0.7014,\n",
      "        -0.6506, -0.5983, -0.4794, -0.2389, -0.4947, -0.5751, -0.5978, -0.5904,\n",
      "        -0.6290, -0.6591, -0.6311, -0.6485, -0.6517, -0.6506, -0.6771, -0.6956,\n",
      "        -0.6744, -0.6945, -0.7098, -0.5423, -0.6660, -0.6823, -0.7003, -0.6480])\n",
      "tensor([-0.6617])\n"
     ]
    }
   ],
   "source": [
    "for seq, y_train in train_data:\n",
    "    print(seq)\n",
    "    print(y_train)\n",
    "    break"
   ]
  },
  {
   "cell_type": "markdown",
   "id": "c078ab34-345d-453a-a33e-4d162e0ef7aa",
   "metadata": {},
   "source": [
    "### Train the model"
   ]
  },
  {
   "cell_type": "code",
   "execution_count": 61,
   "id": "8fbaf712-616b-4678-8cd8-d09994ce1bff",
   "metadata": {
    "tags": []
   },
   "outputs": [
    {
     "name": "stdout",
     "output_type": "stream",
     "text": [
      "Epoch:  1 Loss: 0.00073437\n",
      "Epoch: 11 Loss: 0.00916370\n",
      "Epoch: 21 Loss: 0.01213863\n",
      "Epoch: 31 Loss: 0.01404622\n",
      "Epoch: 41 Loss: 0.01522622\n",
      "\n",
      "Duration: 534 seconds\n"
     ]
    }
   ],
   "source": [
    "epochs = 50\n",
    "\n",
    "import time\n",
    "start_time = time.time()\n",
    "\n",
    "for epoch in range(epochs):\n",
    "    \n",
    "    # extract the sequence & label from the training data\n",
    "    for seq, y_train in train_data:\n",
    "        \n",
    "        #seq & y_train to device\n",
    "        seq = seq.to(device)\n",
    "        y_train = y_train.to(device)\n",
    "        \n",
    "        # reset the parameters and hidden states\n",
    "        optimizer.zero_grad()\n",
    "        model.hidden = (torch.zeros(1,1,model.hidden_size).to(device),\n",
    "                        torch.zeros(1,1,model.hidden_size).to(device))\n",
    "        \n",
    "        # apply the model\n",
    "        y_pred = model(seq)                  # 1. model\n",
    "\n",
    "        # update parameters\n",
    "        loss = criterion(y_pred, y_train)    # 2. loss\n",
    "        loss.backward()\n",
    "        optimizer.step()\n",
    "\n",
    "    # OPTIONAL print statement\n",
    "    # print(f'{i+1} of {epochs} epochs completed')\n",
    "    if epoch % 10 == 0:\n",
    "        print(f'Epoch: {epoch+1:2} Loss: {loss.item():10.8f}')\n",
    "        \n",
    "print(f'\\nDuration: {time.time() - start_time:.0f} seconds')"
   ]
  },
  {
   "cell_type": "code",
   "execution_count": 62,
   "id": "fcca9b0a-5652-4aaa-92db-ba7682ce1c0e",
   "metadata": {},
   "outputs": [],
   "source": [
    "# epochs = 50\n",
    "# # val_old_loss = float(\"Inf\")\n",
    "# train_losses = []\n",
    "# train_accs   = []\n",
    "# val_losses   = []\n",
    "# val_accs     = []\n",
    "# # filepath = '../models/best_mnist.pt'\n",
    "\n",
    "# import time\n",
    "# start_time_total = time.time()\n",
    "\n",
    "# #for epochs\n",
    "# for epoch in range(epochs):\n",
    "    \n",
    "# #     #for train loader\n",
    "# #     total_corr = 0\n",
    "    \n",
    "#     # extract the sequence & label from the training data\n",
    "#     for seq, y_train in train_data:\n",
    "        \n",
    "#         start_time_1 = time.time()\n",
    "        \n",
    "#         #seq & y_train to device\n",
    "#         seq = seq.to(device)\n",
    "#         y_train = y_train.to(device)\n",
    "        \n",
    "#         # reset the parameters and hidden states\n",
    "#         optimizer.zero_grad()\n",
    "#         model.hidden = (torch.zeros(1,1,model.hidden_size).to(device),\n",
    "#                         torch.zeros(1,1,model.hidden_size).to(device))\n",
    "        \n",
    "#         # apply the model\n",
    "#         y_pred = model(seq)      # 1. model\n",
    "\n",
    "#         # update parameters\n",
    "#         loss = criterion(y_pred, y_train)    # 2. loss\n",
    "#         loss.backward()\n",
    "#         optimizer.step()\n",
    "        \n",
    "# #         #print the loss and acc if epoch / 1\n",
    "# #         train_acc = (total_corr * 100) / (batch_size * (b + 1))\n",
    "# #         train_accs.append(train_acc)\n",
    "        \n",
    "#         #total time\n",
    "#         total_time = time.time() - start_time_1\n",
    "\n",
    "#     # OPTIONAL print statement\n",
    "#     # print(f'{i+1} of {epochs} epochs completed')\n",
    "#     if epoch % 10 == 0:\n",
    "#         print(f'Epoch: {epoch+1:2} Loss: {loss.item():10.8f}')\n",
    "#         # print(f\"Epoch: {e} - Batch: {b} - Train Loss: {train_loss:.2f} - Train Acc: {train_acc:.2f} - Total Time: {total_time:.2f}s\")\n",
    "        \n",
    "#     # with torch.no_grad():\n",
    "#     #     val_corr = 0 \n",
    "#     #     for val_image, val_label in val_loader:\n",
    "#     #         val_image = val_image.to(device)\n",
    "#     #         val_label = val_label.to(device)\n",
    "#     #         val_yhat = model(val_image)\n",
    "#     #         val_loss = J_fn(val_yhat, val_label)\n",
    "#     #         val_predicted = torch.max(val_yhat, 1)[1]\n",
    "#     #         val_corr += (val_predicted == val_label).sum()\n",
    "#     #         if val_loss < val_old_loss:\n",
    "#     #             torch.save(model.state_dict(), filepath)\n",
    "#     #     val_acc = (val_corr * 100) / len(val_set)\n",
    "#     # val_accs.append(val_acc)\n",
    "#     # val_losses.append(val_loss)\n",
    "#     # # here you MUST SAVE THE BEST MODEL whenever val_loss < val_old_loss\n",
    "#     # ##even if it takes time, you want to do this in your thesis....\n",
    "        \n",
    "# print(f'\\nDuration: {time.time() - start_time_total:.0f} seconds')"
   ]
  },
  {
   "cell_type": "markdown",
   "id": "b7f74c00-9bb2-4308-af23-85369f45bc3b",
   "metadata": {},
   "source": [
    "## 5. Evaluate the model using the test set"
   ]
  },
  {
   "cell_type": "code",
   "execution_count": 65,
   "id": "ad4685a6-58c1-4996-a05f-bf454608b333",
   "metadata": {
    "tags": []
   },
   "outputs": [
    {
     "data": {
      "text/plain": [
       "7008"
      ]
     },
     "execution_count": 65,
     "metadata": {},
     "output_type": "execute_result"
    }
   ],
   "source": [
    "len(test_set)"
   ]
  },
  {
   "cell_type": "code",
   "execution_count": 71,
   "id": "c17fec93-1b20-42e5-a100-8f201a3808d4",
   "metadata": {
    "tags": []
   },
   "outputs": [
    {
     "data": {
      "text/plain": [
       "[-0.6371443271636963,\n",
       " -0.6486324667930603,\n",
       " -0.6592532396316528,\n",
       " -0.6689152717590332,\n",
       " -0.6776772737503052]"
      ]
     },
     "execution_count": 71,
     "metadata": {},
     "output_type": "execute_result"
    }
   ],
   "source": [
    "future = 96\n",
    "preds = train_norm[-window_size:].tolist()\n",
    "\n",
    "model.eval()\n",
    "\n",
    "for i in range(future):\n",
    "    seq = torch.FloatTensor(preds[-window_size:]).to(device)\n",
    "    with torch.no_grad():\n",
    "        model.hidden = (torch.zeros(1,1,model.hidden_size).to(device),\n",
    "                        torch.zeros(1,1,model.hidden_size).to(device))\n",
    "        preds.append(model(seq).item())\n",
    "        \n",
    "preds[window_size:][:5]"
   ]
  },
  {
   "cell_type": "markdown",
   "id": "e13d90d9-8615-4f95-909d-80a00833a3e6",
   "metadata": {},
   "source": [
    "### Inverse transform the predicted values\n",
    "\n",
    "Rescale the predicted values up to the original test set range."
   ]
  },
  {
   "cell_type": "code",
   "execution_count": 70,
   "id": "9bf13418-795a-4be9-aba8-8e32d4520cf4",
   "metadata": {
    "tags": []
   },
   "outputs": [
    {
     "data": {
      "text/plain": [
       "array([[0.68652293],\n",
       "       [0.66478737],\n",
       "       [0.64469287],\n",
       "       [0.62641231],\n",
       "       [0.6098346 ]])"
      ]
     },
     "execution_count": 70,
     "metadata": {},
     "output_type": "execute_result"
    }
   ],
   "source": [
    "true_predictions = scaler.inverse_transform(np.array(preds[window_size:]).reshape(-1, 1))\n",
    "true_predictions[:5]"
   ]
  },
  {
   "cell_type": "markdown",
   "id": "af06d7b4-da68-41ed-9d49-aeb10266af5f",
   "metadata": {},
   "source": [
    "### Plot the result\n",
    "\n",
    "Plot the true_predictions values together with the original data. Remember to create a range of datetime values for the predicted data."
   ]
  },
  {
   "cell_type": "code",
   "execution_count": 73,
   "id": "427ef525-df89-4e9d-9f04-e85a0c3dc56b",
   "metadata": {
    "tags": []
   },
   "outputs": [
    {
     "data": {
      "image/png": "[encoded data removed]",
      "text/plain": [
       "<Figure size 640x480 with 1 Axes>"
      ]
     },
     "metadata": {},
     "output_type": "display_data"
    }
   ],
   "source": [
    "# plt.figure(figsize=(12,4))\n",
    "# plt.title('Industrial Production Index for Electricity and Gas Utilities')\n",
    "# plt.ylabel('Index 2012=100, Not Seasonally Adjusted')\n",
    "# plt.grid(True)\n",
    "# plt.autoscale(axis='x',tight=True)\n",
    "# plt.plot(data['KWH'])\n",
    "plt.plot(true_predictions)\n",
    "plt.show()"
   ]
  },
  {
   "cell_type": "code",
   "execution_count": 85,
   "id": "87d25f83-75fc-4399-9f51-0071c0b00d3e",
   "metadata": {
    "tags": []
   },
   "outputs": [
    {
     "data": {
      "image/png": "[encoded data removed]",
      "text/plain": [
       "<Figure size 1200x400 with 1 Axes>"
      ]
     },
     "metadata": {},
     "output_type": "display_data"
    }
   ],
   "source": [
    "plt.figure(figsize=(12,4))\n",
    "plt.title('User 1 train and test sets', size=15)\n",
    "plt.ylabel('KWH')\n",
    "plt.grid(True)\n",
    "plt.autoscale(axis='x',tight=True)\n",
    "plt.plot(data['KWH']['2021-12-30':'2021-12-31'])\n",
    "plt.show()"
   ]
  },
  {
   "cell_type": "code",
   "execution_count": null,
   "id": "b27bac2e-83aa-4c8c-bbe2-84bc4c843fc0",
   "metadata": {},
   "outputs": [],
   "source": []
  }
 ],
 "metadata": {
  "kernelspec": {
   "display_name": "Python 3 (ipykernel)",
   "language": "python",
   "name": "python3"
  },
  "language_info": {
   "codemirror_mode": {
    "name": "ipython",
    "version": 3
   },
   "file_extension": ".py",
   "mimetype": "text/x-python",
   "name": "python",
   "nbconvert_exporter": "python",
   "pygments_lexer": "ipython3",
   "version": "3.8.10"
  }
 },
 "nbformat": 4,
 "nbformat_minor": 5
}
