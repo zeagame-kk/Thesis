{
 "cells": [
  {
   "cell_type": "code",
   "execution_count": 1,
   "id": "2a270893-7083-43b9-9a2a-2c0bc02c7b3a",
   "metadata": {},
   "outputs": [],
   "source": [
    "# Read Text Files with Pandas using read_table()\n",
    "import warnings\n",
    "from glob import glob\n",
    "# Importing library\n",
    "import numpy as np\n",
    "from functools import reduce\n",
    "import pandas as pd\n",
    "import matplotlib.pyplot as plt\n",
    "import plotly.express as px\n",
    "\n",
    "from tqdm.auto import tqdm"
   ]
  },
  {
   "cell_type": "code",
   "execution_count": null,
   "id": "ee6aca40-5f7d-4b91-91ef-164e500c39e7",
   "metadata": {},
   "outputs": [],
   "source": [
    "df_jan = pd.read_csv(\"datasets/JAN2021.csv\")  #1\n",
    "df_feb = pd.read_csv(\"datasets/FEB2021.csv\")  #2\n",
    "df_mar = pd.read_csv(\"datasets/MAR2021.csv\")  #3\n",
    "df_apr = pd.read_csv(\"datasets/APR2021.csv\")  #4\n",
    "df_may = pd.read_csv(\"datasets/MAY2021.csv\")  #5\n",
    "df_jun = pd.read_csv(\"datasets/JUN2021.csv\")  #6\n",
    "df_jul = pd.read_csv(\"datasets/JUL2021.csv\")  #7\n",
    "df_aug = pd.read_csv(\"datasets/AUG2021.csv\")  #8\n",
    "df_sep = pd.read_csv(\"datasets/SEP2021.csv\")  #9\n",
    "df_oct = pd.read_csv(\"datasets/OCT2021.csv\")  #10\n",
    "df_nov = pd.read_csv(\"datasets/NOV2021.csv\")  #11\n",
    "df_dec = pd.read_csv(\"datasets/DEC2021.csv\")  #12\n",
    "\n",
    "print(df_jan.shape)  #1\n",
    "print(df_feb.shape)  #2\n",
    "print(df_mar.shape)  #3\n",
    "print(df_apr.shape)  #4\n",
    "print(df_may.shape)  #5\n",
    "print(df_jun.shape)  #6\n",
    "print(df_jul.shape)  #7\n",
    "print(df_aug.shape)  #8\n",
    "print(df_sep.shape)  #9\n",
    "print(df_oct.shape)  #10\n",
    "print(df_nov.shape)  #11\n",
    "print(df_dec.shape)  #12"
   ]
  },
  {
   "cell_type": "code",
   "execution_count": null,
   "id": "66622fca-316b-49f5-a246-98052809bd8e",
   "metadata": {},
   "outputs": [],
   "source": [
    "# Find the unique values of MeterID in each Month\n",
    "# 1\n",
    "print(df_jan[\"MeterID\"].unique())\n",
    "print(\"MeterID values count in Jan: \", df_jan[\"MeterID\"].nunique(dropna=True))\n",
    "# 2\n",
    "print(df_feb[\"MeterID\"].unique())\n",
    "print(\"MeterID values count in Feb: \", df_feb[\"MeterID\"].nunique(dropna=True))\n",
    "# 3\n",
    "print(df_mar[\"MeterID\"].unique())\n",
    "print(\"MeterID values count in Mar: \", df_mar[\"MeterID\"].nunique(dropna=True))\n",
    "# 4\n",
    "print(df_apr[\"MeterID\"].unique())\n",
    "print(\"MeterID values count in Apr: \", df_apr[\"MeterID\"].nunique(dropna=True))\n",
    "# 5\n",
    "print(df_may[\"MeterID\"].unique())\n",
    "print(\"MeterID values count in May: \", df_may[\"MeterID\"].nunique(dropna=True))\n",
    "# 6\n",
    "print(df_jun[\"MeterID\"].unique())\n",
    "print(\"MeterID values count in Jun: \", df_jun[\"MeterID\"].nunique(dropna=True))\n",
    "# 7\n",
    "print(df_jul[\"MeterID\"].unique())\n",
    "print(\"MeterID values count in Jul: \", df_jul[\"MeterID\"].nunique(dropna=True))\n",
    "# 8\n",
    "print(df_aug[\"MeterID\"].unique())\n",
    "print(\"MeterID values count in Aug: \", df_aug[\"MeterID\"].nunique(dropna=True))\n",
    "# 9\n",
    "print(df_sep[\"MeterID\"].unique())\n",
    "print(\"MeterID values count in Sep: \", df_sep[\"MeterID\"].nunique(dropna=True))\n",
    "# 10\n",
    "print(df_oct[\"MeterID\"].unique())\n",
    "print(\"MeterID values count in Oct: \", df_oct[\"MeterID\"].nunique(dropna=True))\n",
    "# 11\n",
    "print(df_nov[\"MeterID\"].unique())\n",
    "print(\"MeterID values count in Nov: \", df_nov[\"MeterID\"].nunique(dropna=True))\n",
    "# 12\n",
    "print(df_dec[\"MeterID\"].unique())\n",
    "print(\"MeterID values count in Dec: \", df_dec[\"MeterID\"].nunique(dropna=True))"
   ]
  },
  {
   "cell_type": "code",
   "execution_count": null,
   "id": "79361c7d-9911-4946-9d6f-d1ab4b6e11bb",
   "metadata": {},
   "outputs": [],
   "source": [
    "# Apply intersect1d to (a list of) multiple lists:\n",
    "meters_id = reduce(np.intersect1d, (list(df_jan[\"MeterID\"].unique()),\n",
    "                                    list(df_feb[\"MeterID\"].unique()),\n",
    "                                    list(df_mar[\"MeterID\"].unique()),\n",
    "                                    list(df_apr[\"MeterID\"].unique()),\n",
    "                                    list(df_may[\"MeterID\"].unique()),\n",
    "                                    list(df_jun[\"MeterID\"].unique()),\n",
    "                                    list(df_jul[\"MeterID\"].unique()),\n",
    "                                    list(df_aug[\"MeterID\"].unique()),\n",
    "                                    list(df_sep[\"MeterID\"].unique()),\n",
    "                                    list(df_oct[\"MeterID\"].unique()),\n",
    "                                    list(df_nov[\"MeterID\"].unique()),\n",
    "                                    list(df_dec[\"MeterID\"].unique()))).tolist()"
   ]
  },
  {
   "cell_type": "code",
   "execution_count": null,
   "id": "f5f90cde-988f-45c7-bf99-fa1b2c8524ed",
   "metadata": {},
   "outputs": [],
   "source": [
    "print(len(meters_id))\n",
    "meters_id[:10]"
   ]
  },
  {
   "cell_type": "code",
   "execution_count": null,
   "id": "833600b5-6fb9-4c84-bd24-92f81647d912",
   "metadata": {},
   "outputs": [],
   "source": [
    "df_jul['MeterID'] = df_jul['MeterID'].astype(str)\n",
    "df_jul.dtypes"
   ]
  },
  {
   "cell_type": "code",
   "execution_count": null,
   "id": "12090f74-63d1-4533-bc25-88a9e644fb6d",
   "metadata": {},
   "outputs": [],
   "source": [
    "# test \n",
    "df_jan.dtypes"
   ]
  },
  {
   "cell_type": "code",
   "execution_count": 2,
   "id": "add0feb9-46b6-40da-b1b1-d18d7ddc4ddb",
   "metadata": {},
   "outputs": [],
   "source": [
    "def wrangle(filepath):\n",
    "    # Read CSV file\n",
    "    df = pd.read_csv(filepath)\n",
    "    \n",
    "    # Change int64 to object\n",
    "    df[\"MeterID\"] = df[\"MeterID\"].astype(\"str\")\n",
    "\n",
    "    # Change object to datetime\n",
    "    df[\"DATE-Time\"] = pd.to_datetime(df[\"DATE-Time\"], infer_datetime_format=True)\n",
    "    \n",
    "    return df"
   ]
  },
  {
   "cell_type": "code",
   "execution_count": 3,
   "id": "f281ef43-dd7c-4ba7-8812-bb39edc4ad89",
   "metadata": {},
   "outputs": [
    {
     "data": {
      "text/plain": [
       "['datasets/01JAN2021.csv',\n",
       " 'datasets/02FEB2021.csv',\n",
       " 'datasets/03MAR2021.csv',\n",
       " 'datasets/04APR2021.csv',\n",
       " 'datasets/05MAY2021.csv',\n",
       " 'datasets/06JUN2021.csv',\n",
       " 'datasets/07JUL2021.csv',\n",
       " 'datasets/08AUG2021.csv',\n",
       " 'datasets/09SEP2021.csv',\n",
       " 'datasets/10OCT2021.csv',\n",
       " 'datasets/11NOV2021.csv',\n",
       " 'datasets/12DEC2021.csv']"
      ]
     },
     "execution_count": 3,
     "metadata": {},
     "output_type": "execute_result"
    }
   ],
   "source": [
    "files = sorted(glob(\"datasets/*2021.csv\"))\n",
    "files"
   ]
  },
  {
   "cell_type": "code",
   "execution_count": 5,
   "id": "294d7b35-91b2-4b7f-85a8-0daa2a50694e",
   "metadata": {},
   "outputs": [],
   "source": [
    "frames = []\n",
    "for file in files:\n",
    "    df = wrangle(file)\n",
    "    frames.append(df)"
   ]
  },
  {
   "cell_type": "code",
   "execution_count": 17,
   "id": "7546076d-283b-4173-a54e-c9fbb3ef86f5",
   "metadata": {},
   "outputs": [],
   "source": [
    "del frames"
   ]
  },
  {
   "cell_type": "code",
   "execution_count": 4,
   "id": "1ea9dbd8-c9d7-4348-8ddc-db3fa0968e92",
   "metadata": {},
   "outputs": [
    {
     "data": {
      "application/vnd.jupyter.widget-view+json": {
       "model_id": "0162bb451189494080eae98613e33390",
       "version_major": 2,
       "version_minor": 0
      },
      "text/plain": [
       "  0%|          | 0/12 [00:00<?, ?it/s]"
      ]
     },
     "metadata": {},
     "output_type": "display_data"
    }
   ],
   "source": [
    "base_df = pd.DataFrame()\n",
    "for file in tqdm(files):\n",
    "    df = wrangle(file)\n",
    "    # frames.append(df)\n",
    "    base_df = pd.concat([base_df, df])"
   ]
  },
  {
   "cell_type": "code",
   "execution_count": 22,
   "id": "9310fdb3-a046-4214-824c-0e55ec02788a",
   "metadata": {},
   "outputs": [],
   "source": [
    "base_df = base_df[base_df[\"MeterID\"].isin(df_user[\"MeterID\"].astype(str).tolist())]"
   ]
  },
  {
   "cell_type": "code",
   "execution_count": 26,
   "id": "54cf2bcd-4632-4dd5-a910-710020d05397",
   "metadata": {},
   "outputs": [],
   "source": [
    "base_df.to_csv(\"datasets/All_months.csv\", index=False)"
   ]
  },
  {
   "cell_type": "code",
   "execution_count": 27,
   "id": "4d695fb9-e4ce-4ec7-983c-91f7abb2f95c",
   "metadata": {},
   "outputs": [
    {
     "data": {
      "text/plain": [
       "MeterID         0\n",
       "DATE-Time       0\n",
       "KWH          1328\n",
       "dtype: int64"
      ]
     },
     "execution_count": 27,
     "metadata": {},
     "output_type": "execute_result"
    }
   ],
   "source": [
    "base_df.isnull().sum()"
   ]
  },
  {
   "cell_type": "code",
   "execution_count": 21,
   "id": "7de46ffa-6cf2-4ba7-88ec-2b4c2eb7b825",
   "metadata": {},
   "outputs": [
    {
     "data": {
      "text/html": [
       "<div>\n",
       "<style scoped>\n",
       "    .dataframe tbody tr th:only-of-type {\n",
       "        vertical-align: middle;\n",
       "    }\n",
       "\n",
       "    .dataframe tbody tr th {\n",
       "        vertical-align: top;\n",
       "    }\n",
       "\n",
       "    .dataframe thead th {\n",
       "        text-align: right;\n",
       "    }\n",
       "</style>\n",
       "<table border=\"1\" class=\"dataframe\">\n",
       "  <thead>\n",
       "    <tr style=\"text-align: right;\">\n",
       "      <th></th>\n",
       "      <th>MeterID</th>\n",
       "      <th>DATE-Time</th>\n",
       "      <th>KWH</th>\n",
       "    </tr>\n",
       "  </thead>\n",
       "  <tbody>\n",
       "    <tr>\n",
       "      <th>1167360</th>\n",
       "      <td>6200016389</td>\n",
       "      <td>2021-01-01 00:00:00</td>\n",
       "      <td>0.145</td>\n",
       "    </tr>\n",
       "    <tr>\n",
       "      <th>1167361</th>\n",
       "      <td>6200016389</td>\n",
       "      <td>2021-01-01 00:15:00</td>\n",
       "      <td>0.128</td>\n",
       "    </tr>\n",
       "    <tr>\n",
       "      <th>1167362</th>\n",
       "      <td>6200016389</td>\n",
       "      <td>2021-01-01 00:30:00</td>\n",
       "      <td>0.079</td>\n",
       "    </tr>\n",
       "    <tr>\n",
       "      <th>1167363</th>\n",
       "      <td>6200016389</td>\n",
       "      <td>2021-01-01 00:45:00</td>\n",
       "      <td>0.110</td>\n",
       "    </tr>\n",
       "    <tr>\n",
       "      <th>1167364</th>\n",
       "      <td>6200016389</td>\n",
       "      <td>2021-01-01 01:00:00</td>\n",
       "      <td>0.145</td>\n",
       "    </tr>\n",
       "    <tr>\n",
       "      <th>...</th>\n",
       "      <td>...</td>\n",
       "      <td>...</td>\n",
       "      <td>...</td>\n",
       "    </tr>\n",
       "    <tr>\n",
       "      <th>1206242</th>\n",
       "      <td>6200016389</td>\n",
       "      <td>2021-12-31 22:45:00</td>\n",
       "      <td>0.125</td>\n",
       "    </tr>\n",
       "    <tr>\n",
       "      <th>1206243</th>\n",
       "      <td>6200016389</td>\n",
       "      <td>2021-12-31 23:00:00</td>\n",
       "      <td>0.124</td>\n",
       "    </tr>\n",
       "    <tr>\n",
       "      <th>1206244</th>\n",
       "      <td>6200016389</td>\n",
       "      <td>2021-12-31 23:15:00</td>\n",
       "      <td>0.096</td>\n",
       "    </tr>\n",
       "    <tr>\n",
       "      <th>1206245</th>\n",
       "      <td>6200016389</td>\n",
       "      <td>2021-12-31 23:30:00</td>\n",
       "      <td>0.215</td>\n",
       "    </tr>\n",
       "    <tr>\n",
       "      <th>1206246</th>\n",
       "      <td>6200016389</td>\n",
       "      <td>2021-12-31 23:45:00</td>\n",
       "      <td>0.241</td>\n",
       "    </tr>\n",
       "  </tbody>\n",
       "</table>\n",
       "<p>33984 rows × 3 columns</p>\n",
       "</div>"
      ],
      "text/plain": [
       "            MeterID           DATE-Time    KWH\n",
       "1167360  6200016389 2021-01-01 00:00:00  0.145\n",
       "1167361  6200016389 2021-01-01 00:15:00  0.128\n",
       "1167362  6200016389 2021-01-01 00:30:00  0.079\n",
       "1167363  6200016389 2021-01-01 00:45:00  0.110\n",
       "1167364  6200016389 2021-01-01 01:00:00  0.145\n",
       "...             ...                 ...    ...\n",
       "1206242  6200016389 2021-12-31 22:45:00  0.125\n",
       "1206243  6200016389 2021-12-31 23:00:00  0.124\n",
       "1206244  6200016389 2021-12-31 23:15:00  0.096\n",
       "1206245  6200016389 2021-12-31 23:30:00  0.215\n",
       "1206246  6200016389 2021-12-31 23:45:00  0.241\n",
       "\n",
       "[33984 rows x 3 columns]"
      ]
     },
     "execution_count": 21,
     "metadata": {},
     "output_type": "execute_result"
    }
   ],
   "source": [
    "base_df[base_df[\"MeterID\"] == \"6200016389\"]"
   ]
  },
  {
   "cell_type": "code",
   "execution_count": null,
   "id": "f2c8fb1f-ac0f-4234-a5b0-fe46f8b9ea34",
   "metadata": {},
   "outputs": [],
   "source": [
    "()"
   ]
  },
  {
   "cell_type": "code",
   "execution_count": null,
   "id": "de20aedd-bdb8-4ee6-8708-843933d97e22",
   "metadata": {},
   "outputs": [],
   "source": [
    "type(frames)"
   ]
  },
  {
   "cell_type": "code",
   "execution_count": null,
   "id": "b3fec887-c40a-44b0-8537-1704dc86d51f",
   "metadata": {},
   "outputs": [],
   "source": [
    "type(meters_id)"
   ]
  },
  {
   "cell_type": "code",
   "execution_count": null,
   "id": "7c59c9c7-9fc0-4ba0-b6de-bc4bb2f46545",
   "metadata": {},
   "outputs": [],
   "source": [
    "meters_id[:5]"
   ]
  },
  {
   "cell_type": "code",
   "execution_count": null,
   "id": "33a6cf69-2b04-45ee-9446-3a88030659f3",
   "metadata": {},
   "outputs": [],
   "source": [
    "cols = ['MeterID']\n",
    "df_meter = pd.DataFrame(meters_id, columns=cols)\n",
    "df_meter"
   ]
  },
  {
   "cell_type": "code",
   "execution_count": null,
   "id": "db911eac-ad3e-4b14-8eb2-3df562d55528",
   "metadata": {},
   "outputs": [],
   "source": [
    "# saving the dataframe \n",
    "filepath = \"datasets/meterid.csv\"\n",
    "df_meter.to_csv(filepath, index=False)"
   ]
  },
  {
   "cell_type": "code",
   "execution_count": 6,
   "id": "8ecf3055-dc90-4f19-9900-1d5f1cca170f",
   "metadata": {},
   "outputs": [
    {
     "name": "stdout",
     "output_type": "stream",
     "text": [
      "8535\n"
     ]
    }
   ],
   "source": [
    "# Test\n",
    "df_user = pd.read_csv(\"datasets/meterid.csv\")  # number id of users\n",
    "print(len(df_user))"
   ]
  },
  {
   "cell_type": "code",
   "execution_count": 7,
   "id": "6a9172c1-3049-4e1a-8416-40b575a0163d",
   "metadata": {},
   "outputs": [
    {
     "data": {
      "text/html": [
       "<div>\n",
       "<style scoped>\n",
       "    .dataframe tbody tr th:only-of-type {\n",
       "        vertical-align: middle;\n",
       "    }\n",
       "\n",
       "    .dataframe tbody tr th {\n",
       "        vertical-align: top;\n",
       "    }\n",
       "\n",
       "    .dataframe thead th {\n",
       "        text-align: right;\n",
       "    }\n",
       "</style>\n",
       "<table border=\"1\" class=\"dataframe\">\n",
       "  <thead>\n",
       "    <tr style=\"text-align: right;\">\n",
       "      <th></th>\n",
       "      <th>MeterID</th>\n",
       "    </tr>\n",
       "  </thead>\n",
       "  <tbody>\n",
       "    <tr>\n",
       "      <th>0</th>\n",
       "      <td>6200016389</td>\n",
       "    </tr>\n",
       "    <tr>\n",
       "      <th>1</th>\n",
       "      <td>6200020092</td>\n",
       "    </tr>\n",
       "    <tr>\n",
       "      <th>2</th>\n",
       "      <td>6200020094</td>\n",
       "    </tr>\n",
       "    <tr>\n",
       "      <th>3</th>\n",
       "      <td>6200020383</td>\n",
       "    </tr>\n",
       "    <tr>\n",
       "      <th>4</th>\n",
       "      <td>6200020385</td>\n",
       "    </tr>\n",
       "    <tr>\n",
       "      <th>...</th>\n",
       "      <td>...</td>\n",
       "    </tr>\n",
       "    <tr>\n",
       "      <th>8530</th>\n",
       "      <td>6200116734</td>\n",
       "    </tr>\n",
       "    <tr>\n",
       "      <th>8531</th>\n",
       "      <td>6200116737</td>\n",
       "    </tr>\n",
       "    <tr>\n",
       "      <th>8532</th>\n",
       "      <td>6200117386</td>\n",
       "    </tr>\n",
       "    <tr>\n",
       "      <th>8533</th>\n",
       "      <td>6200118330</td>\n",
       "    </tr>\n",
       "    <tr>\n",
       "      <th>8534</th>\n",
       "      <td>6200120489</td>\n",
       "    </tr>\n",
       "  </tbody>\n",
       "</table>\n",
       "<p>8535 rows × 1 columns</p>\n",
       "</div>"
      ],
      "text/plain": [
       "         MeterID\n",
       "0     6200016389\n",
       "1     6200020092\n",
       "2     6200020094\n",
       "3     6200020383\n",
       "4     6200020385\n",
       "...          ...\n",
       "8530  6200116734\n",
       "8531  6200116737\n",
       "8532  6200117386\n",
       "8533  6200118330\n",
       "8534  6200120489\n",
       "\n",
       "[8535 rows x 1 columns]"
      ]
     },
     "execution_count": 7,
     "metadata": {},
     "output_type": "execute_result"
    }
   ],
   "source": [
    "df_user"
   ]
  },
  {
   "cell_type": "code",
   "execution_count": null,
   "id": "8bf1dcd2-3aa0-4b85-99a4-c26277970828",
   "metadata": {},
   "outputs": [],
   "source": [
    "df_user[\"MeterID\"]"
   ]
  },
  {
   "cell_type": "code",
   "execution_count": null,
   "id": "cc6e1f3b-bc24-46e0-a579-9fdc0983e804",
   "metadata": {},
   "outputs": [],
   "source": [
    "type(frames[0])"
   ]
  },
  {
   "cell_type": "code",
   "execution_count": null,
   "id": "3d6befb7-89c0-4bfc-a2da-5935374fe034",
   "metadata": {},
   "outputs": [],
   "source": [
    "frames[0]"
   ]
  },
  {
   "cell_type": "code",
   "execution_count": null,
   "id": "00d9b6e8-f4ff-4553-ad60-1131226f6a2c",
   "metadata": {},
   "outputs": [],
   "source": [
    "frames[0][frames[0]['MeterID']== meters_id[0]]"
   ]
  },
  {
   "cell_type": "code",
   "execution_count": null,
   "id": "f1b46eca-b26c-4a50-8626-bd6e1d5c68f4",
   "metadata": {},
   "outputs": [],
   "source": [
    "meters_id[0].dtype"
   ]
  },
  {
   "cell_type": "code",
   "execution_count": null,
   "id": "63541b51-92be-4298-9da8-67bd8ac8dbf4",
   "metadata": {},
   "outputs": [],
   "source": [
    "frames[0]['MeterID']"
   ]
  },
  {
   "cell_type": "code",
   "execution_count": 15,
   "id": "d861122b-a6eb-4615-bce2-b1c93d92c65d",
   "metadata": {},
   "outputs": [
    {
     "data": {
      "application/vnd.jupyter.widget-view+json": {
       "model_id": "970231345a7445c28847b9808098527d",
       "version_major": 2,
       "version_minor": 0
      },
      "text/plain": [
       "  0%|          | 0/8535 [00:00<?, ?it/s]"
      ]
     },
     "metadata": {},
     "output_type": "display_data"
    },
    {
     "name": "stdout",
     "output_type": "stream",
     "text": [
      "6200016389\n",
      "6200020092\n",
      "6200020094\n",
      "6200020383\n",
      "6200020385\n",
      "6200020386\n",
      "6200020389\n",
      "6200020426\n",
      "6200020427\n",
      "6200020430\n",
      "6200021112\n",
      "6200021113\n",
      "6200021115\n",
      "6200021191\n",
      "6200021238\n",
      "6200021291\n",
      "6200021298\n",
      "6200021365\n",
      "6200021399\n",
      "6200021400\n",
      "6200021402\n",
      "6200021403\n",
      "6200021413\n",
      "6200021417\n",
      "6200021428\n",
      "6200021507\n",
      "6200021519\n"
     ]
    },
    {
     "ename": "KeyboardInterrupt",
     "evalue": "",
     "output_type": "error",
     "traceback": [
      "\u001b[0;31m---------------------------------------------------------------------------\u001b[0m",
      "\u001b[0;31mKeyboardInterrupt\u001b[0m                         Traceback (most recent call last)",
      "Cell \u001b[0;32mIn [15], line 5\u001b[0m\n\u001b[1;32m      3\u001b[0m month_list \u001b[38;5;241m=\u001b[39m []\n\u001b[1;32m      4\u001b[0m \u001b[38;5;28;01mfor\u001b[39;00m monthdf \u001b[38;5;129;01min\u001b[39;00m frames:\n\u001b[0;32m----> 5\u001b[0m     selected_df \u001b[38;5;241m=\u001b[39m monthdf[\u001b[43mmonthdf\u001b[49m\u001b[43m[\u001b[49m\u001b[38;5;124;43m\"\u001b[39;49m\u001b[38;5;124;43mMeterID\u001b[39;49m\u001b[38;5;124;43m\"\u001b[39;49m\u001b[43m]\u001b[49m\u001b[43m \u001b[49m\u001b[38;5;241;43m==\u001b[39;49m\u001b[43m \u001b[49m\u001b[38;5;28;43mstr\u001b[39;49m\u001b[43m(\u001b[49m\u001b[43muserid\u001b[49m\u001b[43m)\u001b[49m]\n\u001b[1;32m      6\u001b[0m     month_list\u001b[38;5;241m.\u001b[39mappend(selected_df)\n\u001b[1;32m      7\u001b[0m     \u001b[38;5;66;03m# print(monthdf)\u001b[39;00m\n",
      "File \u001b[0;32m~/.local/lib/python3.8/site-packages/pandas/core/ops/common.py:72\u001b[0m, in \u001b[0;36m_unpack_zerodim_and_defer.<locals>.new_method\u001b[0;34m(self, other)\u001b[0m\n\u001b[1;32m     68\u001b[0m             \u001b[38;5;28;01mreturn\u001b[39;00m \u001b[38;5;28mNotImplemented\u001b[39m\n\u001b[1;32m     70\u001b[0m other \u001b[38;5;241m=\u001b[39m item_from_zerodim(other)\n\u001b[0;32m---> 72\u001b[0m \u001b[38;5;28;01mreturn\u001b[39;00m \u001b[43mmethod\u001b[49m\u001b[43m(\u001b[49m\u001b[38;5;28;43mself\u001b[39;49m\u001b[43m,\u001b[49m\u001b[43m \u001b[49m\u001b[43mother\u001b[49m\u001b[43m)\u001b[49m\n",
      "File \u001b[0;32m~/.local/lib/python3.8/site-packages/pandas/core/arraylike.py:42\u001b[0m, in \u001b[0;36mOpsMixin.__eq__\u001b[0;34m(self, other)\u001b[0m\n\u001b[1;32m     40\u001b[0m \u001b[38;5;129m@unpack_zerodim_and_defer\u001b[39m(\u001b[38;5;124m\"\u001b[39m\u001b[38;5;124m__eq__\u001b[39m\u001b[38;5;124m\"\u001b[39m)\n\u001b[1;32m     41\u001b[0m \u001b[38;5;28;01mdef\u001b[39;00m \u001b[38;5;21m__eq__\u001b[39m(\u001b[38;5;28mself\u001b[39m, other):\n\u001b[0;32m---> 42\u001b[0m     \u001b[38;5;28;01mreturn\u001b[39;00m \u001b[38;5;28;43mself\u001b[39;49m\u001b[38;5;241;43m.\u001b[39;49m\u001b[43m_cmp_method\u001b[49m\u001b[43m(\u001b[49m\u001b[43mother\u001b[49m\u001b[43m,\u001b[49m\u001b[43m \u001b[49m\u001b[43moperator\u001b[49m\u001b[38;5;241;43m.\u001b[39;49m\u001b[43meq\u001b[49m\u001b[43m)\u001b[49m\n",
      "File \u001b[0;32m~/.local/lib/python3.8/site-packages/pandas/core/series.py:6243\u001b[0m, in \u001b[0;36mSeries._cmp_method\u001b[0;34m(self, other, op)\u001b[0m\n\u001b[1;32m   6240\u001b[0m rvalues \u001b[38;5;241m=\u001b[39m extract_array(other, extract_numpy\u001b[38;5;241m=\u001b[39m\u001b[38;5;28;01mTrue\u001b[39;00m, extract_range\u001b[38;5;241m=\u001b[39m\u001b[38;5;28;01mTrue\u001b[39;00m)\n\u001b[1;32m   6242\u001b[0m \u001b[38;5;28;01mwith\u001b[39;00m np\u001b[38;5;241m.\u001b[39merrstate(\u001b[38;5;28mall\u001b[39m\u001b[38;5;241m=\u001b[39m\u001b[38;5;124m\"\u001b[39m\u001b[38;5;124mignore\u001b[39m\u001b[38;5;124m\"\u001b[39m):\n\u001b[0;32m-> 6243\u001b[0m     res_values \u001b[38;5;241m=\u001b[39m \u001b[43mops\u001b[49m\u001b[38;5;241;43m.\u001b[39;49m\u001b[43mcomparison_op\u001b[49m\u001b[43m(\u001b[49m\u001b[43mlvalues\u001b[49m\u001b[43m,\u001b[49m\u001b[43m \u001b[49m\u001b[43mrvalues\u001b[49m\u001b[43m,\u001b[49m\u001b[43m \u001b[49m\u001b[43mop\u001b[49m\u001b[43m)\u001b[49m\n\u001b[1;32m   6245\u001b[0m \u001b[38;5;28;01mreturn\u001b[39;00m \u001b[38;5;28mself\u001b[39m\u001b[38;5;241m.\u001b[39m_construct_result(res_values, name\u001b[38;5;241m=\u001b[39mres_name)\n",
      "File \u001b[0;32m~/.local/lib/python3.8/site-packages/pandas/core/ops/array_ops.py:287\u001b[0m, in \u001b[0;36mcomparison_op\u001b[0;34m(left, right, op)\u001b[0m\n\u001b[1;32m    284\u001b[0m     \u001b[38;5;28;01mreturn\u001b[39;00m invalid_comparison(lvalues, rvalues, op)\n\u001b[1;32m    286\u001b[0m \u001b[38;5;28;01melif\u001b[39;00m is_object_dtype(lvalues\u001b[38;5;241m.\u001b[39mdtype) \u001b[38;5;129;01mor\u001b[39;00m \u001b[38;5;28misinstance\u001b[39m(rvalues, \u001b[38;5;28mstr\u001b[39m):\n\u001b[0;32m--> 287\u001b[0m     res_values \u001b[38;5;241m=\u001b[39m \u001b[43mcomp_method_OBJECT_ARRAY\u001b[49m\u001b[43m(\u001b[49m\u001b[43mop\u001b[49m\u001b[43m,\u001b[49m\u001b[43m \u001b[49m\u001b[43mlvalues\u001b[49m\u001b[43m,\u001b[49m\u001b[43m \u001b[49m\u001b[43mrvalues\u001b[49m\u001b[43m)\u001b[49m\n\u001b[1;32m    289\u001b[0m \u001b[38;5;28;01melse\u001b[39;00m:\n\u001b[1;32m    290\u001b[0m     res_values \u001b[38;5;241m=\u001b[39m _na_arithmetic_op(lvalues, rvalues, op, is_cmp\u001b[38;5;241m=\u001b[39m\u001b[38;5;28;01mTrue\u001b[39;00m)\n",
      "File \u001b[0;32m~/.local/lib/python3.8/site-packages/pandas/core/ops/array_ops.py:75\u001b[0m, in \u001b[0;36mcomp_method_OBJECT_ARRAY\u001b[0;34m(op, x, y)\u001b[0m\n\u001b[1;32m     73\u001b[0m     result \u001b[38;5;241m=\u001b[39m libops\u001b[38;5;241m.\u001b[39mvec_compare(x\u001b[38;5;241m.\u001b[39mravel(), y\u001b[38;5;241m.\u001b[39mravel(), op)\n\u001b[1;32m     74\u001b[0m \u001b[38;5;28;01melse\u001b[39;00m:\n\u001b[0;32m---> 75\u001b[0m     result \u001b[38;5;241m=\u001b[39m \u001b[43mlibops\u001b[49m\u001b[38;5;241;43m.\u001b[39;49m\u001b[43mscalar_compare\u001b[49m\u001b[43m(\u001b[49m\u001b[43mx\u001b[49m\u001b[38;5;241;43m.\u001b[39;49m\u001b[43mravel\u001b[49m\u001b[43m(\u001b[49m\u001b[43m)\u001b[49m\u001b[43m,\u001b[49m\u001b[43m \u001b[49m\u001b[43my\u001b[49m\u001b[43m,\u001b[49m\u001b[43m \u001b[49m\u001b[43mop\u001b[49m\u001b[43m)\u001b[49m\n\u001b[1;32m     76\u001b[0m \u001b[38;5;28;01mreturn\u001b[39;00m result\u001b[38;5;241m.\u001b[39mreshape(x\u001b[38;5;241m.\u001b[39mshape)\n",
      "\u001b[0;31mKeyboardInterrupt\u001b[0m: "
     ]
    }
   ],
   "source": [
    "for userid in tqdm(df_user[\"MeterID\"]):\n",
    "    print(userid)\n",
    "    month_list = []\n",
    "    for monthdf in frames:\n",
    "        selected_df = monthdf[monthdf[\"MeterID\"] == str(userid)]\n",
    "        month_list.append(selected_df)\n",
    "        # print(monthdf)\n",
    "    \n",
    "    pd.concat(month_list).to_csv(f\"datasets/Meterid/{userid}.csv\")\n",
    "    # break"
   ]
  },
  {
   "cell_type": "code",
   "execution_count": 12,
   "id": "64e14b0f-303d-4c80-b2ab-c83896c40f91",
   "metadata": {},
   "outputs": [
    {
     "data": {
      "text/html": [
       "<div>\n",
       "<style scoped>\n",
       "    .dataframe tbody tr th:only-of-type {\n",
       "        vertical-align: middle;\n",
       "    }\n",
       "\n",
       "    .dataframe tbody tr th {\n",
       "        vertical-align: top;\n",
       "    }\n",
       "\n",
       "    .dataframe thead th {\n",
       "        text-align: right;\n",
       "    }\n",
       "</style>\n",
       "<table border=\"1\" class=\"dataframe\">\n",
       "  <thead>\n",
       "    <tr style=\"text-align: right;\">\n",
       "      <th></th>\n",
       "      <th>MeterID</th>\n",
       "      <th>DATE-Time</th>\n",
       "      <th>KWH</th>\n",
       "    </tr>\n",
       "  </thead>\n",
       "  <tbody>\n",
       "    <tr>\n",
       "      <th>1167360</th>\n",
       "      <td>6200016389</td>\n",
       "      <td>2021-01-01 00:00:00</td>\n",
       "      <td>0.145</td>\n",
       "    </tr>\n",
       "    <tr>\n",
       "      <th>1167361</th>\n",
       "      <td>6200016389</td>\n",
       "      <td>2021-01-01 00:15:00</td>\n",
       "      <td>0.128</td>\n",
       "    </tr>\n",
       "    <tr>\n",
       "      <th>1167362</th>\n",
       "      <td>6200016389</td>\n",
       "      <td>2021-01-01 00:30:00</td>\n",
       "      <td>0.079</td>\n",
       "    </tr>\n",
       "    <tr>\n",
       "      <th>1167363</th>\n",
       "      <td>6200016389</td>\n",
       "      <td>2021-01-01 00:45:00</td>\n",
       "      <td>0.110</td>\n",
       "    </tr>\n",
       "    <tr>\n",
       "      <th>1167364</th>\n",
       "      <td>6200016389</td>\n",
       "      <td>2021-01-01 01:00:00</td>\n",
       "      <td>0.145</td>\n",
       "    </tr>\n",
       "    <tr>\n",
       "      <th>...</th>\n",
       "      <td>...</td>\n",
       "      <td>...</td>\n",
       "      <td>...</td>\n",
       "    </tr>\n",
       "    <tr>\n",
       "      <th>1206242</th>\n",
       "      <td>6200016389</td>\n",
       "      <td>2021-12-31 22:45:00</td>\n",
       "      <td>0.125</td>\n",
       "    </tr>\n",
       "    <tr>\n",
       "      <th>1206243</th>\n",
       "      <td>6200016389</td>\n",
       "      <td>2021-12-31 23:00:00</td>\n",
       "      <td>0.124</td>\n",
       "    </tr>\n",
       "    <tr>\n",
       "      <th>1206244</th>\n",
       "      <td>6200016389</td>\n",
       "      <td>2021-12-31 23:15:00</td>\n",
       "      <td>0.096</td>\n",
       "    </tr>\n",
       "    <tr>\n",
       "      <th>1206245</th>\n",
       "      <td>6200016389</td>\n",
       "      <td>2021-12-31 23:30:00</td>\n",
       "      <td>0.215</td>\n",
       "    </tr>\n",
       "    <tr>\n",
       "      <th>1206246</th>\n",
       "      <td>6200016389</td>\n",
       "      <td>2021-12-31 23:45:00</td>\n",
       "      <td>0.241</td>\n",
       "    </tr>\n",
       "  </tbody>\n",
       "</table>\n",
       "<p>33984 rows × 3 columns</p>\n",
       "</div>"
      ],
      "text/plain": [
       "            MeterID           DATE-Time    KWH\n",
       "1167360  6200016389 2021-01-01 00:00:00  0.145\n",
       "1167361  6200016389 2021-01-01 00:15:00  0.128\n",
       "1167362  6200016389 2021-01-01 00:30:00  0.079\n",
       "1167363  6200016389 2021-01-01 00:45:00  0.110\n",
       "1167364  6200016389 2021-01-01 01:00:00  0.145\n",
       "...             ...                 ...    ...\n",
       "1206242  6200016389 2021-12-31 22:45:00  0.125\n",
       "1206243  6200016389 2021-12-31 23:00:00  0.124\n",
       "1206244  6200016389 2021-12-31 23:15:00  0.096\n",
       "1206245  6200016389 2021-12-31 23:30:00  0.215\n",
       "1206246  6200016389 2021-12-31 23:45:00  0.241\n",
       "\n",
       "[33984 rows x 3 columns]"
      ]
     },
     "execution_count": 12,
     "metadata": {},
     "output_type": "execute_result"
    }
   ],
   "source": [
    "pd.concat(month_list)"
   ]
  },
  {
   "cell_type": "code",
   "execution_count": null,
   "id": "f9c6493f-3efe-472f-a328-b2c4cdd26226",
   "metadata": {},
   "outputs": [],
   "source": [
    "monthdf[monthdf[\"MeterID\"] == str(userid)]"
   ]
  },
  {
   "cell_type": "code",
   "execution_count": null,
   "id": "254eb23e-d80d-41dc-bceb-e398af3a468f",
   "metadata": {},
   "outputs": [],
   "source": [
    "userid"
   ]
  },
  {
   "cell_type": "code",
   "execution_count": null,
   "id": "8af89447-4473-4b81-b131-23f424250da4",
   "metadata": {},
   "outputs": [],
   "source": []
  }
 ],
 "metadata": {
  "kernelspec": {
   "display_name": "Python 3 (ipykernel)",
   "language": "python",
   "name": "python3"
  },
  "language_info": {
   "codemirror_mode": {
    "name": "ipython",
    "version": 3
   },
   "file_extension": ".py",
   "mimetype": "text/x-python",
   "name": "python",
   "nbconvert_exporter": "python",
   "pygments_lexer": "ipython3",
   "version": "3.8.10"
  }
 },
 "nbformat": 4,
 "nbformat_minor": 5
}
